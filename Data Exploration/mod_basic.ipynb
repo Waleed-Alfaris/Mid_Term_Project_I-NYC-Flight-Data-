{
 "cells": [
  {
   "cell_type": "code",
   "execution_count": 1,
   "metadata": {},
   "outputs": [],
   "source": [
    "import pandas as pd\n",
    "flights = pd.read_csv('modules/samples/flights_sample.csv',sep=';')\n",
    "import numpy as np\n",
    "from sklearn.model_selection import train_test_split\n",
    "\n",
    "flights.columns\n",
    "\n",
    "flights.isnull().sum().sort_values(ascending=False)[:10].index\n",
    "\n",
    "flights['cancelled'].value_counts()\n",
    "\n",
    "y = flights['arr_delay']\n",
    "X = flights[['Unnamed: 0', 'Unnamed: 0.1', 'fl_date', 'mkt_unique_carrier',\n",
    "       'branded_code_share', 'mkt_carrier', 'mkt_carrier_fl_num',\n",
    "       'op_unique_carrier', 'tail_num', 'op_carrier_fl_num',\n",
    "       'origin_airport_id', 'origin', 'origin_city_name', 'dest_airport_id',\n",
    "       'dest', 'dest_city_name', 'crs_dep_time', 'dep_time', 'dep_delay',\n",
    "       'taxi_out', 'wheels_off', 'wheels_on', 'taxi_in', 'crs_arr_time',\n",
    "       'arr_time', 'cancelled', 'cancellation_code', 'diverted',\n",
    "       'dup', 'crs_elapsed_time', 'actual_elapsed_time', 'air_time', 'flights',\n",
    "       'distance', 'carrier_delay', 'weather_delay', 'nas_delay',\n",
    "       'security_delay', 'late_aircraft_delay', 'first_dep_time',\n",
    "       'total_add_gtime', 'longest_add_gtime', 'no_name']]\n",
    "\n",
    "X_train, X_test, y_train, y_test = train_test_split(X, y, test_size=.2)\n",
    "\n",
    "null = ['no_name', 'total_add_gtime', 'first_dep_time', 'longest_add_gtime',\n",
    "       'cancellation_code', 'late_aircraft_delay', 'security_delay',\n",
    "       'nas_delay', 'weather_delay', 'carrier_delay']\n",
    "\n",
    "repeat_cols = ['origin_airport_id','origin_city_name', 'dest_airport_id','dest_city_name','op_carrier_fl_num',\n",
    "              'mkt_unique_carrier','branded_code_share','op_unique_carrier','tail_num']\n",
    "\n",
    "\n",
    "logical_drop = ['Unnamed: 0', 'Unnamed: 0.1','wheels_off', 'wheels_on','cancelled','diverted','dup',\n",
    "               'flights',\n",
    "               'origin','dest','mkt_carrier_fl_num','diverted','cancelled'\n",
    "]\n",
    "\n",
    "col_to_agg = ['dep_time','arr_time','actual_elapsed_time', 'crs_dep_time','taxi_out','taxi_in',\n",
    "             'air_time']"
   ]
  },
  {
   "cell_type": "code",
   "execution_count": 2,
   "metadata": {},
   "outputs": [
    {
     "name": "stderr",
     "output_type": "stream",
     "text": [
      "C:\\Users\\yeman_s1h20q2\\anaconda3\\lib\\site-packages\\pandas\\core\\frame.py:3990: SettingWithCopyWarning: \n",
      "A value is trying to be set on a copy of a slice from a DataFrame\n",
      "\n",
      "See the caveats in the documentation: https://pandas.pydata.org/pandas-docs/stable/user_guide/indexing.html#returning-a-view-versus-a-copy\n",
      "  return super().drop(\n",
      "C:\\Users\\yeman_s1h20q2\\anaconda3\\lib\\site-packages\\pandas\\core\\generic.py:6245: SettingWithCopyWarning: \n",
      "A value is trying to be set on a copy of a slice from a DataFrame\n",
      "\n",
      "See the caveats in the documentation: https://pandas.pydata.org/pandas-docs/stable/user_guide/indexing.html#returning-a-view-versus-a-copy\n",
      "  self._update_inplace(new_data)\n",
      "C:\\Users\\yeman_s1h20q2\\anaconda3\\lib\\site-packages\\pandas\\core\\indexing.py:965: SettingWithCopyWarning: \n",
      "A value is trying to be set on a copy of a slice from a DataFrame.\n",
      "Try using .loc[row_indexer,col_indexer] = value instead\n",
      "\n",
      "See the caveats in the documentation: https://pandas.pydata.org/pandas-docs/stable/user_guide/indexing.html#returning-a-view-versus-a-copy\n",
      "  self.obj[item] = s\n"
     ]
    }
   ],
   "source": [
    "X_train.drop(labels=null, axis=1, inplace=True)\n",
    "X_train.drop(labels=repeat_cols, axis=1, inplace=True)\n",
    "X_train.drop(labels=logical_drop, axis=1, inplace=True)\n",
    "\n",
    "\n",
    "X_test.drop(labels=null, axis=1, inplace=True)\n",
    "X_test.drop(labels=repeat_cols, axis=1, inplace=True)\n",
    "X_test.drop(labels=logical_drop, axis=1, inplace=True)\n",
    "\n",
    "\n",
    "for col in X_train.columns:\n",
    "    if X_train[col].isnull().sum() > 70000:\n",
    "        X_train.drop(labels=col, axis=1, inplace=True)\n",
    "        \n",
    "for col in X_train.columns:\n",
    "    if X_train[col].isnull().sum() < 70000:\n",
    "        if X_train[col].dtype == 'float64':\n",
    "            X_train[col].fillna(X_train[col].mean(), inplace=True)\n",
    "        else:\n",
    "            X_train[col].fillna(X_train[col].mode(), inplace=True)        \n",
    "\n",
    "##\n",
    "\n",
    "for col in X_test.columns:\n",
    "    if X_test[col].isnull().sum() > 70000:\n",
    "        X_test.drop(labels=col, axis=1, inplace=True)\n",
    "        \n",
    "for col in X_test.columns:\n",
    "    if X_test[col].isnull().sum() < 70000:\n",
    "        if X_test[col].dtype == 'float64':\n",
    "            X_test[col].fillna(X_test[col].mean(), inplace=True)\n",
    "        else:\n",
    "            X_test[col].fillna(X_test[col].mode(), inplace=True)     \n",
    "\n",
    "X_train.loc[:,'fl_date']= pd.to_datetime(X_train['fl_date']).dt.strftime('%m').astype('int64')\n",
    "\n",
    "X_test.loc[:,'fl_date']= pd.to_datetime(X_test['fl_date']).dt.strftime('%m').astype('int64')\n",
    "\n",
    "X_train = pd.get_dummies(X_train)\n",
    "\n",
    "X_test = pd.get_dummies(X_test)\n",
    "\n",
    "for col in col_to_agg:\n",
    "    for i in range(1,13):\n",
    "        X_train.loc[X_train['fl_date']==i, col]= X_train.groupby(by='fl_date').mean()[col][i]\n",
    "\n",
    "for col in col_to_agg:\n",
    "    for i in range(1,13):\n",
    "        X_test.loc[X_test['fl_date']==i, col]= X_test.groupby(by='fl_date').mean()[col][i]\n",
    "\n",
    "y_train = y_train.fillna(y_train.mean())\n",
    "\n",
    "y_test = y_test.fillna(y_test.mean())"
   ]
  },
  {
   "cell_type": "code",
   "execution_count": 3,
   "metadata": {},
   "outputs": [
    {
     "data": {
      "text/plain": [
       "0.9214697318509218"
      ]
     },
     "execution_count": 3,
     "metadata": {},
     "output_type": "execute_result"
    }
   ],
   "source": [
    "from sklearn.linear_model import LinearRegression\n",
    "\n",
    "reg = LinearRegression()\n",
    "\n",
    "\n",
    "reg.fit(X_train, y_train)\n",
    "\n",
    "reg.score(X_train, y_train)"
   ]
  },
  {
   "cell_type": "code",
   "execution_count": 39,
   "metadata": {},
   "outputs": [
    {
     "data": {
      "text/plain": [
       "0.9239307574338138"
      ]
     },
     "execution_count": 39,
     "metadata": {},
     "output_type": "execute_result"
    }
   ],
   "source": [
    "reg.score(X_test, y_test)"
   ]
  },
  {
   "cell_type": "markdown",
   "metadata": {},
   "source": [
    "---"
   ]
  },
  {
   "cell_type": "markdown",
   "metadata": {},
   "source": [
    "test lin reg on test data"
   ]
  },
  {
   "cell_type": "code",
   "execution_count": 6,
   "metadata": {},
   "outputs": [],
   "source": [
    "# y_test_pred"
   ]
  },
  {
   "cell_type": "code",
   "execution_count": 7,
   "metadata": {},
   "outputs": [
    {
     "data": {
      "text/plain": [
       "29384   -19.0\n",
       "59433    -8.0\n",
       "97806    -3.0\n",
       "592     -16.0\n",
       "20157    12.0\n",
       "         ... \n",
       "42621    17.0\n",
       "64478    99.0\n",
       "92040     2.0\n",
       "29504    -1.0\n",
       "30632    35.0\n",
       "Name: arr_delay, Length: 20000, dtype: float64"
      ]
     },
     "execution_count": 7,
     "metadata": {},
     "output_type": "execute_result"
    }
   ],
   "source": [
    "y_test"
   ]
  },
  {
   "cell_type": "code",
   "execution_count": null,
   "metadata": {},
   "outputs": [],
   "source": []
  },
  {
   "cell_type": "code",
   "execution_count": 8,
   "metadata": {},
   "outputs": [
    {
     "name": "stdout",
     "output_type": "stream",
     "text": [
      "                            OLS Regression Results                            \n",
      "==============================================================================\n",
      "Dep. Variable:              arr_delay   R-squared:                       0.921\n",
      "Model:                            OLS   Adj. R-squared:                  0.921\n",
      "Method:                 Least Squares   F-statistic:                 4.265e+04\n",
      "Date:                Mon, 08 Feb 2021   Prob (F-statistic):               0.00\n",
      "Time:                        20:32:53   Log-Likelihood:            -3.2291e+05\n",
      "No. Observations:               79996   AIC:                         6.459e+05\n",
      "Df Residuals:                   79973   BIC:                         6.461e+05\n",
      "Df Model:                          22                                         \n",
      "Covariance Type:            nonrobust                                         \n",
      "=======================================================================================\n",
      "                          coef    std err          t      P>|t|      [0.025      0.975]\n",
      "---------------------------------------------------------------------------------------\n",
      "const                  36.8116     17.798      2.068      0.039       1.928      71.696\n",
      "fl_date                -0.0035      0.021     -0.163      0.870      -0.046       0.039\n",
      "crs_dep_time           -0.1705      0.049     -3.453      0.001      -0.267      -0.074\n",
      "dep_time                0.1715      0.052      3.324      0.001       0.070       0.273\n",
      "dep_delay               1.0018      0.001    961.084      0.000       1.000       1.004\n",
      "taxi_out               13.6746      2.780      4.919      0.000       8.225      19.124\n",
      "taxi_in                15.0635      2.796      5.387      0.000       9.583      20.544\n",
      "crs_arr_time        -5.607e-05   9.41e-05     -0.596      0.551      -0.000       0.000\n",
      "arr_time               -0.0245      0.010     -2.566      0.010      -0.043      -0.006\n",
      "crs_elapsed_time       -0.1208      0.004    -31.283      0.000      -0.128      -0.113\n",
      "actual_elapsed_time   -14.0496      2.850     -4.930      0.000     -19.635      -8.464\n",
      "air_time               14.0006      2.856      4.903      0.000       8.404      19.598\n",
      "distance                0.0123      0.000     26.050      0.000       0.011       0.013\n",
      "mkt_carrier_AA          3.8617      1.623      2.380      0.017       0.681       7.042\n",
      "mkt_carrier_AS          4.8107      1.631      2.949      0.003       1.613       8.008\n",
      "mkt_carrier_B6          2.7363      1.638      1.671      0.095      -0.474       5.947\n",
      "mkt_carrier_DL          0.9321      1.624      0.574      0.566      -2.250       4.114\n",
      "mkt_carrier_F9          2.7935      1.656      1.687      0.092      -0.452       6.039\n",
      "mkt_carrier_G4          3.6975      1.670      2.214      0.027       0.424       6.971\n",
      "mkt_carrier_HA          4.8961      1.675      2.924      0.003       1.614       8.178\n",
      "mkt_carrier_NK          2.8460      1.646      1.729      0.084      -0.380       6.072\n",
      "mkt_carrier_UA          4.0359      1.624      2.485      0.013       0.853       7.219\n",
      "mkt_carrier_VX          6.4102      2.083      3.077      0.002       2.327      10.494\n",
      "mkt_carrier_WN         -0.2084      1.625     -0.128      0.898      -3.393       2.976\n",
      "==============================================================================\n",
      "Omnibus:                    26295.294   Durbin-Watson:                   2.000\n",
      "Prob(Omnibus):                  0.000   Jarque-Bera (JB):          7273048.668\n",
      "Skew:                          -0.162   Prob(JB):                         0.00\n",
      "Kurtosis:                      49.711   Cond. No.                     2.71e+17\n",
      "==============================================================================\n",
      "\n",
      "Notes:\n",
      "[1] Standard Errors assume that the covariance matrix of the errors is correctly specified.\n",
      "[2] The smallest eigenvalue is 9.41e-24. This might indicate that there are\n",
      "strong multicollinearity problems or that the design matrix is singular.\n"
     ]
    }
   ],
   "source": [
    "import statsmodels.api as sm\n",
    "X = sm.add_constant(X_train)\n",
    "model = sm.OLS(y_train,X)\n",
    "results = model.fit()\n",
    "print(results.summary())"
   ]
  },
  {
   "cell_type": "markdown",
   "metadata": {},
   "source": [
    "---\n",
    "# Random Forest Reg\n"
   ]
  },
  {
   "cell_type": "code",
   "execution_count": 10,
   "metadata": {},
   "outputs": [],
   "source": [
    "#Import Random Forest Regressor\n",
    "\n",
    "from sklearn.ensemble import RandomForestRegressor\n",
    "\n",
    "#Create a Gaussian Classifier\n",
    "clf=RandomForestRegressor()"
   ]
  },
  {
   "cell_type": "code",
   "execution_count": 11,
   "metadata": {},
   "outputs": [
    {
     "data": {
      "text/plain": [
       "RandomForestRegressor(max_depth=2, random_state=0)"
      ]
     },
     "execution_count": 11,
     "metadata": {},
     "output_type": "execute_result"
    }
   ],
   "source": [
    "regr = RandomForestRegressor(max_depth=2, random_state=0)\n",
    "regr.fit(X_train, y_train)"
   ]
  },
  {
   "cell_type": "code",
   "execution_count": 22,
   "metadata": {},
   "outputs": [],
   "source": [
    "ytp =regr.predict(X_test)"
   ]
  },
  {
   "cell_type": "code",
   "execution_count": 23,
   "metadata": {},
   "outputs": [
    {
     "data": {
      "text/plain": [
       "0.8064071580123738"
      ]
     },
     "execution_count": 23,
     "metadata": {},
     "output_type": "execute_result"
    }
   ],
   "source": [
    "from sklearn.metrics import r2_score\n",
    "\n",
    "r2_score(y_test, ytp)"
   ]
  },
  {
   "cell_type": "markdown",
   "metadata": {},
   "source": [
    "---\n",
    "# XGB REG"
   ]
  },
  {
   "cell_type": "code",
   "execution_count": 31,
   "metadata": {},
   "outputs": [],
   "source": [
    "import xgboost as xgb\n",
    "from sklearn.metrics import mean_squared_error\n",
    "\n",
    "data_dmatrix = xgb.DMatrix(data=X,label=y)\n",
    "\n",
    "xg_reg = xgb.XGBRegressor(objective ='reg:linear', colsample_bytree = 0.3, learning_rate = 0.1,\n",
    "                max_depth = 5, alpha = 10, n_estimators = 10)"
   ]
  },
  {
   "cell_type": "code",
   "execution_count": 32,
   "metadata": {},
   "outputs": [
    {
     "name": "stdout",
     "output_type": "stream",
     "text": [
      "[20:55:38] WARNING: C:/Users/Administrator/workspace/xgboost-win64_release_1.3.0/src/objective/regression_obj.cu:170: reg:linear is now deprecated in favor of reg:squarederror.\n"
     ]
    }
   ],
   "source": [
    "xg_reg.fit(X_train,y_train)\n",
    "\n",
    "preds = xg_reg.predict(X_test)"
   ]
  },
  {
   "cell_type": "code",
   "execution_count": 33,
   "metadata": {},
   "outputs": [
    {
     "name": "stdout",
     "output_type": "stream",
     "text": [
      "RMSE: 41.068616\n"
     ]
    }
   ],
   "source": [
    "rmse = np.sqrt(mean_squared_error(y_test, preds))\n",
    "print(\"RMSE: %f\" % (rmse))"
   ]
  },
  {
   "cell_type": "code",
   "execution_count": 43,
   "metadata": {},
   "outputs": [
    {
     "name": "stdout",
     "output_type": "stream",
     "text": [
      "[21:42:54] WARNING: C:/Users/Administrator/workspace/xgboost-win64_release_1.3.0/src/objective/regression_obj.cu:170: reg:linear is now deprecated in favor of reg:squarederror.\n",
      "[21:42:54] WARNING: C:/Users/Administrator/workspace/xgboost-win64_release_1.3.0/src/objective/regression_obj.cu:170: reg:linear is now deprecated in favor of reg:squarederror.\n",
      "[21:42:54] WARNING: C:/Users/Administrator/workspace/xgboost-win64_release_1.3.0/src/objective/regression_obj.cu:170: reg:linear is now deprecated in favor of reg:squarederror.\n"
     ]
    }
   ],
   "source": [
    "params = {\"objective\":\"reg:linear\",'colsample_bytree': 0.3,'learning_rate': 0.1,\n",
    "                'max_depth': 5, 'alpha': 10}\n",
    "data_dmatrix = xgb.DMatrix(data=X_train,label=y_train)\n",
    "\n",
    "cv_results = xgb.cv(dtrain=data_dmatrix, params=params, nfold=3,\n",
    "                    num_boost_round=50,early_stopping_rounds=10,metrics=\"rmse\", as_pandas=True, seed=123)\n",
    "\n",
    "\n"
   ]
  },
  {
   "cell_type": "code",
   "execution_count": 44,
   "metadata": {},
   "outputs": [
    {
     "data": {
      "text/html": [
       "<div>\n",
       "<style scoped>\n",
       "    .dataframe tbody tr th:only-of-type {\n",
       "        vertical-align: middle;\n",
       "    }\n",
       "\n",
       "    .dataframe tbody tr th {\n",
       "        vertical-align: top;\n",
       "    }\n",
       "\n",
       "    .dataframe thead th {\n",
       "        text-align: right;\n",
       "    }\n",
       "</style>\n",
       "<table border=\"1\" class=\"dataframe\">\n",
       "  <thead>\n",
       "    <tr style=\"text-align: right;\">\n",
       "      <th></th>\n",
       "      <th>train-rmse-mean</th>\n",
       "      <th>train-rmse-std</th>\n",
       "      <th>test-rmse-mean</th>\n",
       "      <th>test-rmse-std</th>\n",
       "    </tr>\n",
       "  </thead>\n",
       "  <tbody>\n",
       "    <tr>\n",
       "      <th>0</th>\n",
       "      <td>44.777920</td>\n",
       "      <td>0.336629</td>\n",
       "      <td>44.806333</td>\n",
       "      <td>0.662741</td>\n",
       "    </tr>\n",
       "    <tr>\n",
       "      <th>1</th>\n",
       "      <td>44.689732</td>\n",
       "      <td>0.351472</td>\n",
       "      <td>44.732728</td>\n",
       "      <td>0.649775</td>\n",
       "    </tr>\n",
       "    <tr>\n",
       "      <th>2</th>\n",
       "      <td>44.608630</td>\n",
       "      <td>0.326110</td>\n",
       "      <td>44.668616</td>\n",
       "      <td>0.668556</td>\n",
       "    </tr>\n",
       "    <tr>\n",
       "      <th>3</th>\n",
       "      <td>43.288389</td>\n",
       "      <td>2.059456</td>\n",
       "      <td>43.292872</td>\n",
       "      <td>1.449203</td>\n",
       "    </tr>\n",
       "    <tr>\n",
       "      <th>4</th>\n",
       "      <td>42.119167</td>\n",
       "      <td>3.652043</td>\n",
       "      <td>42.092171</td>\n",
       "      <td>3.058178</td>\n",
       "    </tr>\n",
       "  </tbody>\n",
       "</table>\n",
       "</div>"
      ],
      "text/plain": [
       "   train-rmse-mean  train-rmse-std  test-rmse-mean  test-rmse-std\n",
       "0        44.777920        0.336629       44.806333       0.662741\n",
       "1        44.689732        0.351472       44.732728       0.649775\n",
       "2        44.608630        0.326110       44.668616       0.668556\n",
       "3        43.288389        2.059456       43.292872       1.449203\n",
       "4        42.119167        3.652043       42.092171       3.058178"
      ]
     },
     "execution_count": 44,
     "metadata": {},
     "output_type": "execute_result"
    }
   ],
   "source": [
    "cv_results.head()\n"
   ]
  },
  {
   "cell_type": "code",
   "execution_count": 47,
   "metadata": {},
   "outputs": [],
   "source": [
    "import matplotlib.pyplot as plt"
   ]
  },
  {
   "cell_type": "code",
   "execution_count": 48,
   "metadata": {},
   "outputs": [
    {
     "data": {
      "text/plain": [
       "(array([1.8712e+04, 1.0800e+03, 1.3800e+02, 4.2000e+01, 8.0000e+00,\n",
       "        4.0000e+00, 5.0000e+00, 1.0000e+00, 7.0000e+00, 3.0000e+00]),\n",
       " array([ -67. ,   59.9,  186.8,  313.7,  440.6,  567.5,  694.4,  821.3,\n",
       "         948.2, 1075.1, 1202. ]),\n",
       " <BarContainer object of 10 artists>)"
      ]
     },
     "execution_count": 48,
     "metadata": {},
     "output_type": "execute_result"
    },
    {
     "data": {
      "image/png": "[encoded data removed]",
      "text/plain": [
       "<Figure size 432x288 with 1 Axes>"
      ]
     },
     "metadata": {
      "needs_background": "light"
     },
     "output_type": "display_data"
    }
   ],
   "source": [
    "plt.hist(y_test)"
   ]
  },
  {
   "cell_type": "code",
   "execution_count": 49,
   "metadata": {},
   "outputs": [
    {
     "data": {
      "text/plain": [
       "(array([1.9152e+04, 1.4200e+02, 6.7200e+02, 1.0000e+00, 7.0000e+00,\n",
       "        0.0000e+00, 0.0000e+00, 0.0000e+00, 0.0000e+00, 2.6000e+01]),\n",
       " array([ -7.07817621,  68.43733934, 143.95285488, 219.46837042,\n",
       "        294.98388597, 370.49940151, 446.01491705, 521.5304326 ,\n",
       "        597.04594814, 672.56146368, 748.07697923]),\n",
       " <BarContainer object of 10 artists>)"
      ]
     },
     "execution_count": 49,
     "metadata": {},
     "output_type": "execute_result"
    },
    {
     "data": {
      "image/png": "[encoded data removed]",
      "text/plain": [
       "<Figure size 432x288 with 1 Axes>"
      ]
     },
     "metadata": {
      "needs_background": "light"
     },
     "output_type": "display_data"
    }
   ],
   "source": [
    "plt.hist(ytp)"
   ]
  }
 ],
 "metadata": {
  "kernelspec": {
   "display_name": "Python 3",
   "language": "python",
   "name": "python3"
  },
  "language_info": {
   "codemirror_mode": {
    "name": "ipython",
    "version": 3
   },
   "file_extension": ".py",
   "mimetype": "text/x-python",
   "name": "python",
   "nbconvert_exporter": "python",
   "pygments_lexer": "ipython3",
   "version": "3.8.3"
  }
 },
 "nbformat": 4,
 "nbformat_minor": 4
}
