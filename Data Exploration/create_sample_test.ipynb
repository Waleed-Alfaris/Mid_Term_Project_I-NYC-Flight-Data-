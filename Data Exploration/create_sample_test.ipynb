{
 "cells": [
  {
   "cell_type": "code",
   "execution_count": 1,
   "metadata": {},
   "outputs": [],
   "source": [
    "import pandas as pd, numpy as np\n",
    "pd.set_option('display.max_columns', 100) #display all columns\n",
    "from modules.create_sample import create_carrier_sample, save_sample"
   ]
  },
  {
   "cell_type": "code",
   "execution_count": 13,
   "metadata": {},
   "outputs": [],
   "source": [
    "#consolidate partitioned csv files into single DF per airline\n",
    "WN = pd.concat([pd.read_csv('../Datasets/WN-1.txt', sep=';', low_memory=False), \n",
    "                pd.read_csv('../Datasets/WN-2.txt', sep=';', low_memory=False),\n",
    "                pd.read_csv('../Datasets/WN-3.txt', sep=';', low_memory=False), \n",
    "                pd.read_csv('../Datasets/WN-4.txt', sep=';', low_memory=False),\n",
    "                pd.read_csv('../Datasets/WN-5.txt', sep=';', low_memory=False), \n",
    "                pd.read_csv('../Datasets/WN-6.txt', sep=';', low_memory=False),\n",
    "                pd.read_csv('../Datasets/WN-7.txt', sep=';', low_memory=False), \n",
    "                pd.read_csv('../Datasets/WN-8.txt', sep=';', low_memory=False)],\n",
    "                axis=0, \n",
    "                ignore_index=True\n",
    "               )"
   ]
  },
  {
   "cell_type": "code",
   "execution_count": 14,
   "metadata": {},
   "outputs": [
    {
     "name": "stdout",
     "output_type": "stream",
     "text": [
      "Generating and testing samples.\n",
      "Attempt: 0\n",
      "Random_State: 10\n",
      "Sample passed KS test with Random_State: 10\n",
      "Process complete. Sample returned\n"
     ]
    }
   ],
   "source": [
    "WN_sample = create_carrier_sample(WN, verbose=True)"
   ]
  },
  {
   "cell_type": "code",
   "execution_count": 15,
   "metadata": {},
   "outputs": [
    {
     "name": "stdout",
     "output_type": "stream",
     "text": [
      "Sample saved.\n"
     ]
    }
   ],
   "source": [
    "save_sample(WN_sample, 'WN_sample')"
   ]
  },
  {
   "cell_type": "code",
   "execution_count": null,
   "metadata": {},
   "outputs": [],
   "source": []
  },
  {
   "cell_type": "markdown",
   "metadata": {},
   "source": [
    "drop_list = ['no_name', \n",
    "             'first_dep_time', \n",
    "             'total_add_gtime', \n",
    "             'longest_add_gtime', \n",
    "             'branded_code_share', \n",
    "             'mkt_carrier', \n",
    "             'origin', \n",
    "             'origin_city_name', \n",
    "             'dest', \n",
    "             'dest_city_name', \n",
    "             'cancelled'\n",
    "            ]\n",
    "\n",
    "UA.drop(labels=drop_list, axis=1, inplace=True)"
   ]
  }
 ],
 "metadata": {
  "kernelspec": {
   "display_name": "LHL_BC",
   "language": "python",
   "name": "lhl_bc"
  },
  "language_info": {
   "codemirror_mode": {
    "name": "ipython",
    "version": 3
   },
   "file_extension": ".py",
   "mimetype": "text/x-python",
   "name": "python",
   "nbconvert_exporter": "python",
   "pygments_lexer": "ipython3",
   "version": "3.8.3"
  }
 },
 "nbformat": 4,
 "nbformat_minor": 4
}
