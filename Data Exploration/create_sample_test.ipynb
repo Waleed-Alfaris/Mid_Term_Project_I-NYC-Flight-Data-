{
 "cells": [
  {
   "cell_type": "code",
   "execution_count": 8,
   "metadata": {},
   "outputs": [],
   "source": [
    "import pandas as pd, numpy as np\n",
    "pd.set_option('display.max_columns', 100) #display all columns\n",
    "from modules.create_sample import create_carrier_sample, save_sample"
   ]
  },
  {
   "cell_type": "code",
   "execution_count": 41,
   "metadata": {},
   "outputs": [],
   "source": [
    "#consolidate partitioned csv files into single DF per airline\n",
    "F9_G4_HA_VX = pd.concat([pd.read_csv('../Datasets/F9.txt', sep=';', low_memory=False), \n",
    "                         pd.read_csv('../Datasets/G4.txt', sep=';', low_memory=False),\n",
    "                         pd.read_csv('../Datasets/HA.txt', sep=';', low_memory=False), \n",
    "                         pd.read_csv('../Datasets/VX.txt', sep=';', low_memory=False)],\n",
    "                         axis=0, \n",
    "                         ignore_index=True\n",
    "                        )"
   ]
  },
  {
   "cell_type": "code",
   "execution_count": 42,
   "metadata": {},
   "outputs": [
    {
     "name": "stdout",
     "output_type": "stream",
     "text": [
      "Generating and testing samples.\n",
      "Attempt: 0\n",
      "Random_State: 10\n",
      "True 1 [True, True, True, True, True, True, True, True, True, True, True, True, True, True, True, True, True, True, True]\n",
      "Sample passed KS test with Random_State: 10\n",
      "Process complete. Sample returned\n"
     ]
    }
   ],
   "source": [
    "F9_G4_HA_VX_sample = create_carrier_sample(F9_G4_HA_VX, verbose=True)"
   ]
  },
  {
   "cell_type": "code",
   "execution_count": 43,
   "metadata": {},
   "outputs": [
    {
     "name": "stdout",
     "output_type": "stream",
     "text": [
      "Sample saved.\n"
     ]
    }
   ],
   "source": [
    "save_sample(F9_G4_HA_VX_sample, 'F9_G4_HA_VX_sample')"
   ]
  },
  {
   "cell_type": "code",
   "execution_count": null,
   "metadata": {},
   "outputs": [],
   "source": []
  },
  {
   "cell_type": "markdown",
   "metadata": {},
   "source": [
    "drop_list = ['no_name', \n",
    "             'first_dep_time', \n",
    "             'total_add_gtime', \n",
    "             'longest_add_gtime', \n",
    "             'branded_code_share', \n",
    "             'mkt_carrier', \n",
    "             'origin', \n",
    "             'origin_city_name', \n",
    "             'dest', \n",
    "             'dest_city_name', \n",
    "             'cancelled'\n",
    "            ]\n",
    "\n",
    "UA.drop(labels=drop_list, axis=1, inplace=True)"
   ]
  }
 ],
 "metadata": {
  "kernelspec": {
   "display_name": "LHL_BC",
   "language": "python",
   "name": "lhl_bc"
  },
  "language_info": {
   "codemirror_mode": {
    "name": "ipython",
    "version": 3
   },
   "file_extension": ".py",
   "mimetype": "text/x-python",
   "name": "python",
   "nbconvert_exporter": "python",
   "pygments_lexer": "ipython3",
   "version": "3.8.3"
  }
 },
 "nbformat": 4,
 "nbformat_minor": 4
}
