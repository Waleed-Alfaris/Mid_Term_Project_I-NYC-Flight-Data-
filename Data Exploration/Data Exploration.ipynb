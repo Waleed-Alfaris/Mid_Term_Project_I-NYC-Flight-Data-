{
 "cells": [
  {
   "cell_type": "code",
   "execution_count": 5,
   "metadata": {},
   "outputs": [],
   "source": [
    "import pandas as pd, numpy as np\n",
    "pd.set_option('display.max_columns', 100)"
   ]
  },
  {
   "cell_type": "code",
   "execution_count": 2,
   "metadata": {},
   "outputs": [],
   "source": [
    "AA = pd.concat([pd.read_csv('../Datasets/AA-1.txt', sep=';', low_memory=False), \n",
    "                pd.read_csv('../Datasets/AA-2.txt', sep=';', low_memory=False),\n",
    "                pd.read_csv('../Datasets/AA-3.txt', sep=';', low_memory=False),\n",
    "                pd.read_csv('../Datasets/AA-4.txt', sep=';', low_memory=False),\n",
    "                pd.read_csv('../Datasets/AA-5.txt', sep=';', low_memory=False), \n",
    "                pd.read_csv('../Datasets/AA-6.txt', sep=';', low_memory=False),\n",
    "                pd.read_csv('../Datasets/AA-7.txt', sep=';', low_memory=False),\n",
    "                pd.read_csv('../Datasets/AA-8.txt', sep=';', low_memory=False)],\n",
    "                axis=0, \n",
    "                ignore_index=True\n",
    "              )"
   ]
  },
  {
   "cell_type": "code",
   "execution_count": 4,
   "metadata": {},
   "outputs": [],
   "source": [
    "AS = pd.concat([pd.read_csv('../Datasets/AS-1.txt', sep=';', low_memory=False),\n",
    "           pd.read_csv('../Datasets/AS-2.txt', sep=';', low_memory=False)],\n",
    "           axis=0, \n",
    "           ignore_index=True\n",
    "         )"
   ]
  },
  {
   "cell_type": "code",
   "execution_count": 5,
   "metadata": {},
   "outputs": [],
   "source": [
    "Passengers = pd.concat([pd.read_csv('../Datasets/Passengers-1.txt', sep=';', low_memory=False),\n",
    "           pd.read_csv('../Datasets/Passengers-2.txt', sep=';', low_memory=False),\n",
    "           pd.read_csv('../Datasets/Passengers-3.txt', sep=';', low_memory=False),\n",
    "           pd.read_csv('../Datasets/Passengers-4.txt', sep=';', low_memory=False)],\n",
    "           axis=0, \n",
    "           ignore_index=True\n",
    "         )"
   ]
  },
  {
   "cell_type": "code",
   "execution_count": 6,
   "metadata": {},
   "outputs": [],
   "source": [
    "UA = pd.concat([pd.read_csv('../Datasets/UA-1.txt', sep=';', low_memory=False),\n",
    "           pd.read_csv('../Datasets/UA-2.txt', sep=';', low_memory=False),\n",
    "           pd.read_csv('../Datasets/UA-3.txt', sep=';', low_memory=False),\n",
    "           pd.read_csv('../Datasets/UA-4.txt', sep=';', low_memory=False),\n",
    "           pd.read_csv('../Datasets/UA-5.txt', sep=';', low_memory=False),\n",
    "           pd.read_csv('../Datasets/UA-6.txt', sep=';', low_memory=False)],\n",
    "           axis=0, \n",
    "           ignore_index=True\n",
    "         )"
   ]
  },
  {
   "cell_type": "code",
   "execution_count": 13,
   "metadata": {},
   "outputs": [],
   "source": [
    "B6 = pd.read_csv('../Datasets/B6.txt', sep=';', low_memory=False)\n",
    "F9 = pd.read_csv('../Datasets/B6.txt', sep=';', low_memory=False)\n",
    "FuelConsumption = pd.read_csv('../Datasets/Fuel_Consumption.txt', sep=';', low_memory=False)\n",
    "G4 = pd.read_csv('../Datasets/G4.txt', sep=';', low_memory=False)\n",
    "HA = pd.read_csv('../Datasets/HA.txt', sep=';', low_memory=False)\n",
    "NK = pd.read_csv('../Datasets/NK.txt', sep=';', low_memory=False)\n",
    "VX = pd.read_csv('../Datasets/VX.txt', sep=';', low_memory=False)"
   ]
  },
  {
   "cell_type": "code",
   "execution_count": 11,
   "metadata": {},
   "outputs": [
    {
     "name": "stdout",
     "output_type": "stream",
     "text": [
      "<class 'pandas.core.frame.DataFrame'>\n",
      "RangeIndex: 4138991 entries, 0 to 4138990\n",
      "Data columns (total 42 columns):\n",
      " #   Column               Non-Null Count    Dtype  \n",
      "---  ------               --------------    -----  \n",
      " 0   fl_date              4138991 non-null  object \n",
      " 1   mkt_unique_carrier   4138991 non-null  object \n",
      " 2   branded_code_share   4138991 non-null  object \n",
      " 3   mkt_carrier          4138991 non-null  object \n",
      " 4   mkt_carrier_fl_num   4138991 non-null  int64  \n",
      " 5   op_unique_carrier    4138991 non-null  object \n",
      " 6   tail_num             4131641 non-null  object \n",
      " 7   op_carrier_fl_num    4138991 non-null  int64  \n",
      " 8   origin_airport_id    4138991 non-null  int64  \n",
      " 9   origin               4138991 non-null  object \n",
      " 10  origin_city_name     4138991 non-null  object \n",
      " 11  dest_airport_id      4138991 non-null  int64  \n",
      " 12  dest                 4138991 non-null  object \n",
      " 13  dest_city_name       4138991 non-null  object \n",
      " 14  crs_dep_time         4138991 non-null  int64  \n",
      " 15  dep_time             4040620 non-null  float64\n",
      " 16  dep_delay            4040565 non-null  float64\n",
      " 17  taxi_out             4036432 non-null  float64\n",
      " 18  wheels_off           4036432 non-null  float64\n",
      " 19  wheels_on            4034222 non-null  float64\n",
      " 20  taxi_in              4034222 non-null  float64\n",
      " 21  crs_arr_time         4138991 non-null  int64  \n",
      " 22  arr_time             4034222 non-null  float64\n",
      " 23  arr_delay            4024725 non-null  float64\n",
      " 24  cancelled            4138991 non-null  int64  \n",
      " 25  cancellation_code    103455 non-null   object \n",
      " 26  diverted             4138991 non-null  int64  \n",
      " 27  dup                  4138991 non-null  object \n",
      " 28  crs_elapsed_time     4138987 non-null  float64\n",
      " 29  actual_elapsed_time  4024725 non-null  float64\n",
      " 30  air_time             4024725 non-null  float64\n",
      " 31  flights              4138991 non-null  int64  \n",
      " 32  distance             4138991 non-null  int64  \n",
      " 33  carrier_delay        815826 non-null   float64\n",
      " 34  weather_delay        815826 non-null   float64\n",
      " 35  nas_delay            815826 non-null   float64\n",
      " 36  security_delay       815826 non-null   float64\n",
      " 37  late_aircraft_delay  815826 non-null   float64\n",
      " 38  first_dep_time       31805 non-null    float64\n",
      " 39  total_add_gtime      31805 non-null    float64\n",
      " 40  longest_add_gtime    31805 non-null    float64\n",
      " 41  no_name              0 non-null        float64\n",
      "dtypes: float64(20), int64(10), object(12)\n",
      "memory usage: 1.3+ GB\n"
     ]
    }
   ],
   "source": [
    "AA.info(verbose=True, null_counts=True)"
   ]
  },
  {
   "cell_type": "code",
   "execution_count": 12,
   "metadata": {},
   "outputs": [],
   "source": [
    "# no_name has zero entries, will drop\n",
    "AA.drop(labels='no_name', axis=1, inplace=True)"
   ]
  },
  {
   "cell_type": "code",
   "execution_count": 13,
   "metadata": {},
   "outputs": [
    {
     "name": "stdout",
     "output_type": "stream",
     "text": [
      "<class 'pandas.core.frame.DataFrame'>\n",
      "RangeIndex: 4138991 entries, 0 to 4138990\n",
      "Data columns (total 41 columns):\n",
      " #   Column               Non-Null Count    Dtype  \n",
      "---  ------               --------------    -----  \n",
      " 0   fl_date              4138991 non-null  object \n",
      " 1   mkt_unique_carrier   4138991 non-null  object \n",
      " 2   branded_code_share   4138991 non-null  object \n",
      " 3   mkt_carrier          4138991 non-null  object \n",
      " 4   mkt_carrier_fl_num   4138991 non-null  int64  \n",
      " 5   op_unique_carrier    4138991 non-null  object \n",
      " 6   tail_num             4131641 non-null  object \n",
      " 7   op_carrier_fl_num    4138991 non-null  int64  \n",
      " 8   origin_airport_id    4138991 non-null  int64  \n",
      " 9   origin               4138991 non-null  object \n",
      " 10  origin_city_name     4138991 non-null  object \n",
      " 11  dest_airport_id      4138991 non-null  int64  \n",
      " 12  dest                 4138991 non-null  object \n",
      " 13  dest_city_name       4138991 non-null  object \n",
      " 14  crs_dep_time         4138991 non-null  int64  \n",
      " 15  dep_time             4040620 non-null  float64\n",
      " 16  dep_delay            4040565 non-null  float64\n",
      " 17  taxi_out             4036432 non-null  float64\n",
      " 18  wheels_off           4036432 non-null  float64\n",
      " 19  wheels_on            4034222 non-null  float64\n",
      " 20  taxi_in              4034222 non-null  float64\n",
      " 21  crs_arr_time         4138991 non-null  int64  \n",
      " 22  arr_time             4034222 non-null  float64\n",
      " 23  arr_delay            4024725 non-null  float64\n",
      " 24  cancelled            4138991 non-null  int64  \n",
      " 25  cancellation_code    103455 non-null   object \n",
      " 26  diverted             4138991 non-null  int64  \n",
      " 27  dup                  4138991 non-null  object \n",
      " 28  crs_elapsed_time     4138987 non-null  float64\n",
      " 29  actual_elapsed_time  4024725 non-null  float64\n",
      " 30  air_time             4024725 non-null  float64\n",
      " 31  flights              4138991 non-null  int64  \n",
      " 32  distance             4138991 non-null  int64  \n",
      " 33  carrier_delay        815826 non-null   float64\n",
      " 34  weather_delay        815826 non-null   float64\n",
      " 35  nas_delay            815826 non-null   float64\n",
      " 36  security_delay       815826 non-null   float64\n",
      " 37  late_aircraft_delay  815826 non-null   float64\n",
      " 38  first_dep_time       31805 non-null    float64\n",
      " 39  total_add_gtime      31805 non-null    float64\n",
      " 40  longest_add_gtime    31805 non-null    float64\n",
      "dtypes: float64(19), int64(10), object(12)\n",
      "memory usage: 1.3+ GB\n"
     ]
    }
   ],
   "source": [
    "AA.info(null_counts=True)"
   ]
  },
  {
   "cell_type": "code",
   "execution_count": 18,
   "metadata": {},
   "outputs": [
    {
     "data": {
      "text/html": [
       "<div>\n",
       "<style scoped>\n",
       "    .dataframe tbody tr th:only-of-type {\n",
       "        vertical-align: middle;\n",
       "    }\n",
       "\n",
       "    .dataframe tbody tr th {\n",
       "        vertical-align: top;\n",
       "    }\n",
       "\n",
       "    .dataframe thead th {\n",
       "        text-align: right;\n",
       "    }\n",
       "</style>\n",
       "<table border=\"1\" class=\"dataframe\">\n",
       "  <thead>\n",
       "    <tr style=\"text-align: right;\">\n",
       "      <th></th>\n",
       "      <th>mean</th>\n",
       "    </tr>\n",
       "  </thead>\n",
       "  <tbody>\n",
       "    <tr>\n",
       "      <th>mkt_carrier_fl_num</th>\n",
       "      <td>3194.824075</td>\n",
       "    </tr>\n",
       "    <tr>\n",
       "      <th>op_carrier_fl_num</th>\n",
       "      <td>3194.824075</td>\n",
       "    </tr>\n",
       "    <tr>\n",
       "      <th>origin_airport_id</th>\n",
       "      <td>12600.870855</td>\n",
       "    </tr>\n",
       "    <tr>\n",
       "      <th>dest_airport_id</th>\n",
       "      <td>12600.902620</td>\n",
       "    </tr>\n",
       "    <tr>\n",
       "      <th>crs_dep_time</th>\n",
       "      <td>1323.859947</td>\n",
       "    </tr>\n",
       "    <tr>\n",
       "      <th>dep_time</th>\n",
       "      <td>1330.213778</td>\n",
       "    </tr>\n",
       "    <tr>\n",
       "      <th>dep_delay</th>\n",
       "      <td>10.289777</td>\n",
       "    </tr>\n",
       "    <tr>\n",
       "      <th>taxi_out</th>\n",
       "      <td>18.835656</td>\n",
       "    </tr>\n",
       "    <tr>\n",
       "      <th>wheels_off</th>\n",
       "      <td>1357.801324</td>\n",
       "    </tr>\n",
       "    <tr>\n",
       "      <th>wheels_on</th>\n",
       "      <td>1460.448056</td>\n",
       "    </tr>\n",
       "    <tr>\n",
       "      <th>taxi_in</th>\n",
       "      <td>9.013587</td>\n",
       "    </tr>\n",
       "    <tr>\n",
       "      <th>crs_arr_time</th>\n",
       "      <td>1481.738135</td>\n",
       "    </tr>\n",
       "    <tr>\n",
       "      <th>arr_time</th>\n",
       "      <td>1466.189637</td>\n",
       "    </tr>\n",
       "    <tr>\n",
       "      <th>arr_delay</th>\n",
       "      <td>6.407416</td>\n",
       "    </tr>\n",
       "    <tr>\n",
       "      <th>cancelled</th>\n",
       "      <td>0.024995</td>\n",
       "    </tr>\n",
       "    <tr>\n",
       "      <th>diverted</th>\n",
       "      <td>0.002612</td>\n",
       "    </tr>\n",
       "    <tr>\n",
       "      <th>crs_elapsed_time</th>\n",
       "      <td>131.542775</td>\n",
       "    </tr>\n",
       "    <tr>\n",
       "      <th>actual_elapsed_time</th>\n",
       "      <td>128.099418</td>\n",
       "    </tr>\n",
       "    <tr>\n",
       "      <th>air_time</th>\n",
       "      <td>100.265282</td>\n",
       "    </tr>\n",
       "    <tr>\n",
       "      <th>flights</th>\n",
       "      <td>1.000000</td>\n",
       "    </tr>\n",
       "    <tr>\n",
       "      <th>distance</th>\n",
       "      <td>694.698113</td>\n",
       "    </tr>\n",
       "    <tr>\n",
       "      <th>carrier_delay</th>\n",
       "      <td>19.996883</td>\n",
       "    </tr>\n",
       "    <tr>\n",
       "      <th>weather_delay</th>\n",
       "      <td>3.782428</td>\n",
       "    </tr>\n",
       "    <tr>\n",
       "      <th>nas_delay</th>\n",
       "      <td>14.316539</td>\n",
       "    </tr>\n",
       "    <tr>\n",
       "      <th>security_delay</th>\n",
       "      <td>0.086635</td>\n",
       "    </tr>\n",
       "    <tr>\n",
       "      <th>late_aircraft_delay</th>\n",
       "      <td>28.150487</td>\n",
       "    </tr>\n",
       "    <tr>\n",
       "      <th>first_dep_time</th>\n",
       "      <td>1344.441692</td>\n",
       "    </tr>\n",
       "    <tr>\n",
       "      <th>total_add_gtime</th>\n",
       "      <td>43.981575</td>\n",
       "    </tr>\n",
       "    <tr>\n",
       "      <th>longest_add_gtime</th>\n",
       "      <td>43.209778</td>\n",
       "    </tr>\n",
       "  </tbody>\n",
       "</table>\n",
       "</div>"
      ],
      "text/plain": [
       "                             mean\n",
       "mkt_carrier_fl_num    3194.824075\n",
       "op_carrier_fl_num     3194.824075\n",
       "origin_airport_id    12600.870855\n",
       "dest_airport_id      12600.902620\n",
       "crs_dep_time          1323.859947\n",
       "dep_time              1330.213778\n",
       "dep_delay               10.289777\n",
       "taxi_out                18.835656\n",
       "wheels_off            1357.801324\n",
       "wheels_on             1460.448056\n",
       "taxi_in                  9.013587\n",
       "crs_arr_time          1481.738135\n",
       "arr_time              1466.189637\n",
       "arr_delay                6.407416\n",
       "cancelled                0.024995\n",
       "diverted                 0.002612\n",
       "crs_elapsed_time       131.542775\n",
       "actual_elapsed_time    128.099418\n",
       "air_time               100.265282\n",
       "flights                  1.000000\n",
       "distance               694.698113\n",
       "carrier_delay           19.996883\n",
       "weather_delay            3.782428\n",
       "nas_delay               14.316539\n",
       "security_delay           0.086635\n",
       "late_aircraft_delay     28.150487\n",
       "first_dep_time        1344.441692\n",
       "total_add_gtime         43.981575\n",
       "longest_add_gtime       43.209778"
      ]
     },
     "execution_count": 18,
     "metadata": {},
     "output_type": "execute_result"
    }
   ],
   "source": [
    "AA_means = pd.DataFrame(AA.describe().loc['mean', :])"
   ]
  },
  {
   "cell_type": "code",
   "execution_count": 28,
   "metadata": {},
   "outputs": [
    {
     "ename": "TypeError",
     "evalue": "'>' not supported between instances of 'str' and 'int'",
     "output_type": "error",
     "traceback": [
      "\u001b[1;31m---------------------------------------------------------------------------\u001b[0m",
      "\u001b[1;31mTypeError\u001b[0m                                 Traceback (most recent call last)",
      "\u001b[1;32m<ipython-input-28-810f04618c7a>\u001b[0m in \u001b[0;36m<module>\u001b[1;34m\u001b[0m\n\u001b[0;32m      1\u001b[0m \u001b[0mAA_means\u001b[0m\u001b[1;33m.\u001b[0m\u001b[0mto_csv\u001b[0m\u001b[1;33m(\u001b[0m\u001b[1;34m'Engineered Datasets/AA_means.csv'\u001b[0m\u001b[1;33m,\u001b[0m \u001b[0msep\u001b[0m\u001b[1;33m=\u001b[0m\u001b[1;34m';'\u001b[0m\u001b[1;33m,\u001b[0m \u001b[0mindex_label\u001b[0m\u001b[1;33m=\u001b[0m\u001b[1;34m'index'\u001b[0m\u001b[1;33m)\u001b[0m\u001b[1;33m\u001b[0m\u001b[1;33m\u001b[0m\u001b[0m\n\u001b[1;32m----> 2\u001b[1;33m \u001b[0mAA_delays\u001b[0m \u001b[1;33m=\u001b[0m \u001b[0mAA\u001b[0m\u001b[1;33m.\u001b[0m\u001b[0mloc\u001b[0m\u001b[1;33m[\u001b[0m\u001b[1;34m'dep_delay'\u001b[0m \u001b[1;33m>\u001b[0m \u001b[1;36m0\u001b[0m\u001b[1;33m,\u001b[0m \u001b[1;34m'dep_delay'\u001b[0m\u001b[1;33m]\u001b[0m\u001b[1;33m\u001b[0m\u001b[1;33m\u001b[0m\u001b[0m\n\u001b[0m",
      "\u001b[1;31mTypeError\u001b[0m: '>' not supported between instances of 'str' and 'int'"
     ]
    }
   ],
   "source": [
    "AA_means.to_csv('Engineered Datasets/AA_means.csv', sep=';', index_label='index')\n",
    "AA_delays = AA.loc['dep_delay' > 0, 'dep_delay']"
   ]
  },
  {
   "cell_type": "code",
   "execution_count": 23,
   "metadata": {},
   "outputs": [],
   "source": [
    "from scipy.stats import shapiro"
   ]
  },
  {
   "cell_type": "code",
   "execution_count": 24,
   "metadata": {},
   "outputs": [
    {
     "name": "stderr",
     "output_type": "stream",
     "text": [
      "C:\\Users\\walee\\anaconda3\\lib\\site-packages\\scipy\\stats\\morestats.py:1681: UserWarning: p-value may not be accurate for N > 5000.\n",
      "  warnings.warn(\"p-value may not be accurate for N > 5000.\")\n"
     ]
    },
    {
     "data": {
      "text/plain": [
       "ShapiroResult(statistic=nan, pvalue=1.0)"
      ]
     },
     "execution_count": 24,
     "metadata": {},
     "output_type": "execute_result"
    }
   ],
   "source": [
    "shapiro(AA['dep_delay'])"
   ]
  },
  {
   "cell_type": "code",
   "execution_count": 26,
   "metadata": {},
   "outputs": [],
   "source": [
    "import matplotlib.pyplot as plt\n",
    "%matplotlib inline"
   ]
  },
  {
   "cell_type": "code",
   "execution_count": 27,
   "metadata": {},
   "outputs": [
    {
     "name": "stderr",
     "output_type": "stream",
     "text": [
      "C:\\Users\\walee\\anaconda3\\lib\\site-packages\\numpy\\lib\\histograms.py:839: RuntimeWarning: invalid value encountered in greater_equal\n",
      "  keep = (tmp_a >= first_edge)\n",
      "C:\\Users\\walee\\anaconda3\\lib\\site-packages\\numpy\\lib\\histograms.py:840: RuntimeWarning: invalid value encountered in less_equal\n",
      "  keep &= (tmp_a <= last_edge)\n"
     ]
    },
    {
     "data": {
      "text/plain": [
       "(array([4.01054e+06, 2.52520e+04, 2.71500e+03, 1.31500e+03, 4.78000e+02,\n",
       "        2.11000e+02, 4.10000e+01, 9.00000e+00, 2.00000e+00, 2.00000e+00]),\n",
       " array([ -60.,  217.,  494.,  771., 1048., 1325., 1602., 1879., 2156.,\n",
       "        2433., 2710.]),\n",
       " <a list of 10 Patch objects>)"
      ]
     },
     "execution_count": 27,
     "metadata": {},
     "output_type": "execute_result"
    },
    {
     "data": {
      "image/png": "[encoded data removed]",
      "text/plain": [
       "<Figure size 432x288 with 1 Axes>"
      ]
     },
     "metadata": {
      "needs_background": "light"
     },
     "output_type": "display_data"
    }
   ],
   "source": [
    "plt.hist(AA['dep_delay'])"
   ]
  }
 ],
 "metadata": {
  "kernelspec": {
   "display_name": "LHL_BC",
   "language": "python",
   "name": "lhl_bc"
  },
  "language_info": {
   "codemirror_mode": {
    "name": "ipython",
    "version": 3
   },
   "file_extension": ".py",
   "mimetype": "text/x-python",
   "name": "python",
   "nbconvert_exporter": "python",
   "pygments_lexer": "ipython3",
   "version": "3.8.3"
  }
 },
 "nbformat": 4,
 "nbformat_minor": 4
}
