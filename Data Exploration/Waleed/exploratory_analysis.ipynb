{
 "cells": [
  {
   "cell_type": "markdown",
   "metadata": {},
   "source": [
    "## Exploratory Data Analysis\n",
    "\n",
    "Use this notebook to get familiar with the datasets we have. There is 10 questions we need to answer during the EDA.\n",
    "\n",
    "\n",
    "We shouldn't limit our EDA to these 10 questions. Let's be creative :)."
   ]
  },
  {
   "cell_type": "code",
   "execution_count": 2,
   "metadata": {},
   "outputs": [],
   "source": [
    "import pandas as pd, numpy as np, matplotlib.pyplot as plt\n",
    "from scipy.stats import kstest\n",
    "pd.options.display.max_columns = 1000"
   ]
  },
  {
   "cell_type": "code",
   "execution_count": 3,
   "metadata": {},
   "outputs": [],
   "source": [
    "flights_sample = pd.read_csv('../samples/flights_sample.csv', sep=';', low_memory=False).drop(labels=['Unnamed: 0', 'Unnamed: 0.1'], axis=1)\n",
    "flights_sample.drop(columns=['no_name', 'first_dep_time', 'total_add_gtime', 'longest_add_gtime'], inplace=True)\n",
    "# flights_sample.info()"
   ]
  },
  {
   "cell_type": "markdown",
   "metadata": {},
   "source": [
    "#### **Task 1**: Test the hypothesis that the delay is from Normal distribution. and that **mean** of the delay is 0. Be careful about the outliers."
   ]
  },
  {
   "cell_type": "code",
   "execution_count": 4,
   "metadata": {
    "collapsed": true,
    "jupyter": {
     "outputs_hidden": true,
     "source_hidden": true
    }
   },
   "outputs": [
    {
     "data": {
      "image/png": "[encoded data removed]",
      "text/plain": [
       "<Figure size 432x288 with 1 Axes>"
      ]
     },
     "metadata": {
      "needs_background": "light"
     },
     "output_type": "display_data"
    }
   ],
   "source": [
    "fig, ax = plt.subplots()\n",
    "ax.scatter(x = flights_sample.index, y = flights_sample['arr_delay'])\n",
    "plt.ylabel('arr_del', fontsize=13)\n",
    "plt.xlabel('idx', fontsize=13)\n",
    "plt.grid()\n",
    "plt.show()"
   ]
  },
  {
   "cell_type": "markdown",
   "metadata": {},
   "source": [
    "##### arr_del above 400 and below -100 are few. Outliers?"
   ]
  },
  {
   "cell_type": "code",
   "execution_count": 5,
   "metadata": {
    "collapsed": true,
    "jupyter": {
     "outputs_hidden": true,
     "source_hidden": true
    }
   },
   "outputs": [
    {
     "data": {
      "text/plain": [
       "(array([2.0000e+00, 0.0000e+00, 0.0000e+00, 0.0000e+00, 1.2000e+01,\n",
       "        1.6800e+02, 3.2960e+03, 2.4327e+04, 3.8906e+04, 1.4143e+04,\n",
       "        6.0710e+03, 3.2280e+03, 1.9150e+03, 1.3580e+03, 9.5800e+02,\n",
       "        7.7700e+02, 5.9100e+02, 4.5100e+02, 3.4500e+02, 2.6000e+02,\n",
       "        2.2700e+02, 1.7000e+02, 1.3300e+02, 1.1900e+02, 7.7000e+01,\n",
       "        7.5000e+01, 4.5000e+01, 5.2000e+01, 4.3000e+01, 3.5000e+01,\n",
       "        3.5000e+01, 3.0000e+01, 1.4000e+01, 1.6000e+01, 1.4000e+01,\n",
       "        1.0000e+01, 1.4000e+01, 9.0000e+00, 1.0000e+01, 2.0000e+00,\n",
       "        1.0000e+01, 6.0000e+00, 6.0000e+00, 3.0000e+00, 3.0000e+00,\n",
       "        6.0000e+00, 4.0000e+00, 3.0000e+00, 2.0000e+00, 1.0000e+00,\n",
       "        0.0000e+00, 3.0000e+00, 5.0000e+00, 3.0000e+00, 1.0000e+00,\n",
       "        4.0000e+00, 5.0000e+00, 3.0000e+00, 3.0000e+00, 1.0000e+00,\n",
       "        5.0000e+00, 2.0000e+00, 3.0000e+00, 1.0000e+00, 3.0000e+00,\n",
       "        2.0000e+00, 1.0000e+00, 1.0000e+00, 3.0000e+00, 1.0000e+00,\n",
       "        1.0000e+00, 5.0000e+00, 2.0000e+00, 2.0000e+00, 2.0000e+00,\n",
       "        1.0000e+00, 0.0000e+00, 1.0000e+00, 1.0000e+00, 1.0000e+00,\n",
       "        0.0000e+00, 2.0000e+00, 0.0000e+00, 2.0000e+00, 0.0000e+00,\n",
       "        1.0000e+00, 1.0000e+00, 0.0000e+00, 1.0000e+00, 1.0000e+00,\n",
       "        1.0000e+00, 1.0000e+00, 1.0000e+00, 0.0000e+00, 1.0000e+00,\n",
       "        0.0000e+00, 0.0000e+00, 0.0000e+00, 1.0000e+00, 1.0000e+00]),\n",
       " array([-138. , -122.4, -106.8,  -91.2,  -75.6,  -60. ,  -44.4,  -28.8,\n",
       "         -13.2,    2.4,   18. ,   33.6,   49.2,   64.8,   80.4,   96. ,\n",
       "         111.6,  127.2,  142.8,  158.4,  174. ,  189.6,  205.2,  220.8,\n",
       "         236.4,  252. ,  267.6,  283.2,  298.8,  314.4,  330. ,  345.6,\n",
       "         361.2,  376.8,  392.4,  408. ,  423.6,  439.2,  454.8,  470.4,\n",
       "         486. ,  501.6,  517.2,  532.8,  548.4,  564. ,  579.6,  595.2,\n",
       "         610.8,  626.4,  642. ,  657.6,  673.2,  688.8,  704.4,  720. ,\n",
       "         735.6,  751.2,  766.8,  782.4,  798. ,  813.6,  829.2,  844.8,\n",
       "         860.4,  876. ,  891.6,  907.2,  922.8,  938.4,  954. ,  969.6,\n",
       "         985.2, 1000.8, 1016.4, 1032. , 1047.6, 1063.2, 1078.8, 1094.4,\n",
       "        1110. , 1125.6, 1141.2, 1156.8, 1172.4, 1188. , 1203.6, 1219.2,\n",
       "        1234.8, 1250.4, 1266. , 1281.6, 1297.2, 1312.8, 1328.4, 1344. ,\n",
       "        1359.6, 1375.2, 1390.8, 1406.4, 1422. ]),\n",
       " <a list of 100 Patch objects>)"
      ]
     },
     "execution_count": 5,
     "metadata": {},
     "output_type": "execute_result"
    },
    {
     "data": {
      "image/png": "[encoded data removed]",
      "text/plain": [
       "<Figure size 432x288 with 1 Axes>"
      ]
     },
     "metadata": {
      "needs_background": "light"
     },
     "output_type": "display_data"
    }
   ],
   "source": [
    "plt.hist(flights_sample['arr_delay'].dropna(), bins=100)"
   ]
  },
  {
   "cell_type": "code",
   "execution_count": 6,
   "metadata": {
    "collapsed": true,
    "jupyter": {
     "outputs_hidden": true,
     "source_hidden": true
    }
   },
   "outputs": [
    {
     "name": "stdout",
     "output_type": "stream",
     "text": [
      "Mean: 5.557749179090779\n",
      "Median: -6.0\n",
      "Mode: 0   -8.0\n",
      "dtype: float64\n"
     ]
    }
   ],
   "source": [
    "print(f\"Mean: {flights_sample['arr_delay'].mean()}\\nMedian: {flights_sample['arr_delay'].median()}\\nMode: {flights_sample['arr_delay'].mode()}\")"
   ]
  },
  {
   "cell_type": "code",
   "execution_count": 7,
   "metadata": {},
   "outputs": [
    {
     "data": {
      "text/plain": [
       "KstestResult(statistic=0.5845697269166206, pvalue=0.0)"
      ]
     },
     "execution_count": 7,
     "metadata": {},
     "output_type": "execute_result"
    }
   ],
   "source": [
    "from scipy.stats import kstest\n",
    "kstest(flights_sample['arr_delay'].dropna(), 'norm')"
   ]
  },
  {
   "cell_type": "markdown",
   "metadata": {},
   "source": [
    "##### Unedited arrival times do not follow a normal distribution or have a mean of 0. positive skew with mean=5.56\n",
    "##### Will remove outliers and check again\n",
    "\n",
    "##### Method-1: visual detection of outliers"
   ]
  },
  {
   "cell_type": "code",
   "execution_count": 8,
   "metadata": {
    "collapsed": true,
    "jupyter": {
     "outputs_hidden": true,
     "source_hidden": true
    }
   },
   "outputs": [
    {
     "data": {
      "image/png": "[encoded data removed]",
      "text/plain": [
       "<Figure size 432x288 with 1 Axes>"
      ]
     },
     "metadata": {
      "needs_background": "light"
     },
     "output_type": "display_data"
    }
   ],
   "source": [
    "# arrival delays greater than 600 or lower than -100 appear to be outliers\n",
    "flights_sample_vis_cleaned = flights_sample.loc[((flights_sample['arr_delay'] < 400) & (flights_sample['arr_delay'] > -100))]\n",
    "\n",
    "fig, ax = plt.subplots()\n",
    "ax.scatter(x = flights_sample_vis_cleaned.index, y = flights_sample_vis_cleaned['arr_delay'])\n",
    "plt.ylabel('arr_del', fontsize=13)\n",
    "plt.xlabel('idx', fontsize=13)\n",
    "plt.show()"
   ]
  },
  {
   "cell_type": "code",
   "execution_count": 9,
   "metadata": {
    "collapsed": true,
    "jupyter": {
     "outputs_hidden": true,
     "source_hidden": true
    }
   },
   "outputs": [
    {
     "data": {
      "text/html": [
       "<div>\n",
       "<style scoped>\n",
       "    .dataframe tbody tr th:only-of-type {\n",
       "        vertical-align: middle;\n",
       "    }\n",
       "\n",
       "    .dataframe tbody tr th {\n",
       "        vertical-align: top;\n",
       "    }\n",
       "\n",
       "    .dataframe thead th {\n",
       "        text-align: right;\n",
       "    }\n",
       "</style>\n",
       "<table border=\"1\" class=\"dataframe\">\n",
       "  <thead>\n",
       "    <tr style=\"text-align: right;\">\n",
       "      <th></th>\n",
       "      <th># of Outliers</th>\n",
       "      <th># in Original</th>\n",
       "      <th>Outlier Percentage</th>\n",
       "    </tr>\n",
       "  </thead>\n",
       "  <tbody>\n",
       "    <tr>\n",
       "      <th>AA</th>\n",
       "      <td>49.0</td>\n",
       "      <td>25229</td>\n",
       "      <td>0.194221</td>\n",
       "    </tr>\n",
       "    <tr>\n",
       "      <th>AS</th>\n",
       "      <td>1.0</td>\n",
       "      <td>5271</td>\n",
       "      <td>0.018972</td>\n",
       "    </tr>\n",
       "    <tr>\n",
       "      <th>B6</th>\n",
       "      <td>8.0</td>\n",
       "      <td>3698</td>\n",
       "      <td>0.216333</td>\n",
       "    </tr>\n",
       "    <tr>\n",
       "      <th>DL</th>\n",
       "      <td>48.0</td>\n",
       "      <td>21637</td>\n",
       "      <td>0.221842</td>\n",
       "    </tr>\n",
       "    <tr>\n",
       "      <th>F9</th>\n",
       "      <td>2.0</td>\n",
       "      <td>1617</td>\n",
       "      <td>0.123686</td>\n",
       "    </tr>\n",
       "    <tr>\n",
       "      <th>G4</th>\n",
       "      <td>4.0</td>\n",
       "      <td>1209</td>\n",
       "      <td>0.330852</td>\n",
       "    </tr>\n",
       "    <tr>\n",
       "      <th>HA</th>\n",
       "      <td>1.0</td>\n",
       "      <td>1145</td>\n",
       "      <td>0.087336</td>\n",
       "    </tr>\n",
       "    <tr>\n",
       "      <th>NK</th>\n",
       "      <td>10.0</td>\n",
       "      <td>2356</td>\n",
       "      <td>0.424448</td>\n",
       "    </tr>\n",
       "    <tr>\n",
       "      <th>UA</th>\n",
       "      <td>52.0</td>\n",
       "      <td>18939</td>\n",
       "      <td>0.274566</td>\n",
       "    </tr>\n",
       "    <tr>\n",
       "      <th>WN</th>\n",
       "      <td>1.0</td>\n",
       "      <td>16671</td>\n",
       "      <td>0.005998</td>\n",
       "    </tr>\n",
       "    <tr>\n",
       "      <th>VX</th>\n",
       "      <td>NaN</td>\n",
       "      <td>113</td>\n",
       "      <td>NaN</td>\n",
       "    </tr>\n",
       "  </tbody>\n",
       "</table>\n",
       "</div>"
      ],
      "text/plain": [
       "    # of Outliers  # in Original  Outlier Percentage\n",
       "AA           49.0          25229            0.194221\n",
       "AS            1.0           5271            0.018972\n",
       "B6            8.0           3698            0.216333\n",
       "DL           48.0          21637            0.221842\n",
       "F9            2.0           1617            0.123686\n",
       "G4            4.0           1209            0.330852\n",
       "HA            1.0           1145            0.087336\n",
       "NK           10.0           2356            0.424448\n",
       "UA           52.0          18939            0.274566\n",
       "WN            1.0          16671            0.005998\n",
       "VX            NaN            113                 NaN"
      ]
     },
     "execution_count": 9,
     "metadata": {},
     "output_type": "execute_result"
    }
   ],
   "source": [
    "flights_sample_arr_delay_vis_outliers = flights_sample.loc[((flights_sample['arr_delay'] > 400) | \n",
    "                                                            (flights_sample['arr_delay'] < -100))\n",
    "                                                          ]\n",
    "\n",
    "flights_sample_arr_delay_vis_outlier_comparison = pd.concat([flights_sample_arr_delay_vis_outliers['mkt_unique_carrier'].groupby(by=flights_sample_arr_delay_vis_outliers['mkt_unique_carrier']).count(),\n",
    "                                                             flights_sample_vis_cleaned['mkt_unique_carrier'].groupby(by=flights_sample['mkt_unique_carrier']).count()],\n",
    "                                                             axis=1\n",
    "                                                           )\n",
    "\n",
    "\n",
    "flights_sample_arr_delay_vis_outlier_comparison.columns = ['# of Outliers', '# in Original']\n",
    "flights_sample_arr_delay_vis_outlier_comparison['Outlier Percentage'] = (flights_sample_arr_delay_vis_outlier_comparison['# of Outliers'] / flights_sample_arr_delay_vis_outlier_comparison['# in Original']) * 100\n",
    "flights_sample_arr_delay_vis_outlier_comparison"
   ]
  },
  {
   "cell_type": "code",
   "execution_count": 10,
   "metadata": {
    "collapsed": true,
    "jupyter": {
     "outputs_hidden": true
    }
   },
   "outputs": [
    {
     "data": {
      "text/plain": [
       "(array([3.0000e+00, 1.2000e+01, 1.6000e+01, 3.2000e+01, 8.7000e+01,\n",
       "        2.3300e+02, 4.4500e+02, 1.2920e+03, 2.7020e+03, 4.2140e+03,\n",
       "        8.8210e+03, 1.2725e+04, 1.1475e+04, 1.3119e+04, 9.9020e+03,\n",
       "        5.7700e+03, 5.2330e+03, 3.6330e+03, 2.1550e+03, 2.1310e+03,\n",
       "        1.7780e+03, 1.1450e+03, 1.2080e+03, 1.0610e+03, 6.4600e+02,\n",
       "        7.8700e+02, 6.6800e+02, 5.5800e+02, 4.1900e+02, 4.5500e+02,\n",
       "        3.8800e+02, 3.1100e+02, 3.7500e+02, 3.1100e+02, 2.1900e+02,\n",
       "        2.7400e+02, 2.2000e+02, 1.9400e+02, 2.3000e+02, 2.0200e+02,\n",
       "        1.4100e+02, 1.6000e+02, 1.6600e+02, 1.1600e+02, 1.4300e+02,\n",
       "        1.1700e+02, 7.9000e+01, 1.1300e+02, 9.8000e+01, 7.6000e+01,\n",
       "        8.4000e+01, 7.8000e+01, 8.1000e+01, 5.7000e+01, 5.7000e+01,\n",
       "        6.6000e+01, 3.3000e+01, 5.7000e+01, 4.5000e+01, 4.3000e+01,\n",
       "        5.0000e+01, 3.7000e+01, 3.7000e+01, 3.7000e+01, 2.7000e+01,\n",
       "        2.6000e+01, 2.5000e+01, 2.3000e+01, 1.8000e+01, 2.3000e+01,\n",
       "        2.8000e+01, 1.7000e+01, 1.4000e+01, 1.4000e+01, 9.0000e+00,\n",
       "        2.1000e+01, 1.4000e+01, 1.7000e+01, 1.1000e+01, 1.5000e+01,\n",
       "        1.4000e+01, 1.1000e+01, 9.0000e+00, 1.6000e+01, 9.0000e+00,\n",
       "        1.1000e+01, 1.2000e+01, 8.0000e+00, 1.0000e+01, 1.3000e+01,\n",
       "        6.0000e+00, 6.0000e+00, 4.0000e+00, 4.0000e+00, 6.0000e+00,\n",
       "        5.0000e+00, 4.0000e+00, 3.0000e+00, 4.0000e+00, 8.0000e+00]),\n",
       " array([-69.  , -64.32, -59.64, -54.96, -50.28, -45.6 , -40.92, -36.24,\n",
       "        -31.56, -26.88, -22.2 , -17.52, -12.84,  -8.16,  -3.48,   1.2 ,\n",
       "          5.88,  10.56,  15.24,  19.92,  24.6 ,  29.28,  33.96,  38.64,\n",
       "         43.32,  48.  ,  52.68,  57.36,  62.04,  66.72,  71.4 ,  76.08,\n",
       "         80.76,  85.44,  90.12,  94.8 ,  99.48, 104.16, 108.84, 113.52,\n",
       "        118.2 , 122.88, 127.56, 132.24, 136.92, 141.6 , 146.28, 150.96,\n",
       "        155.64, 160.32, 165.  , 169.68, 174.36, 179.04, 183.72, 188.4 ,\n",
       "        193.08, 197.76, 202.44, 207.12, 211.8 , 216.48, 221.16, 225.84,\n",
       "        230.52, 235.2 , 239.88, 244.56, 249.24, 253.92, 258.6 , 263.28,\n",
       "        267.96, 272.64, 277.32, 282.  , 286.68, 291.36, 296.04, 300.72,\n",
       "        305.4 , 310.08, 314.76, 319.44, 324.12, 328.8 , 333.48, 338.16,\n",
       "        342.84, 347.52, 352.2 , 356.88, 361.56, 366.24, 370.92, 375.6 ,\n",
       "        380.28, 384.96, 389.64, 394.32, 399.  ]),\n",
       " <a list of 100 Patch objects>)"
      ]
     },
     "execution_count": 10,
     "metadata": {},
     "output_type": "execute_result"
    },
    {
     "data": {
      "image/png": "[encoded data removed]",
      "text/plain": [
       "<Figure size 432x288 with 1 Axes>"
      ]
     },
     "metadata": {
      "needs_background": "light"
     },
     "output_type": "display_data"
    }
   ],
   "source": [
    "plt.hist(flights_sample_vis_cleaned['arr_delay'], bins=100)"
   ]
  },
  {
   "cell_type": "code",
   "execution_count": 11,
   "metadata": {
    "collapsed": true,
    "jupyter": {
     "outputs_hidden": true,
     "source_hidden": true
    }
   },
   "outputs": [
    {
     "name": "stdout",
     "output_type": "stream",
     "text": [
      "Mean: 4.354814322929969\n",
      "Median: -6.0\n",
      "Mode: 0   -8.0\n",
      "dtype: float64\n"
     ]
    }
   ],
   "source": [
    "print(f\"Mean: {flights_sample_vis_cleaned['arr_delay'].mean()}\\nMedian: {flights_sample_vis_cleaned['arr_delay'].median()}\\nMode: {flights_sample_vis_cleaned['arr_delay'].mode()}\")"
   ]
  },
  {
   "cell_type": "code",
   "execution_count": 12,
   "metadata": {
    "collapsed": true,
    "jupyter": {
     "outputs_hidden": true,
     "source_hidden": true
    }
   },
   "outputs": [
    {
     "data": {
      "text/plain": [
       "KstestResult(statistic=0.5856474774914694, pvalue=0.0)"
      ]
     },
     "execution_count": 12,
     "metadata": {},
     "output_type": "execute_result"
    }
   ],
   "source": [
    "from scipy.stats import kstest\n",
    "kstest(flights_sample_vis_cleaned['arr_delay'].dropna(), 'norm')"
   ]
  },
  {
   "cell_type": "markdown",
   "metadata": {
    "jupyter": {
     "source_hidden": true
    }
   },
   "source": [
    "##### Even with outliers removed, this distribution is not normal. It is still positively skewed\n",
    "\n",
    "##### Method-2: using IQR to  detect and remove outliers"
   ]
  },
  {
   "cell_type": "code",
   "execution_count": 13,
   "metadata": {
    "collapsed": true,
    "jupyter": {
     "outputs_hidden": true,
     "source_hidden": true
    }
   },
   "outputs": [
    {
     "data": {
      "text/plain": [
       "{'whiskers': [<matplotlib.lines.Line2D at 0x29d57eae0d0>,\n",
       "  <matplotlib.lines.Line2D at 0x29d57eae430>],\n",
       " 'caps': [<matplotlib.lines.Line2D at 0x29d57eae790>,\n",
       "  <matplotlib.lines.Line2D at 0x29d57eaeaf0>],\n",
       " 'boxes': [<matplotlib.lines.Line2D at 0x29d57e9ed30>],\n",
       " 'medians': [<matplotlib.lines.Line2D at 0x29d57eaee50>],\n",
       " 'fliers': [<matplotlib.lines.Line2D at 0x29d57eb7190>],\n",
       " 'means': []}"
      ]
     },
     "execution_count": 13,
     "metadata": {},
     "output_type": "execute_result"
    },
    {
     "data": {
      "image/png": "[encoded data removed]",
      "text/plain": [
       "<Figure size 864x720 with 1 Axes>"
      ]
     },
     "metadata": {
      "needs_background": "light"
     },
     "output_type": "display_data"
    }
   ],
   "source": [
    "import matplotlib.pyplot as plt\n",
    "%matplotlib inline\n",
    "\n",
    "plt.figure(figsize=(12,10))\n",
    "plt.boxplot(flights_sample['arr_delay'].dropna())"
   ]
  },
  {
   "cell_type": "code",
   "execution_count": 15,
   "metadata": {
    "jupyter": {
     "source_hidden": true
    }
   },
   "outputs": [],
   "source": [
    "flights_sample_arr_delay_iqr = flights_sample['arr_delay'].quantile(0.75) - flights_sample['arr_delay'].quantile(0.25)\n",
    "\n",
    "flights_sample_arr_delay_iqr_outliers = flights_sample.loc[((flights_sample['arr_delay'] > flights_sample['arr_delay'].quantile(0.75) + (1.5 * flights_sample_arr_delay_iqr)) | \n",
    "                                                            (flights_sample['arr_delay'] < flights_sample['arr_delay'].quantile(0.25) - (1.5 * flights_sample_arr_delay_iqr)))]"
   ]
  },
  {
   "cell_type": "code",
   "execution_count": 16,
   "metadata": {
    "collapsed": true,
    "jupyter": {
     "outputs_hidden": true
    }
   },
   "outputs": [
    {
     "data": {
      "text/plain": [
       "mkt_unique_carrier\n",
       "AA    25986\n",
       "AS     5360\n",
       "B6     3757\n",
       "DL    21893\n",
       "F9     1650\n",
       "G4     1218\n",
       "HA     1153\n",
       "NK     2405\n",
       "UA    19419\n",
       "VX      116\n",
       "WN    17039\n",
       "Name: mkt_unique_carrier, dtype: int64"
      ]
     },
     "execution_count": 16,
     "metadata": {},
     "output_type": "execute_result"
    }
   ],
   "source": [
    "flights_sample['mkt_unique_carrier'].groupby(by=flights_sample['mkt_unique_carrier']).count()"
   ]
  },
  {
   "cell_type": "code",
   "execution_count": 17,
   "metadata": {
    "collapsed": true,
    "jupyter": {
     "outputs_hidden": true,
     "source_hidden": true
    }
   },
   "outputs": [
    {
     "data": {
      "text/html": [
       "<div>\n",
       "<style scoped>\n",
       "    .dataframe tbody tr th:only-of-type {\n",
       "        vertical-align: middle;\n",
       "    }\n",
       "\n",
       "    .dataframe tbody tr th {\n",
       "        vertical-align: top;\n",
       "    }\n",
       "\n",
       "    .dataframe thead th {\n",
       "        text-align: right;\n",
       "    }\n",
       "</style>\n",
       "<table border=\"1\" class=\"dataframe\">\n",
       "  <thead>\n",
       "    <tr style=\"text-align: right;\">\n",
       "      <th></th>\n",
       "      <th># of Outliers</th>\n",
       "      <th># in Original</th>\n",
       "      <th>Percentage</th>\n",
       "    </tr>\n",
       "    <tr>\n",
       "      <th>mkt_unique_carrier</th>\n",
       "      <th></th>\n",
       "      <th></th>\n",
       "      <th></th>\n",
       "    </tr>\n",
       "  </thead>\n",
       "  <tbody>\n",
       "    <tr>\n",
       "      <th>AA</th>\n",
       "      <td>2552</td>\n",
       "      <td>25986</td>\n",
       "      <td>9.820673</td>\n",
       "    </tr>\n",
       "    <tr>\n",
       "      <th>AS</th>\n",
       "      <td>339</td>\n",
       "      <td>5360</td>\n",
       "      <td>6.324627</td>\n",
       "    </tr>\n",
       "    <tr>\n",
       "      <th>B6</th>\n",
       "      <td>545</td>\n",
       "      <td>3757</td>\n",
       "      <td>14.506255</td>\n",
       "    </tr>\n",
       "    <tr>\n",
       "      <th>DL</th>\n",
       "      <td>1675</td>\n",
       "      <td>21893</td>\n",
       "      <td>7.650847</td>\n",
       "    </tr>\n",
       "    <tr>\n",
       "      <th>F9</th>\n",
       "      <td>242</td>\n",
       "      <td>1650</td>\n",
       "      <td>14.666667</td>\n",
       "    </tr>\n",
       "    <tr>\n",
       "      <th>G4</th>\n",
       "      <td>118</td>\n",
       "      <td>1218</td>\n",
       "      <td>9.688013</td>\n",
       "    </tr>\n",
       "    <tr>\n",
       "      <th>HA</th>\n",
       "      <td>32</td>\n",
       "      <td>1153</td>\n",
       "      <td>2.775369</td>\n",
       "    </tr>\n",
       "    <tr>\n",
       "      <th>NK</th>\n",
       "      <td>238</td>\n",
       "      <td>2405</td>\n",
       "      <td>9.896050</td>\n",
       "    </tr>\n",
       "    <tr>\n",
       "      <th>UA</th>\n",
       "      <td>2188</td>\n",
       "      <td>19419</td>\n",
       "      <td>11.267316</td>\n",
       "    </tr>\n",
       "    <tr>\n",
       "      <th>VX</th>\n",
       "      <td>14</td>\n",
       "      <td>116</td>\n",
       "      <td>12.068966</td>\n",
       "    </tr>\n",
       "    <tr>\n",
       "      <th>WN</th>\n",
       "      <td>1205</td>\n",
       "      <td>17039</td>\n",
       "      <td>7.072011</td>\n",
       "    </tr>\n",
       "  </tbody>\n",
       "</table>\n",
       "</div>"
      ],
      "text/plain": [
       "                    # of Outliers  # in Original  Percentage\n",
       "mkt_unique_carrier                                          \n",
       "AA                           2552          25986    9.820673\n",
       "AS                            339           5360    6.324627\n",
       "B6                            545           3757   14.506255\n",
       "DL                           1675          21893    7.650847\n",
       "F9                            242           1650   14.666667\n",
       "G4                            118           1218    9.688013\n",
       "HA                             32           1153    2.775369\n",
       "NK                            238           2405    9.896050\n",
       "UA                           2188          19419   11.267316\n",
       "VX                             14            116   12.068966\n",
       "WN                           1205          17039    7.072011"
      ]
     },
     "execution_count": 17,
     "metadata": {},
     "output_type": "execute_result"
    }
   ],
   "source": [
    "flights_sample_arr_delay_iqr_outlier_comparison = pd.concat([flights_sample_arr_delay_iqr_outliers['mkt_unique_carrier'].groupby(by=flights_sample_arr_delay_iqr_outliers['mkt_unique_carrier']).count(),\n",
    "                                                             flights_sample['mkt_unique_carrier'].groupby(by=flights_sample['mkt_unique_carrier']).count()],\n",
    "                                                             axis=1)\n",
    "\n",
    "\n",
    "flights_sample_arr_delay_iqr_outlier_comparison.columns = ['# of Outliers', '# in Original']\n",
    "flights_sample_arr_delay_iqr_outlier_comparison['Percentage'] = (flights_sample_arr_delay_iqr_outlier_comparison['# of Outliers'] / flights_sample_arr_delay_iqr_outlier_comparison['# in Original']) * 100\n",
    "flights_sample_arr_delay_iqr_outlier_comparison\n",
    "#reduce threshold for outliers (want to remove the least amount of datapoints as possible)"
   ]
  },
  {
   "cell_type": "code",
   "execution_count": 18,
   "metadata": {
    "collapsed": true,
    "jupyter": {
     "outputs_hidden": true,
     "source_hidden": true
    }
   },
   "outputs": [
    {
     "data": {
      "text/html": [
       "<div>\n",
       "<style scoped>\n",
       "    .dataframe tbody tr th:only-of-type {\n",
       "        vertical-align: middle;\n",
       "    }\n",
       "\n",
       "    .dataframe tbody tr th {\n",
       "        vertical-align: top;\n",
       "    }\n",
       "\n",
       "    .dataframe thead th {\n",
       "        text-align: right;\n",
       "    }\n",
       "</style>\n",
       "<table border=\"1\" class=\"dataframe\">\n",
       "  <thead>\n",
       "    <tr style=\"text-align: right;\">\n",
       "      <th></th>\n",
       "      <th># of Outliers</th>\n",
       "      <th># in Original</th>\n",
       "      <th>Percentage</th>\n",
       "      <th>Hi Threshold</th>\n",
       "    </tr>\n",
       "    <tr>\n",
       "      <th>mkt_unique_carrier</th>\n",
       "      <th></th>\n",
       "      <th></th>\n",
       "      <th></th>\n",
       "      <th></th>\n",
       "    </tr>\n",
       "  </thead>\n",
       "  <tbody>\n",
       "    <tr>\n",
       "      <th>AA</th>\n",
       "      <td>983</td>\n",
       "      <td>25986</td>\n",
       "      <td>3.782806</td>\n",
       "      <td>100.0</td>\n",
       "    </tr>\n",
       "    <tr>\n",
       "      <th>AS</th>\n",
       "      <td>82</td>\n",
       "      <td>5360</td>\n",
       "      <td>1.529851</td>\n",
       "      <td>100.0</td>\n",
       "    </tr>\n",
       "    <tr>\n",
       "      <th>B6</th>\n",
       "      <td>205</td>\n",
       "      <td>3757</td>\n",
       "      <td>5.456481</td>\n",
       "      <td>100.0</td>\n",
       "    </tr>\n",
       "    <tr>\n",
       "      <th>DL</th>\n",
       "      <td>665</td>\n",
       "      <td>21893</td>\n",
       "      <td>3.037501</td>\n",
       "      <td>100.0</td>\n",
       "    </tr>\n",
       "    <tr>\n",
       "      <th>F9</th>\n",
       "      <td>86</td>\n",
       "      <td>1650</td>\n",
       "      <td>5.212121</td>\n",
       "      <td>100.0</td>\n",
       "    </tr>\n",
       "    <tr>\n",
       "      <th>G4</th>\n",
       "      <td>47</td>\n",
       "      <td>1218</td>\n",
       "      <td>3.858785</td>\n",
       "      <td>100.0</td>\n",
       "    </tr>\n",
       "    <tr>\n",
       "      <th>HA</th>\n",
       "      <td>8</td>\n",
       "      <td>1153</td>\n",
       "      <td>0.693842</td>\n",
       "      <td>100.0</td>\n",
       "    </tr>\n",
       "    <tr>\n",
       "      <th>NK</th>\n",
       "      <td>94</td>\n",
       "      <td>2405</td>\n",
       "      <td>3.908524</td>\n",
       "      <td>100.0</td>\n",
       "    </tr>\n",
       "    <tr>\n",
       "      <th>UA</th>\n",
       "      <td>893</td>\n",
       "      <td>19419</td>\n",
       "      <td>4.598589</td>\n",
       "      <td>100.0</td>\n",
       "    </tr>\n",
       "    <tr>\n",
       "      <th>VX</th>\n",
       "      <td>4</td>\n",
       "      <td>116</td>\n",
       "      <td>3.448276</td>\n",
       "      <td>100.0</td>\n",
       "    </tr>\n",
       "    <tr>\n",
       "      <th>WN</th>\n",
       "      <td>352</td>\n",
       "      <td>17039</td>\n",
       "      <td>2.065849</td>\n",
       "      <td>100.0</td>\n",
       "    </tr>\n",
       "  </tbody>\n",
       "</table>\n",
       "</div>"
      ],
      "text/plain": [
       "                    # of Outliers  # in Original  Percentage  Hi Threshold\n",
       "mkt_unique_carrier                                                        \n",
       "AA                            983          25986    3.782806         100.0\n",
       "AS                             82           5360    1.529851         100.0\n",
       "B6                            205           3757    5.456481         100.0\n",
       "DL                            665          21893    3.037501         100.0\n",
       "F9                             86           1650    5.212121         100.0\n",
       "G4                             47           1218    3.858785         100.0\n",
       "HA                              8           1153    0.693842         100.0\n",
       "NK                             94           2405    3.908524         100.0\n",
       "UA                            893          19419    4.598589         100.0\n",
       "VX                              4            116    3.448276         100.0\n",
       "WN                            352          17039    2.065849         100.0"
      ]
     },
     "execution_count": 18,
     "metadata": {},
     "output_type": "execute_result"
    }
   ],
   "source": [
    "#1.5 IQR is too strict (dropping too many rows), will increase to 4.0 and check again\n",
    "flights_sample_arr_delay_iqr = flights_sample['arr_delay'].quantile(0.75) - flights_sample['arr_delay'].quantile(0.25)\n",
    "\n",
    "whiskers = 4\n",
    "hi_threshold = flights_sample['arr_delay'].quantile(0.75) + (whiskers * flights_sample_arr_delay_iqr)\n",
    "lo_threshold = flights_sample['arr_delay'].quantile(0.25) - (whiskers * flights_sample_arr_delay_iqr)\n",
    "\n",
    "flights_sample_arr_delay_iqr_outliers = flights_sample.loc[((flights_sample['arr_delay'] > hi_threshold) | \n",
    "                                                            (flights_sample['arr_delay'] < lo_threshold))\n",
    "                                                          ]\n",
    "\n",
    "flights_sample_arr_delay_iqr_outlier_comparison = pd.concat([flights_sample_arr_delay_iqr_outliers['mkt_unique_carrier'].groupby(by=flights_sample_arr_delay_iqr_outliers['mkt_unique_carrier']).count(),\n",
    "                                               flights_sample['mkt_unique_carrier'].groupby(by=flights_sample['mkt_unique_carrier']).count()],\n",
    "                                               axis=1)\n",
    "\n",
    "\n",
    "flights_sample_arr_delay_iqr_outlier_comparison.columns = ['# of Outliers', '# in Original']\n",
    "flights_sample_arr_delay_iqr_outlier_comparison['Percentage'] = (flights_sample_arr_delay_iqr_outlier_comparison['# of Outliers'] / flights_sample_arr_delay_iqr_outlier_comparison['# in Original']) * 100\n",
    "flights_sample_arr_delay_iqr_outlier_comparison['Hi Threshold'] = hi_threshold\n",
    "flights_sample_arr_delay_iqr_outlier_comparison"
   ]
  },
  {
   "cell_type": "code",
   "execution_count": 19,
   "metadata": {},
   "outputs": [
    {
     "data": {
      "text/plain": [
       "0.034191367654706185"
      ]
     },
     "execution_count": 19,
     "metadata": {},
     "output_type": "execute_result"
    }
   ],
   "source": [
    "len(flights_sample_arr_delay_iqr_outliers)/len(flights_sample)"
   ]
  },
  {
   "cell_type": "code",
   "execution_count": 20,
   "metadata": {},
   "outputs": [],
   "source": [
    "flights_sample_iqr_cleaned = flights_sample.drop(index=flights_sample_arr_delay_iqr_outliers.index)"
   ]
  },
  {
   "cell_type": "code",
   "execution_count": 21,
   "metadata": {},
   "outputs": [
    {
     "data": {
      "text/plain": [
       "0.034191367654706206"
      ]
     },
     "execution_count": 21,
     "metadata": {},
     "output_type": "execute_result"
    }
   ],
   "source": [
    "1 - len(flights_sample_iqr_cleaned)/len(flights_sample)"
   ]
  },
  {
   "cell_type": "code",
   "execution_count": 22,
   "metadata": {
    "collapsed": true,
    "jupyter": {
     "outputs_hidden": true,
     "source_hidden": true
    }
   },
   "outputs": [
    {
     "data": {
      "image/png": "[encoded data removed]",
      "text/plain": [
       "<Figure size 432x288 with 1 Axes>"
      ]
     },
     "metadata": {
      "needs_background": "light"
     },
     "output_type": "display_data"
    }
   ],
   "source": [
    "fig, ax = plt.subplots()\n",
    "ax.scatter(x = flights_sample_iqr_cleaned.index, y = flights_sample_iqr_cleaned['arr_delay'])\n",
    "plt.ylabel('arr_del', fontsize=13)\n",
    "plt.xlabel('idx', fontsize=13)\n",
    "plt.show()"
   ]
  },
  {
   "cell_type": "code",
   "execution_count": 23,
   "metadata": {
    "collapsed": true,
    "jupyter": {
     "outputs_hidden": true
    }
   },
   "outputs": [
    {
     "data": {
      "text/plain": [
       "(array([1.000e+00, 2.000e+00, 3.000e+00, 1.000e+00, 5.000e+00, 4.000e+00,\n",
       "        3.000e+00, 1.000e+01, 1.000e+01, 6.000e+00, 1.800e+01, 3.400e+01,\n",
       "        1.500e+01, 3.800e+01, 6.900e+01, 9.600e+01, 6.800e+01, 1.920e+02,\n",
       "        2.530e+02, 1.750e+02, 4.670e+02, 6.500e+02, 3.970e+02, 9.590e+02,\n",
       "        1.346e+03, 9.060e+02, 2.027e+03, 2.671e+03, 3.327e+03, 1.982e+03,\n",
       "        4.324e+03, 5.065e+03, 2.679e+03, 5.665e+03, 5.731e+03, 2.858e+03,\n",
       "        5.563e+03, 5.145e+03, 2.411e+03, 4.377e+03, 3.846e+03, 1.679e+03,\n",
       "        3.121e+03, 2.649e+03, 2.383e+03, 9.740e+02, 1.876e+03, 1.530e+03,\n",
       "        7.340e+02, 1.369e+03, 1.138e+03, 5.550e+02, 9.350e+02, 8.830e+02,\n",
       "        3.890e+02, 7.590e+02, 7.000e+02, 7.050e+02, 2.790e+02, 5.840e+02,\n",
       "        5.340e+02, 2.620e+02, 4.810e+02, 4.330e+02, 2.220e+02, 4.210e+02,\n",
       "        3.680e+02, 1.720e+02, 3.040e+02, 3.130e+02, 1.590e+02, 3.150e+02,\n",
       "        3.030e+02, 2.520e+02, 1.130e+02, 2.370e+02, 2.230e+02, 9.800e+01,\n",
       "        2.150e+02, 2.040e+02, 9.500e+01, 1.940e+02, 1.660e+02, 7.000e+01,\n",
       "        1.610e+02, 1.570e+02, 1.540e+02, 6.800e+01, 1.630e+02, 1.440e+02,\n",
       "        7.200e+01, 1.590e+02, 1.110e+02, 5.900e+01, 1.270e+02, 1.100e+02,\n",
       "        4.900e+01, 1.060e+02, 1.100e+02, 9.800e+01]),\n",
       " array([-69.  , -67.31, -65.62, -63.93, -62.24, -60.55, -58.86, -57.17,\n",
       "        -55.48, -53.79, -52.1 , -50.41, -48.72, -47.03, -45.34, -43.65,\n",
       "        -41.96, -40.27, -38.58, -36.89, -35.2 , -33.51, -31.82, -30.13,\n",
       "        -28.44, -26.75, -25.06, -23.37, -21.68, -19.99, -18.3 , -16.61,\n",
       "        -14.92, -13.23, -11.54,  -9.85,  -8.16,  -6.47,  -4.78,  -3.09,\n",
       "         -1.4 ,   0.29,   1.98,   3.67,   5.36,   7.05,   8.74,  10.43,\n",
       "         12.12,  13.81,  15.5 ,  17.19,  18.88,  20.57,  22.26,  23.95,\n",
       "         25.64,  27.33,  29.02,  30.71,  32.4 ,  34.09,  35.78,  37.47,\n",
       "         39.16,  40.85,  42.54,  44.23,  45.92,  47.61,  49.3 ,  50.99,\n",
       "         52.68,  54.37,  56.06,  57.75,  59.44,  61.13,  62.82,  64.51,\n",
       "         66.2 ,  67.89,  69.58,  71.27,  72.96,  74.65,  76.34,  78.03,\n",
       "         79.72,  81.41,  83.1 ,  84.79,  86.48,  88.17,  89.86,  91.55,\n",
       "         93.24,  94.93,  96.62,  98.31, 100.  ]),\n",
       " <a list of 100 Patch objects>)"
      ]
     },
     "execution_count": 23,
     "metadata": {},
     "output_type": "execute_result"
    },
    {
     "data": {
      "image/png": "[encoded data removed]",
      "text/plain": [
       "<Figure size 432x288 with 1 Axes>"
      ]
     },
     "metadata": {
      "needs_background": "light"
     },
     "output_type": "display_data"
    }
   ],
   "source": [
    "plt.hist(flights_sample_iqr_cleaned['arr_delay'].dropna(), bins=100)"
   ]
  },
  {
   "cell_type": "code",
   "execution_count": 24,
   "metadata": {
    "collapsed": true,
    "jupyter": {
     "outputs_hidden": true
    }
   },
   "outputs": [
    {
     "name": "stdout",
     "output_type": "stream",
     "text": [
      "Mean: -1.1806367084728928\n",
      "Median: -7.0\n",
      "Mode: 0   -8.0\n",
      "dtype: float64\n"
     ]
    }
   ],
   "source": [
    "print(f\"Mean: {flights_sample_iqr_cleaned['arr_delay'].mean()}\\nMedian: {flights_sample_iqr_cleaned['arr_delay'].median()}\\nMode: {flights_sample_iqr_cleaned['arr_delay'].mode()}\")"
   ]
  },
  {
   "cell_type": "code",
   "execution_count": 25,
   "metadata": {
    "jupyter": {
     "source_hidden": true
    }
   },
   "outputs": [
    {
     "data": {
      "text/plain": [
       "KstestResult(statistic=0.6064881635411861, pvalue=0.0)"
      ]
     },
     "execution_count": 25,
     "metadata": {},
     "output_type": "execute_result"
    }
   ],
   "source": [
    "kstest(flights_sample_iqr_cleaned['arr_delay'].dropna(), 'norm')"
   ]
  },
  {
   "cell_type": "markdown",
   "metadata": {},
   "source": [
    "##### Arrival Delay follows a positively skewed distribution with a mean != 0 (find median and mode)"
   ]
  },
  {
   "cell_type": "markdown",
   "metadata": {},
   "source": [
    "#### **Task 2**: Is average/median monthly delay different during the year? If yes, which are months with the biggest delays and what could be the reason?"
   ]
  },
  {
   "cell_type": "code",
   "execution_count": 26,
   "metadata": {},
   "outputs": [
    {
     "data": {
      "text/html": [
       "<div>\n",
       "<style scoped>\n",
       "    .dataframe tbody tr th:only-of-type {\n",
       "        vertical-align: middle;\n",
       "    }\n",
       "\n",
       "    .dataframe tbody tr th {\n",
       "        vertical-align: top;\n",
       "    }\n",
       "\n",
       "    .dataframe thead th {\n",
       "        text-align: right;\n",
       "    }\n",
       "</style>\n",
       "<table border=\"1\" class=\"dataframe\">\n",
       "  <thead>\n",
       "    <tr style=\"text-align: right;\">\n",
       "      <th></th>\n",
       "      <th>fl_date</th>\n",
       "      <th>mkt_unique_carrier</th>\n",
       "      <th>branded_code_share</th>\n",
       "      <th>mkt_carrier</th>\n",
       "      <th>mkt_carrier_fl_num</th>\n",
       "      <th>op_unique_carrier</th>\n",
       "      <th>tail_num</th>\n",
       "      <th>op_carrier_fl_num</th>\n",
       "      <th>origin_airport_id</th>\n",
       "      <th>origin</th>\n",
       "      <th>origin_city_name</th>\n",
       "      <th>dest_airport_id</th>\n",
       "      <th>dest</th>\n",
       "      <th>dest_city_name</th>\n",
       "      <th>crs_dep_time</th>\n",
       "      <th>dep_time</th>\n",
       "      <th>dep_delay</th>\n",
       "      <th>taxi_out</th>\n",
       "      <th>wheels_off</th>\n",
       "      <th>wheels_on</th>\n",
       "      <th>taxi_in</th>\n",
       "      <th>crs_arr_time</th>\n",
       "      <th>arr_time</th>\n",
       "      <th>arr_delay</th>\n",
       "      <th>cancelled</th>\n",
       "      <th>cancellation_code</th>\n",
       "      <th>diverted</th>\n",
       "      <th>dup</th>\n",
       "      <th>crs_elapsed_time</th>\n",
       "      <th>actual_elapsed_time</th>\n",
       "      <th>air_time</th>\n",
       "      <th>flights</th>\n",
       "      <th>distance</th>\n",
       "      <th>carrier_delay</th>\n",
       "      <th>weather_delay</th>\n",
       "      <th>nas_delay</th>\n",
       "      <th>security_delay</th>\n",
       "      <th>late_aircraft_delay</th>\n",
       "    </tr>\n",
       "  </thead>\n",
       "  <tbody>\n",
       "    <tr>\n",
       "      <th>0</th>\n",
       "      <td>2019-05-22</td>\n",
       "      <td>AA</td>\n",
       "      <td>AA</td>\n",
       "      <td>AA</td>\n",
       "      <td>1146</td>\n",
       "      <td>AA</td>\n",
       "      <td>N921AN</td>\n",
       "      <td>1146</td>\n",
       "      <td>11433</td>\n",
       "      <td>DTW</td>\n",
       "      <td>Detroit, MI</td>\n",
       "      <td>11298</td>\n",
       "      <td>DFW</td>\n",
       "      <td>Dallas/Fort Worth, TX</td>\n",
       "      <td>1140</td>\n",
       "      <td>1152.0</td>\n",
       "      <td>12.0</td>\n",
       "      <td>18.0</td>\n",
       "      <td>1210.0</td>\n",
       "      <td>1339.0</td>\n",
       "      <td>16.0</td>\n",
       "      <td>1333</td>\n",
       "      <td>1355.0</td>\n",
       "      <td>22.0</td>\n",
       "      <td>0</td>\n",
       "      <td>NaN</td>\n",
       "      <td>0</td>\n",
       "      <td>N</td>\n",
       "      <td>173.0</td>\n",
       "      <td>183.0</td>\n",
       "      <td>149.0</td>\n",
       "      <td>1</td>\n",
       "      <td>986</td>\n",
       "      <td>6.0</td>\n",
       "      <td>0.0</td>\n",
       "      <td>10.0</td>\n",
       "      <td>0.0</td>\n",
       "      <td>6.0</td>\n",
       "    </tr>\n",
       "  </tbody>\n",
       "</table>\n",
       "</div>"
      ],
      "text/plain": [
       "      fl_date mkt_unique_carrier branded_code_share mkt_carrier  \\\n",
       "0  2019-05-22                 AA                 AA          AA   \n",
       "\n",
       "   mkt_carrier_fl_num op_unique_carrier tail_num  op_carrier_fl_num  \\\n",
       "0                1146                AA   N921AN               1146   \n",
       "\n",
       "   origin_airport_id origin origin_city_name  dest_airport_id dest  \\\n",
       "0              11433    DTW      Detroit, MI            11298  DFW   \n",
       "\n",
       "          dest_city_name  crs_dep_time  dep_time  dep_delay  taxi_out  \\\n",
       "0  Dallas/Fort Worth, TX          1140    1152.0       12.0      18.0   \n",
       "\n",
       "   wheels_off  wheels_on  taxi_in  crs_arr_time  arr_time  arr_delay  \\\n",
       "0      1210.0     1339.0     16.0          1333    1355.0       22.0   \n",
       "\n",
       "   cancelled cancellation_code  diverted dup  crs_elapsed_time  \\\n",
       "0          0               NaN         0   N             173.0   \n",
       "\n",
       "   actual_elapsed_time  air_time  flights  distance  carrier_delay  \\\n",
       "0                183.0     149.0        1       986            6.0   \n",
       "\n",
       "   weather_delay  nas_delay  security_delay  late_aircraft_delay  \n",
       "0            0.0       10.0             0.0                  6.0  "
      ]
     },
     "execution_count": 26,
     "metadata": {},
     "output_type": "execute_result"
    }
   ],
   "source": [
    "flights_sample.head(1)"
   ]
  },
  {
   "cell_type": "code",
   "execution_count": 27,
   "metadata": {},
   "outputs": [],
   "source": [
    "flights_sample['fl_date'] = pd.to_datetime(flights_sample['fl_date'].astype(str), format='%Y-%m-%d')"
   ]
  },
  {
   "cell_type": "code",
   "execution_count": 28,
   "metadata": {
    "collapsed": true,
    "jupyter": {
     "outputs_hidden": true,
     "source_hidden": true
    }
   },
   "outputs": [
    {
     "data": {
      "text/plain": [
       "<BarContainer object of 8 artists>"
      ]
     },
     "execution_count": 28,
     "metadata": {},
     "output_type": "execute_result"
    },
    {
     "data": {
      "image/png": "[encoded data removed]",
      "text/plain": [
       "<Figure size 1296x576 with 3 Axes>"
      ]
     },
     "metadata": {
      "needs_background": "light"
     },
     "output_type": "display_data"
    }
   ],
   "source": [
    "flights_sample_avg_monthly_delay = flights_sample.groupby(by=[flights_sample['fl_date'].dt.month]).mean()['arr_delay']\n",
    "flights_sample_med_monthly_delay = flights_sample.groupby(by=[flights_sample['fl_date'].dt.month]).median()['arr_delay']\n",
    "flights_sample_monthly_flights = flights_sample.groupby(by=[flights_sample['fl_date'].dt.month]).sum()['flights']\n",
    "\n",
    "mask1 = (flights_sample_avg_monthly_delay.index > 4) & (flights_sample_avg_monthly_delay.index < 9)\n",
    "mask2 = (flights_sample_avg_monthly_delay.index <= 4) | (flights_sample_avg_monthly_delay.index >= 9)\n",
    "\n",
    "mask3 = (flights_sample_med_monthly_delay.index > 4) & (flights_sample_med_monthly_delay.index < 9)\n",
    "mask4 = (flights_sample_med_monthly_delay.index <= 4) | (flights_sample_med_monthly_delay.index >= 9)\n",
    "\n",
    "mask5 = (flights_sample_monthly_flights.index > 4) & (flights_sample_monthly_flights.index < 9)\n",
    "mask6 = (flights_sample_monthly_flights.index <= 4) | (flights_sample_monthly_flights.index >= 9)\n",
    "\n",
    "plt.figure(figsize=(18,8))\n",
    "plt.subplot(1,3,1)\n",
    "plt.bar(flights_sample_avg_monthly_delay.index[mask1], flights_sample_avg_monthly_delay.values[mask1], color='red')\n",
    "plt.bar(flights_sample_avg_monthly_delay.index[mask2], flights_sample_avg_monthly_delay.values[mask2], color='blue')\n",
    "\n",
    "plt.subplot(1,3,2)\n",
    "plt.bar(flights_sample_med_monthly_delay.index[mask3], flights_sample_med_monthly_delay.values[mask3], color='red')\n",
    "plt.bar(flights_sample_med_monthly_delay.index[mask4], flights_sample_med_monthly_delay.values[mask4], color='blue')\n",
    "\n",
    "plt.subplot(1,3,3)\n",
    "plt.bar(flights_sample_monthly_flights.index[mask5], flights_sample_monthly_flights.values[mask5], color='red')\n",
    "plt.bar(flights_sample_monthly_flights.index[mask6], flights_sample_monthly_flights.values[mask6], color='blue')"
   ]
  },
  {
   "cell_type": "markdown",
   "metadata": {},
   "source": [
    "##### Check again after removing outliers"
   ]
  },
  {
   "cell_type": "code",
   "execution_count": 29,
   "metadata": {
    "collapsed": true,
    "jupyter": {
     "outputs_hidden": true,
     "source_hidden": true
    }
   },
   "outputs": [
    {
     "data": {
      "text/plain": [
       "<BarContainer object of 8 artists>"
      ]
     },
     "execution_count": 29,
     "metadata": {},
     "output_type": "execute_result"
    },
    {
     "data": {
      "image/png": "[encoded data removed]",
      "text/plain": [
       "<Figure size 1296x576 with 3 Axes>"
      ]
     },
     "metadata": {
      "needs_background": "light"
     },
     "output_type": "display_data"
    }
   ],
   "source": [
    "flights_sample_iqr_cleaned['fl_date'] = pd.to_datetime(flights_sample_iqr_cleaned['fl_date'].astype(str), format='%Y-%m-%d')\n",
    "\n",
    "flights_sample_iqr_cleaned_avg_monthly_delay = flights_sample_iqr_cleaned.groupby(by=[flights_sample_iqr_cleaned['fl_date'].dt.month]).mean()['arr_delay']\n",
    "flights_sample_iqr_cleaned_med_monthly_delay = flights_sample_iqr_cleaned.groupby(by=[flights_sample_iqr_cleaned['fl_date'].dt.month]).median()['arr_delay']\n",
    "flights_sample_iqr_cleaned_monthly_flights = flights_sample_iqr_cleaned.groupby(by=[flights_sample_iqr_cleaned['fl_date'].dt.month]).sum()['flights']\n",
    "\n",
    "mask1 = (flights_sample_iqr_cleaned_avg_monthly_delay.index > 4) & (flights_sample_iqr_cleaned_avg_monthly_delay.index < 9)\n",
    "mask2 = (flights_sample_iqr_cleaned_avg_monthly_delay.index <= 4) | (flights_sample_iqr_cleaned_avg_monthly_delay.index >= 9)\n",
    "\n",
    "mask3 = (flights_sample_iqr_cleaned_med_monthly_delay.index > 4) & (flights_sample_iqr_cleaned_med_monthly_delay.index < 9)\n",
    "mask4 = (flights_sample_iqr_cleaned_med_monthly_delay.index <= 4) | (flights_sample_iqr_cleaned_med_monthly_delay.index >= 9)\n",
    "\n",
    "mask5 = (flights_sample_iqr_cleaned_monthly_flights.index > 4) & (flights_sample_iqr_cleaned_monthly_flights.index < 9)\n",
    "mask6 = (flights_sample_iqr_cleaned_monthly_flights.index <= 4) | (flights_sample_iqr_cleaned_monthly_flights.index >= 9)\n",
    "\n",
    "plt.figure(figsize=(18,8))\n",
    "plt.subplot(1,3,1)\n",
    "plt.bar(flights_sample_iqr_cleaned_avg_monthly_delay.index[mask1], flights_sample_iqr_cleaned_avg_monthly_delay.values[mask1], color='red')\n",
    "plt.bar(flights_sample_iqr_cleaned_avg_monthly_delay.index[mask2], flights_sample_iqr_cleaned_avg_monthly_delay.values[mask2], color='blue')\n",
    "\n",
    "plt.subplot(1,3,2)\n",
    "plt.bar(flights_sample_iqr_cleaned_med_monthly_delay.index[mask3], flights_sample_iqr_cleaned_med_monthly_delay.values[mask3], color='red')\n",
    "plt.bar(flights_sample_iqr_cleaned_med_monthly_delay.index[mask4], flights_sample_iqr_cleaned_med_monthly_delay.values[mask4], color='blue')\n",
    "\n",
    "plt.subplot(1,3,3)\n",
    "plt.bar(flights_sample_iqr_cleaned_monthly_flights.index[mask5], flights_sample_iqr_cleaned_monthly_flights.values[mask5], color='red')\n",
    "plt.bar(flights_sample_iqr_cleaned_monthly_flights.index[mask6], flights_sample_iqr_cleaned_monthly_flights.values[mask6], color='blue')"
   ]
  },
  {
   "cell_type": "markdown",
   "metadata": {},
   "source": [
    "##### The summer months (5-8 or May-Aug) have longer average delays than other months. This is likely due mostly to weather. \n",
    "- Summer months are much hotter:\n",
    "    - Storms will ground flights\n",
    "    - fog requires planes to space out more during taxi, landing, and takeoff. This will cause flights to take longer to go from gate to gate, which will incur delays\n",
    "    - weather could also cause flights to re-route, also causing delays\n",
    "- The ambient temperature could potentially cause technical problems on the aircraft that will need to be resolved before takeoff\n",
    "    - there is likely an increased amount of checks performed in the summer (i.e brake temp)\n",
    "- There are slightly more flights during these months than others. With more flights and the fact that a single delay can have a cascading effect, this is likely a contributer to the higher average delays for these motnhs"
   ]
  },
  {
   "cell_type": "code",
   "execution_count": null,
   "metadata": {},
   "outputs": [],
   "source": []
  },
  {
   "cell_type": "markdown",
   "metadata": {
    "jupyter": {
     "source_hidden": true
    }
   },
   "source": [
    "#### **Task 3**: Does the weather affect the delay? \n",
    "Use the API to pull the weather information for flights. There is no need to get weather for ALL flights. We can choose the right representative sample. Let's focus on four weather types:\n",
    "- sunny\n",
    "- cloudy\n",
    "- rainy\n",
    "- snow.\n",
    "Test the hypothesis that these 4 delays are from the same distribution. If they are not, which ones are significantly different?"
   ]
  },
  {
   "cell_type": "code",
   "execution_count": 30,
   "metadata": {},
   "outputs": [],
   "source": [
    "from sklearn.model_selection import train_test_split\n",
    "weather_sample_source, _ = train_test_split(flights_sample, train_size=200)"
   ]
  },
  {
   "cell_type": "code",
   "execution_count": 31,
   "metadata": {
    "collapsed": true,
    "jupyter": {
     "outputs_hidden": true
    }
   },
   "outputs": [
    {
     "data": {
      "text/html": [
       "<div>\n",
       "<style scoped>\n",
       "    .dataframe tbody tr th:only-of-type {\n",
       "        vertical-align: middle;\n",
       "    }\n",
       "\n",
       "    .dataframe tbody tr th {\n",
       "        vertical-align: top;\n",
       "    }\n",
       "\n",
       "    .dataframe thead th {\n",
       "        text-align: right;\n",
       "    }\n",
       "</style>\n",
       "<table border=\"1\" class=\"dataframe\">\n",
       "  <thead>\n",
       "    <tr style=\"text-align: right;\">\n",
       "      <th></th>\n",
       "      <th>fl_date</th>\n",
       "      <th>crs_arr_time</th>\n",
       "      <th>dest_city_name</th>\n",
       "      <th>arr_delay</th>\n",
       "    </tr>\n",
       "  </thead>\n",
       "  <tbody>\n",
       "    <tr>\n",
       "      <th>0</th>\n",
       "      <td>2019-11-19</td>\n",
       "      <td>1938</td>\n",
       "      <td>Seattle, WA</td>\n",
       "      <td>-33.0</td>\n",
       "    </tr>\n",
       "    <tr>\n",
       "      <th>1</th>\n",
       "      <td>2018-05-20</td>\n",
       "      <td>1650</td>\n",
       "      <td>Myrtle Beach, SC</td>\n",
       "      <td>-9.0</td>\n",
       "    </tr>\n",
       "    <tr>\n",
       "      <th>2</th>\n",
       "      <td>2018-10-04</td>\n",
       "      <td>859</td>\n",
       "      <td>Denver, CO</td>\n",
       "      <td>-21.0</td>\n",
       "    </tr>\n",
       "    <tr>\n",
       "      <th>3</th>\n",
       "      <td>2018-04-10</td>\n",
       "      <td>1641</td>\n",
       "      <td>Tulsa, OK</td>\n",
       "      <td>7.0</td>\n",
       "    </tr>\n",
       "    <tr>\n",
       "      <th>4</th>\n",
       "      <td>2018-11-08</td>\n",
       "      <td>852</td>\n",
       "      <td>Omaha, NE</td>\n",
       "      <td>-20.0</td>\n",
       "    </tr>\n",
       "    <tr>\n",
       "      <th>...</th>\n",
       "      <td>...</td>\n",
       "      <td>...</td>\n",
       "      <td>...</td>\n",
       "      <td>...</td>\n",
       "    </tr>\n",
       "    <tr>\n",
       "      <th>195</th>\n",
       "      <td>2019-07-17</td>\n",
       "      <td>823</td>\n",
       "      <td>Chicago, IL</td>\n",
       "      <td>-9.0</td>\n",
       "    </tr>\n",
       "    <tr>\n",
       "      <th>196</th>\n",
       "      <td>2018-11-14</td>\n",
       "      <td>2340</td>\n",
       "      <td>Knoxville, TN</td>\n",
       "      <td>7.0</td>\n",
       "    </tr>\n",
       "    <tr>\n",
       "      <th>197</th>\n",
       "      <td>2018-02-14</td>\n",
       "      <td>1355</td>\n",
       "      <td>Los Angeles, CA</td>\n",
       "      <td>-16.0</td>\n",
       "    </tr>\n",
       "    <tr>\n",
       "      <th>198</th>\n",
       "      <td>2019-03-24</td>\n",
       "      <td>920</td>\n",
       "      <td>Des Moines, IA</td>\n",
       "      <td>-29.0</td>\n",
       "    </tr>\n",
       "    <tr>\n",
       "      <th>199</th>\n",
       "      <td>2019-06-19</td>\n",
       "      <td>1252</td>\n",
       "      <td>Detroit, MI</td>\n",
       "      <td>-19.0</td>\n",
       "    </tr>\n",
       "  </tbody>\n",
       "</table>\n",
       "<p>200 rows × 4 columns</p>\n",
       "</div>"
      ],
      "text/plain": [
       "       fl_date  crs_arr_time    dest_city_name  arr_delay\n",
       "0   2019-11-19          1938       Seattle, WA      -33.0\n",
       "1   2018-05-20          1650  Myrtle Beach, SC       -9.0\n",
       "2   2018-10-04           859        Denver, CO      -21.0\n",
       "3   2018-04-10          1641         Tulsa, OK        7.0\n",
       "4   2018-11-08           852         Omaha, NE      -20.0\n",
       "..         ...           ...               ...        ...\n",
       "195 2019-07-17           823       Chicago, IL       -9.0\n",
       "196 2018-11-14          2340     Knoxville, TN        7.0\n",
       "197 2018-02-14          1355   Los Angeles, CA      -16.0\n",
       "198 2019-03-24           920    Des Moines, IA      -29.0\n",
       "199 2019-06-19          1252       Detroit, MI      -19.0\n",
       "\n",
       "[200 rows x 4 columns]"
      ]
     },
     "execution_count": 31,
     "metadata": {},
     "output_type": "execute_result"
    }
   ],
   "source": [
    "weather_sample = weather_sample_source.loc[:, ['fl_date', 'crs_arr_time', 'dest_city_name', 'arr_delay']]\n",
    "weather_sample.reset_index(inplace=True)\n",
    "weather_sample.drop(columns='index', inplace=True)\n",
    "weather_sample.fillna(0, inplace=True)\n",
    "weather_sample"
   ]
  },
  {
   "cell_type": "code",
   "execution_count": 32,
   "metadata": {
    "jupyter": {
     "source_hidden": true
    }
   },
   "outputs": [],
   "source": [
    "#weather code definitions from wwo.com\n",
    "weather_codes = {'snowing': ['395', '392', '371', '368', '338', '335', '332', '329', '326', '323', '230', '227', '179'], \n",
    "                 'raining': ['389', '386', '377', '374', '365', '362', '359', '356', '353', '350', '320', '317', '314', '311', '308', '305', '302', '299', '296', '293', '284', '281', '266', '263', '200', '185', '182', '176', '143'],\n",
    "                 'cloudy': ['260', '248', '122', '119', '116']\n",
    "                }"
   ]
  },
  {
   "cell_type": "code",
   "execution_count": 33,
   "metadata": {
    "jupyter": {
     "source_hidden": true
    }
   },
   "outputs": [],
   "source": [
    "import requests as re\n",
    "\n",
    "sunny, cloudy, raining, snowing = [], [], [], [] #empty lists to store weather bools\n",
    "\n",
    "for row in range(len(weather_sample)): #iterate through every row\n",
    "    location = weather_sample.iloc[row, 2].strip() #the location to check is the city name of the row\n",
    "    date = weather_sample.iloc[row, 0] #the date of the row\n",
    "    url = f'http://api.worldweatheronline.com/premium/v1/past-weather.ashx?key=86af8eadab3b4477a0114850211101&q={location}&format=json&date={date}' #search for city\n",
    "    res = re.get(url).json()\n",
    "    \n",
    "    if weather_sample.iloc[row, 1] < 300:\n",
    "        if res['data']['weather'][0]['hourly'][0]['weatherCode'] in weather_codes['snowing']:\n",
    "            sunny.append(0)\n",
    "            cloudy.append(0)\n",
    "            raining.append(0)\n",
    "            snowing.append(1)\n",
    "            \n",
    "        elif res['data']['weather'][0]['hourly'][0]['weatherCode'] in weather_codes['raining']:\n",
    "            sunny.append(0)\n",
    "            cloudy.append(0)\n",
    "            raining.append(1)\n",
    "            snowing.append(0)\n",
    "            \n",
    "        elif res['data']['weather'][0]['hourly'][0]['weatherCode'] in weather_codes['cloudy']:\n",
    "            sunny.append(0)\n",
    "            cloudy.append(1)\n",
    "            raining.append(0)\n",
    "            snowing.append(0)\n",
    "            \n",
    "        else:\n",
    "            sunny.append(1)\n",
    "            cloudy.append(0)\n",
    "            raining.append(0)\n",
    "            snowing.append(0)\n",
    "            \n",
    "    elif weather_sample.iloc[row, 1] >= 300 and weather_sample.iloc[row, 1] < 600:\n",
    "        if res['data']['weather'][0]['hourly'][1]['weatherCode'] in weather_codes['snowing']:\n",
    "            sunny.append(0)\n",
    "            cloudy.append(0)\n",
    "            raining.append(0)\n",
    "            snowing.append(1)\n",
    "            \n",
    "        elif res['data']['weather'][0]['hourly'][1]['weatherCode'] in weather_codes['raining']:\n",
    "            sunny.append(0)\n",
    "            cloudy.append(0)\n",
    "            raining.append(1)\n",
    "            snowing.append(0)\n",
    "            \n",
    "        elif res['data']['weather'][0]['hourly'][1]['weatherCode'] in weather_codes['cloudy']:\n",
    "            sunny.append(0)\n",
    "            cloudy.append(1)\n",
    "            raining.append(0)\n",
    "            snowing.append(0)\n",
    "            \n",
    "        else:\n",
    "            sunny.append(1)\n",
    "            cloudy.append(0)\n",
    "            raining.append(0)\n",
    "            snowing.append(0)\n",
    "            \n",
    "    elif weather_sample.iloc[row, 1] >= 600 and weather_sample.iloc[row, 1] < 900:\n",
    "        if res['data']['weather'][0]['hourly'][2]['weatherCode'] in weather_codes['snowing']:\n",
    "            sunny.append(0)\n",
    "            cloudy.append(0)\n",
    "            raining.append(0)\n",
    "            snowing.append(1)\n",
    "            \n",
    "        elif res['data']['weather'][0]['hourly'][2]['weatherCode'] in weather_codes['raining']:\n",
    "            sunny.append(0)\n",
    "            cloudy.append(0)\n",
    "            raining.append(1)\n",
    "            snowing.append(0)\n",
    "            \n",
    "        elif res['data']['weather'][0]['hourly'][2]['weatherCode'] in weather_codes['cloudy']:\n",
    "            sunny.append(0)\n",
    "            cloudy.append(1)\n",
    "            raining.append(0)\n",
    "            snowing.append(0)\n",
    "            \n",
    "        else:\n",
    "            sunny.append(1)\n",
    "            cloudy.append(0)\n",
    "            raining.append(0)\n",
    "            snowing.append(0)\n",
    "            \n",
    "    elif weather_sample.iloc[row, 1] >= 900 and weather_sample.iloc[row, 1] < 1200:\n",
    "        if res['data']['weather'][0]['hourly'][3]['weatherCode'] in weather_codes['snowing']:\n",
    "            sunny.append(0)\n",
    "            cloudy.append(0)\n",
    "            raining.append(0)\n",
    "            snowing.append(1)\n",
    "            \n",
    "        elif res['data']['weather'][0]['hourly'][3]['weatherCode'] in weather_codes['raining']:\n",
    "            sunny.append(0)\n",
    "            cloudy.append(0)\n",
    "            raining.append(1)\n",
    "            snowing.append(0)\n",
    "            \n",
    "        elif res['data']['weather'][0]['hourly'][3]['weatherCode'] in weather_codes['cloudy']:\n",
    "            sunny.append(0)\n",
    "            cloudy.append(1)\n",
    "            raining.append(0)\n",
    "            snowing.append(0)\n",
    "            \n",
    "        else:\n",
    "            sunny.append(1)\n",
    "            cloudy.append(0)\n",
    "            raining.append(0)\n",
    "            snowing.append(0)\n",
    "            \n",
    "    elif weather_sample.iloc[row, 1] >= 1200 and weather_sample.iloc[row, 1] < 1500:\n",
    "        if res['data']['weather'][0]['hourly'][4]['weatherCode'] in weather_codes['snowing']:\n",
    "            sunny.append(0)\n",
    "            cloudy.append(0)\n",
    "            raining.append(0)\n",
    "            snowing.append(1)\n",
    "            \n",
    "        elif res['data']['weather'][0]['hourly'][4]['weatherCode'] in weather_codes['raining']:\n",
    "            sunny.append(0)\n",
    "            cloudy.append(0)\n",
    "            raining.append(1)\n",
    "            snowing.append(0)\n",
    "            \n",
    "        elif res['data']['weather'][0]['hourly'][4]['weatherCode'] in weather_codes['cloudy']:\n",
    "            sunny.append(0)\n",
    "            cloudy.append(1)\n",
    "            raining.append(0)\n",
    "            snowing.append(0)\n",
    "            \n",
    "        else:\n",
    "            sunny.append(1)\n",
    "            cloudy.append(0)\n",
    "            raining.append(0)\n",
    "            snowing.append(0)\n",
    "            \n",
    "    elif weather_sample.iloc[row, 1] >= 1500 and weather_sample.iloc[row, 1] < 1800:\n",
    "        if res['data']['weather'][0]['hourly'][5]['weatherCode'] in weather_codes['snowing']:\n",
    "            sunny.append(0)\n",
    "            cloudy.append(0)\n",
    "            raining.append(0)\n",
    "            snowing.append(1)\n",
    "            \n",
    "        elif res['data']['weather'][0]['hourly'][5]['weatherCode'] in weather_codes['raining']:\n",
    "            sunny.append(0)\n",
    "            cloudy.append(0)\n",
    "            raining.append(1)\n",
    "            snowing.append(0)\n",
    "            \n",
    "        elif res['data']['weather'][0]['hourly'][5]['weatherCode'] in weather_codes['cloudy']:\n",
    "            sunny.append(0)\n",
    "            cloudy.append(1)\n",
    "            raining.append(0)\n",
    "            snowing.append(0)\n",
    "            \n",
    "        else:\n",
    "            sunny.append(1)\n",
    "            cloudy.append(0)\n",
    "            raining.append(0)\n",
    "            snowing.append(0)\n",
    "            \n",
    "    elif weather_sample.iloc[row, 1] >= 1800 and weather_sample.iloc[row, 1] < 2100:\n",
    "        if res['data']['weather'][0]['hourly'][6]['weatherCode'] in weather_codes['snowing']:\n",
    "            sunny.append(0)\n",
    "            cloudy.append(0)\n",
    "            raining.append(0)\n",
    "            snowing.append(1)\n",
    "            \n",
    "        elif res['data']['weather'][0]['hourly'][6]['weatherCode'] in weather_codes['raining']:\n",
    "            sunny.append(0)\n",
    "            cloudy.append(0)\n",
    "            raining.append(1)\n",
    "            snowing.append(0)\n",
    "            \n",
    "        elif res['data']['weather'][0]['hourly'][6]['weatherCode'] in weather_codes['cloudy']:\n",
    "            sunny.append(0)\n",
    "            cloudy.append(1)\n",
    "            raining.append(0)\n",
    "            snowing.append(0)\n",
    "            \n",
    "        else:\n",
    "            sunny.append(1)\n",
    "            cloudy.append(0)\n",
    "            raining.append(0)\n",
    "            snowing.append(0)\n",
    "            \n",
    "    else:\n",
    "        if res['data']['weather'][0]['hourly'][7]['weatherCode'] in weather_codes['snowing']:\n",
    "            sunny.append(0)\n",
    "            cloudy.append(0)\n",
    "            raining.append(0)\n",
    "            snowing.append(1)\n",
    "            \n",
    "        elif res['data']['weather'][0]['hourly'][7]['weatherCode'] in weather_codes['raining']:\n",
    "            sunny.append(0)\n",
    "            cloudy.append(0)\n",
    "            raining.append(1)\n",
    "            snowing.append(0)\n",
    "            \n",
    "        elif res['data']['weather'][0]['hourly'][7]['weatherCode'] in weather_codes['cloudy']:\n",
    "            sunny.append(0)\n",
    "            cloudy.append(1)\n",
    "            raining.append(0)\n",
    "            snowing.append(0)\n",
    "            \n",
    "        else:\n",
    "            sunny.append(1)\n",
    "            cloudy.append(0)\n",
    "            raining.append(0)\n",
    "            snowing.append(0)"
   ]
  },
  {
   "cell_type": "code",
   "execution_count": 34,
   "metadata": {
    "collapsed": true,
    "jupyter": {
     "outputs_hidden": true,
     "source_hidden": true
    }
   },
   "outputs": [
    {
     "data": {
      "text/html": [
       "<div>\n",
       "<style scoped>\n",
       "    .dataframe tbody tr th:only-of-type {\n",
       "        vertical-align: middle;\n",
       "    }\n",
       "\n",
       "    .dataframe tbody tr th {\n",
       "        vertical-align: top;\n",
       "    }\n",
       "\n",
       "    .dataframe thead th {\n",
       "        text-align: right;\n",
       "    }\n",
       "</style>\n",
       "<table border=\"1\" class=\"dataframe\">\n",
       "  <thead>\n",
       "    <tr style=\"text-align: right;\">\n",
       "      <th></th>\n",
       "      <th>fl_date</th>\n",
       "      <th>crs_arr_time</th>\n",
       "      <th>dest_city_name</th>\n",
       "      <th>arr_delay</th>\n",
       "      <th>sunny</th>\n",
       "      <th>cloudy</th>\n",
       "      <th>raining</th>\n",
       "      <th>snowing</th>\n",
       "    </tr>\n",
       "  </thead>\n",
       "  <tbody>\n",
       "    <tr>\n",
       "      <th>0</th>\n",
       "      <td>2019-11-19</td>\n",
       "      <td>1938</td>\n",
       "      <td>Seattle, WA</td>\n",
       "      <td>-33.0</td>\n",
       "      <td>0</td>\n",
       "      <td>1</td>\n",
       "      <td>0</td>\n",
       "      <td>0</td>\n",
       "    </tr>\n",
       "    <tr>\n",
       "      <th>1</th>\n",
       "      <td>2018-05-20</td>\n",
       "      <td>1650</td>\n",
       "      <td>Myrtle Beach, SC</td>\n",
       "      <td>-9.0</td>\n",
       "      <td>0</td>\n",
       "      <td>1</td>\n",
       "      <td>0</td>\n",
       "      <td>0</td>\n",
       "    </tr>\n",
       "    <tr>\n",
       "      <th>2</th>\n",
       "      <td>2018-10-04</td>\n",
       "      <td>859</td>\n",
       "      <td>Denver, CO</td>\n",
       "      <td>-21.0</td>\n",
       "      <td>0</td>\n",
       "      <td>1</td>\n",
       "      <td>0</td>\n",
       "      <td>0</td>\n",
       "    </tr>\n",
       "    <tr>\n",
       "      <th>3</th>\n",
       "      <td>2018-04-10</td>\n",
       "      <td>1641</td>\n",
       "      <td>Tulsa, OK</td>\n",
       "      <td>7.0</td>\n",
       "      <td>1</td>\n",
       "      <td>0</td>\n",
       "      <td>0</td>\n",
       "      <td>0</td>\n",
       "    </tr>\n",
       "    <tr>\n",
       "      <th>4</th>\n",
       "      <td>2018-11-08</td>\n",
       "      <td>852</td>\n",
       "      <td>Omaha, NE</td>\n",
       "      <td>-20.0</td>\n",
       "      <td>0</td>\n",
       "      <td>1</td>\n",
       "      <td>0</td>\n",
       "      <td>0</td>\n",
       "    </tr>\n",
       "    <tr>\n",
       "      <th>...</th>\n",
       "      <td>...</td>\n",
       "      <td>...</td>\n",
       "      <td>...</td>\n",
       "      <td>...</td>\n",
       "      <td>...</td>\n",
       "      <td>...</td>\n",
       "      <td>...</td>\n",
       "      <td>...</td>\n",
       "    </tr>\n",
       "    <tr>\n",
       "      <th>195</th>\n",
       "      <td>2019-07-17</td>\n",
       "      <td>823</td>\n",
       "      <td>Chicago, IL</td>\n",
       "      <td>-9.0</td>\n",
       "      <td>0</td>\n",
       "      <td>0</td>\n",
       "      <td>1</td>\n",
       "      <td>0</td>\n",
       "    </tr>\n",
       "    <tr>\n",
       "      <th>196</th>\n",
       "      <td>2018-11-14</td>\n",
       "      <td>2340</td>\n",
       "      <td>Knoxville, TN</td>\n",
       "      <td>7.0</td>\n",
       "      <td>0</td>\n",
       "      <td>0</td>\n",
       "      <td>1</td>\n",
       "      <td>0</td>\n",
       "    </tr>\n",
       "    <tr>\n",
       "      <th>197</th>\n",
       "      <td>2018-02-14</td>\n",
       "      <td>1355</td>\n",
       "      <td>Los Angeles, CA</td>\n",
       "      <td>-16.0</td>\n",
       "      <td>0</td>\n",
       "      <td>1</td>\n",
       "      <td>0</td>\n",
       "      <td>0</td>\n",
       "    </tr>\n",
       "    <tr>\n",
       "      <th>198</th>\n",
       "      <td>2019-03-24</td>\n",
       "      <td>920</td>\n",
       "      <td>Des Moines, IA</td>\n",
       "      <td>-29.0</td>\n",
       "      <td>0</td>\n",
       "      <td>1</td>\n",
       "      <td>0</td>\n",
       "      <td>0</td>\n",
       "    </tr>\n",
       "    <tr>\n",
       "      <th>199</th>\n",
       "      <td>2019-06-19</td>\n",
       "      <td>1252</td>\n",
       "      <td>Detroit, MI</td>\n",
       "      <td>-19.0</td>\n",
       "      <td>0</td>\n",
       "      <td>1</td>\n",
       "      <td>0</td>\n",
       "      <td>0</td>\n",
       "    </tr>\n",
       "  </tbody>\n",
       "</table>\n",
       "<p>200 rows × 8 columns</p>\n",
       "</div>"
      ],
      "text/plain": [
       "       fl_date  crs_arr_time    dest_city_name  arr_delay  sunny  cloudy  \\\n",
       "0   2019-11-19          1938       Seattle, WA      -33.0      0       1   \n",
       "1   2018-05-20          1650  Myrtle Beach, SC       -9.0      0       1   \n",
       "2   2018-10-04           859        Denver, CO      -21.0      0       1   \n",
       "3   2018-04-10          1641         Tulsa, OK        7.0      1       0   \n",
       "4   2018-11-08           852         Omaha, NE      -20.0      0       1   \n",
       "..         ...           ...               ...        ...    ...     ...   \n",
       "195 2019-07-17           823       Chicago, IL       -9.0      0       0   \n",
       "196 2018-11-14          2340     Knoxville, TN        7.0      0       0   \n",
       "197 2018-02-14          1355   Los Angeles, CA      -16.0      0       1   \n",
       "198 2019-03-24           920    Des Moines, IA      -29.0      0       1   \n",
       "199 2019-06-19          1252       Detroit, MI      -19.0      0       1   \n",
       "\n",
       "     raining  snowing  \n",
       "0          0        0  \n",
       "1          0        0  \n",
       "2          0        0  \n",
       "3          0        0  \n",
       "4          0        0  \n",
       "..       ...      ...  \n",
       "195        1        0  \n",
       "196        1        0  \n",
       "197        0        0  \n",
       "198        0        0  \n",
       "199        0        0  \n",
       "\n",
       "[200 rows x 8 columns]"
      ]
     },
     "execution_count": 34,
     "metadata": {},
     "output_type": "execute_result"
    }
   ],
   "source": [
    "weather_sample['sunny'] = sunny\n",
    "weather_sample['cloudy'] = cloudy\n",
    "weather_sample['raining'] = raining\n",
    "weather_sample['snowing'] = snowing\n",
    "weather_sample"
   ]
  },
  {
   "cell_type": "code",
   "execution_count": 35,
   "metadata": {
    "collapsed": true,
    "jupyter": {
     "outputs_hidden": true,
     "source_hidden": true
    }
   },
   "outputs": [
    {
     "data": {
      "text/plain": [
       "Text(0.5, 1.0, 'Snowing arrival delay')"
      ]
     },
     "execution_count": 35,
     "metadata": {},
     "output_type": "execute_result"
    },
    {
     "data": {
      "image/png": "[encoded data removed]",
      "text/plain": [
       "<Figure size 864x1152 with 4 Axes>"
      ]
     },
     "metadata": {
      "needs_background": "light"
     },
     "output_type": "display_data"
    }
   ],
   "source": [
    "plt.figure(figsize=(12,16))\n",
    "\n",
    "plt.subplot(4,1,1)\n",
    "plt.hist(weather_sample.loc[weather_sample['sunny'] == 1, 'arr_delay'])\n",
    "plt.title('Sunny arrival delay')\n",
    "\n",
    "plt.subplot(4,1,2)\n",
    "plt.hist(weather_sample.loc[weather_sample['cloudy'] == 1, 'arr_delay'])\n",
    "plt.title('Cloudy arrival delay')\n",
    "\n",
    "plt.subplot(4,1,3)\n",
    "plt.hist(weather_sample.loc[weather_sample['raining'] == 1, 'arr_delay'])\n",
    "plt.title('Raining arrival delay')\n",
    "\n",
    "plt.subplot(4,1,4)\n",
    "plt.hist(weather_sample.loc[weather_sample['snowing'] == 1, 'arr_delay'])\n",
    "plt.title('Snowing arrival delay')"
   ]
  },
  {
   "cell_type": "markdown",
   "metadata": {},
   "source": [
    "- Out of API calls (max 500 per day). Makes it very tough to answer this question with only 500 calls per day.\n",
    "- Sunny and rainy days appear to have the same distribution (hard to say with this many samples)\n",
    "- Clouds do not appear to have an effect on delays\n",
    "- Sunny days have lower delays\n",
    "- snowing days have random distributions of delays"
   ]
  },
  {
   "cell_type": "code",
   "execution_count": null,
   "metadata": {},
   "outputs": [],
   "source": []
  },
  {
   "cell_type": "markdown",
   "metadata": {},
   "source": [
    "#### **Task 4**: How taxi times changing during the day? Does higher traffic lead to bigger taxi times?"
   ]
  },
  {
   "cell_type": "code",
   "execution_count": 36,
   "metadata": {
    "jupyter": {
     "source_hidden": true
    }
   },
   "outputs": [],
   "source": [
    "flights_sample_minute_dep_taxi = flights_sample.groupby(by=flights_sample['dep_time']).mean()[['taxi_out']]\n",
    "flights_sample_minute_dep_flights = flights_sample.groupby(by=flights_sample['dep_time']).count()[['flights']]\n",
    "\n",
    "flights_sample_minute_arr_taxi = flights_sample.groupby(by=flights_sample['arr_time']).mean()[['taxi_in']]\n",
    "flights_sample_minute_arr_flights = flights_sample.groupby(by=flights_sample['arr_time']).count()[['flights']]\n",
    "\n",
    "flights_sample_minute_dep = pd.concat([flights_sample_minute_dep_taxi, flights_sample_minute_dep_flights], axis=1)#.reset_index()\n",
    "flights_sample_minute_arr = pd.concat([flights_sample_minute_arr_taxi, flights_sample_minute_arr_flights], axis=1)#.reset_index()\n",
    "\n",
    "flights_sample_minute_dep.reset_index(inplace=True)\n",
    "flights_sample_minute_arr.reset_index(inplace=True)\n",
    "\n",
    "flights_sample_minute_dep['dep_time'] = flights_sample_minute_dep['dep_time'].astype(int).astype(str)#first int to remove decimal, then string to manioulate into 4 digits for datetime conversion\n",
    "flights_sample_minute_arr['arr_time'] = flights_sample_minute_arr['arr_time'].astype(int).astype(str)#pandas uses 00:01 - 23:99 as timeframes\n",
    "\n",
    "\n",
    "\n",
    "for row in range(len(flights_sample_minute_dep)):\n",
    "    if flights_sample_minute_dep['dep_time'][row] == '2400':\n",
    "        flights_sample_minute_dep.iloc[row, 0] = '00:00'\n",
    "        \n",
    "    elif len(flights_sample_minute_dep['dep_time'][row]) == 1:\n",
    "        flights_sample_minute_dep.iloc[row, 0] = '00:0' + flights_sample_minute_dep['dep_time'][row]\n",
    "        \n",
    "    elif len(flights_sample_minute_dep['dep_time'][row]) == 2:\n",
    "        flights_sample_minute_dep.iloc[row, 0] = '00:' + flights_sample_minute_dep['dep_time'][row]\n",
    "        \n",
    "    elif len(flights_sample_minute_dep['dep_time'][row]) == 3:\n",
    "        flights_sample_minute_dep.iloc[row, 0] = '0' + flights_sample_minute_dep['dep_time'][row][0] + ':' + flights_sample_minute_dep['dep_time'][row][1:]\n",
    "        \n",
    "    elif len(flights_sample_minute_dep['dep_time'][row]) == 4:\n",
    "        flights_sample_minute_dep.iloc[row, 0] = flights_sample_minute_dep['dep_time'][row][0:2] + ':' + flights_sample_minute_dep['dep_time'][row][2:]\n",
    "        \n",
    "for row in range(len(flights_sample_minute_arr)):\n",
    "    if flights_sample_minute_arr['arr_time'][row] == '2400':\n",
    "        flights_sample_minute_arr.iloc[row, 0] = '00:00'\n",
    "        \n",
    "    elif len(flights_sample_minute_arr['arr_time'][row]) == 1:\n",
    "        flights_sample_minute_arr.iloc[row, 0] = '00:0' + flights_sample_minute_arr['arr_time'][row]\n",
    "        \n",
    "    elif len(flights_sample_minute_arr['arr_time'][row]) == 2:\n",
    "        flights_sample_minute_arr.iloc[row, 0] = '00:' + flights_sample_minute_arr['arr_time'][row]\n",
    "        \n",
    "    elif len(flights_sample_minute_arr['arr_time'][row]) == 3:\n",
    "        flights_sample_minute_arr.iloc[row, 0] = '0' + flights_sample_minute_arr['arr_time'][row][0] + ':' + flights_sample_minute_arr['arr_time'][row][1:]\n",
    "        \n",
    "    elif len(flights_sample_minute_arr['arr_time'][row]) == 4:\n",
    "        flights_sample_minute_arr.iloc[row, 0] = flights_sample_minute_arr['arr_time'][row][0:2] + ':' + flights_sample_minute_arr['arr_time'][row][2:]\n",
    "        \n",
    "        \n",
    "        \n",
    "flights_sample_minute_dep['dep_time'] = pd.to_datetime(flights_sample_minute_dep['dep_time'], format='%H:%M')\n",
    "flights_sample_minute_arr['arr_time'] = pd.to_datetime(flights_sample_minute_arr['arr_time'], format='%H:%M')\n",
    "\n",
    "\n",
    "flights_sample_hourly_dep = flights_sample_minute_dep.groupby(by=flights_sample_minute_dep['dep_time'].dt.hour).mean()\n",
    "flights_sample_hourly_arr = flights_sample_minute_arr.groupby(by=flights_sample_minute_arr['arr_time'].dt.hour).mean()\n",
    "\n",
    "flights_sample_hourly_taxi_flights = pd.DataFrame({'Avg Flights':((flights_sample_hourly_dep['flights'] + flights_sample_hourly_arr['flights'])/2), \n",
    "                                                   'Avg Taxi Times':((flights_sample_hourly_dep['taxi_out'] + flights_sample_hourly_arr['taxi_in'])/2)\n",
    "                                                  })"
   ]
  },
  {
   "cell_type": "code",
   "execution_count": 37,
   "metadata": {},
   "outputs": [
    {
     "data": {
      "text/plain": [
       "Text(0.5, 1.0, 'Avg Hourly Taxi Times')"
      ]
     },
     "execution_count": 37,
     "metadata": {},
     "output_type": "execute_result"
    },
    {
     "data": {
      "image/png": "[encoded data removed]",
      "text/plain": [
       "<Figure size 1440x864 with 2 Axes>"
      ]
     },
     "metadata": {
      "needs_background": "light"
     },
     "output_type": "display_data"
    }
   ],
   "source": [
    "plt.figure(figsize=(20,12))\n",
    "\n",
    "plt.subplot(2,1,1)\n",
    "plt.bar(flights_sample_hourly_taxi_flights.index, flights_sample_hourly_taxi_flights['Avg Flights'])\n",
    "plt.title('Avg Hourly Traffic')\n",
    "\n",
    "plt.subplot(2,1,2)\n",
    "plt.bar(flights_sample_hourly_taxi_flights.index, flights_sample_hourly_taxi_flights['Avg Taxi Times'])\n",
    "plt.title('Avg Hourly Taxi Times')"
   ]
  },
  {
   "cell_type": "code",
   "execution_count": 38,
   "metadata": {},
   "outputs": [
    {
     "data": {
      "text/plain": [
       "Text(0, 0.5, 'AVG Taxi Times')"
      ]
     },
     "execution_count": 38,
     "metadata": {},
     "output_type": "execute_result"
    },
    {
     "data": {
      "image/png": "[encoded data removed]",
      "text/plain": [
       "<Figure size 432x288 with 1 Axes>"
      ]
     },
     "metadata": {
      "needs_background": "light"
     },
     "output_type": "display_data"
    }
   ],
   "source": [
    "plt.scatter(flights_sample_hourly_taxi_flights['Avg Flights'], flights_sample_hourly_taxi_flights['Avg Taxi Times'])\n",
    "plt.title('AVG Flights vs AVG Taxi Times')\n",
    "plt.xlabel('AVG Flights')\n",
    "plt.ylabel('AVG Taxi Times')"
   ]
  },
  {
   "cell_type": "markdown",
   "metadata": {},
   "source": [
    "##### Higher traffic is positively correlated with taxi times. More traffic means longer taxi times\n",
    "- increase/decrease in flight numbers match taxi times\n",
    "- distributions are very similar\n",
    "- scatter plot trends upwards with decent clustering"
   ]
  },
  {
   "cell_type": "code",
   "execution_count": null,
   "metadata": {},
   "outputs": [],
   "source": []
  },
  {
   "cell_type": "markdown",
   "metadata": {},
   "source": [
    "#### **Task 5**: What is the average percentage of delays that is already created before departure? (aka are arrival delays caused by departure delays?) Are airlines able to lower the delay during the flights?"
   ]
  },
  {
   "cell_type": "code",
   "execution_count": 39,
   "metadata": {
    "collapsed": true,
    "jupyter": {
     "outputs_hidden": true
    }
   },
   "outputs": [
    {
     "data": {
      "text/html": [
       "<div>\n",
       "<style scoped>\n",
       "    .dataframe tbody tr th:only-of-type {\n",
       "        vertical-align: middle;\n",
       "    }\n",
       "\n",
       "    .dataframe tbody tr th {\n",
       "        vertical-align: top;\n",
       "    }\n",
       "\n",
       "    .dataframe thead th {\n",
       "        text-align: right;\n",
       "    }\n",
       "</style>\n",
       "<table border=\"1\" class=\"dataframe\">\n",
       "  <thead>\n",
       "    <tr style=\"text-align: right;\">\n",
       "      <th></th>\n",
       "      <th>fl_date</th>\n",
       "      <th>mkt_unique_carrier</th>\n",
       "      <th>branded_code_share</th>\n",
       "      <th>mkt_carrier</th>\n",
       "      <th>mkt_carrier_fl_num</th>\n",
       "      <th>op_unique_carrier</th>\n",
       "      <th>tail_num</th>\n",
       "      <th>op_carrier_fl_num</th>\n",
       "      <th>origin_airport_id</th>\n",
       "      <th>origin</th>\n",
       "      <th>origin_city_name</th>\n",
       "      <th>dest_airport_id</th>\n",
       "      <th>dest</th>\n",
       "      <th>dest_city_name</th>\n",
       "      <th>crs_dep_time</th>\n",
       "      <th>dep_time</th>\n",
       "      <th>dep_delay</th>\n",
       "      <th>taxi_out</th>\n",
       "      <th>wheels_off</th>\n",
       "      <th>wheels_on</th>\n",
       "      <th>taxi_in</th>\n",
       "      <th>crs_arr_time</th>\n",
       "      <th>arr_time</th>\n",
       "      <th>arr_delay</th>\n",
       "      <th>cancelled</th>\n",
       "      <th>cancellation_code</th>\n",
       "      <th>diverted</th>\n",
       "      <th>dup</th>\n",
       "      <th>crs_elapsed_time</th>\n",
       "      <th>actual_elapsed_time</th>\n",
       "      <th>air_time</th>\n",
       "      <th>flights</th>\n",
       "      <th>distance</th>\n",
       "      <th>carrier_delay</th>\n",
       "      <th>weather_delay</th>\n",
       "      <th>nas_delay</th>\n",
       "      <th>security_delay</th>\n",
       "      <th>late_aircraft_delay</th>\n",
       "    </tr>\n",
       "  </thead>\n",
       "  <tbody>\n",
       "    <tr>\n",
       "      <th>0</th>\n",
       "      <td>2019-05-22</td>\n",
       "      <td>AA</td>\n",
       "      <td>AA</td>\n",
       "      <td>AA</td>\n",
       "      <td>1146</td>\n",
       "      <td>AA</td>\n",
       "      <td>N921AN</td>\n",
       "      <td>1146</td>\n",
       "      <td>11433</td>\n",
       "      <td>DTW</td>\n",
       "      <td>Detroit, MI</td>\n",
       "      <td>11298</td>\n",
       "      <td>DFW</td>\n",
       "      <td>Dallas/Fort Worth, TX</td>\n",
       "      <td>1140</td>\n",
       "      <td>1152.0</td>\n",
       "      <td>12.0</td>\n",
       "      <td>18.0</td>\n",
       "      <td>1210.0</td>\n",
       "      <td>1339.0</td>\n",
       "      <td>16.0</td>\n",
       "      <td>1333</td>\n",
       "      <td>1355.0</td>\n",
       "      <td>22.0</td>\n",
       "      <td>0</td>\n",
       "      <td>NaN</td>\n",
       "      <td>0</td>\n",
       "      <td>N</td>\n",
       "      <td>173.0</td>\n",
       "      <td>183.0</td>\n",
       "      <td>149.0</td>\n",
       "      <td>1</td>\n",
       "      <td>986</td>\n",
       "      <td>6.0</td>\n",
       "      <td>0.0</td>\n",
       "      <td>10.0</td>\n",
       "      <td>0.0</td>\n",
       "      <td>6.0</td>\n",
       "    </tr>\n",
       "    <tr>\n",
       "      <th>1</th>\n",
       "      <td>2018-08-28</td>\n",
       "      <td>AA</td>\n",
       "      <td>AA</td>\n",
       "      <td>AA</td>\n",
       "      <td>1227</td>\n",
       "      <td>AA</td>\n",
       "      <td>N988NN</td>\n",
       "      <td>1227</td>\n",
       "      <td>11057</td>\n",
       "      <td>CLT</td>\n",
       "      <td>Charlotte, NC</td>\n",
       "      <td>10821</td>\n",
       "      <td>BWI</td>\n",
       "      <td>Baltimore, MD</td>\n",
       "      <td>800</td>\n",
       "      <td>757.0</td>\n",
       "      <td>-3.0</td>\n",
       "      <td>26.0</td>\n",
       "      <td>823.0</td>\n",
       "      <td>919.0</td>\n",
       "      <td>5.0</td>\n",
       "      <td>929</td>\n",
       "      <td>924.0</td>\n",
       "      <td>-5.0</td>\n",
       "      <td>0</td>\n",
       "      <td>NaN</td>\n",
       "      <td>0</td>\n",
       "      <td>N</td>\n",
       "      <td>89.0</td>\n",
       "      <td>87.0</td>\n",
       "      <td>56.0</td>\n",
       "      <td>1</td>\n",
       "      <td>361</td>\n",
       "      <td>NaN</td>\n",
       "      <td>NaN</td>\n",
       "      <td>NaN</td>\n",
       "      <td>NaN</td>\n",
       "      <td>NaN</td>\n",
       "    </tr>\n",
       "    <tr>\n",
       "      <th>2</th>\n",
       "      <td>2018-01-14</td>\n",
       "      <td>AA</td>\n",
       "      <td>AA</td>\n",
       "      <td>AA</td>\n",
       "      <td>1513</td>\n",
       "      <td>AA</td>\n",
       "      <td>N962AN</td>\n",
       "      <td>1513</td>\n",
       "      <td>11298</td>\n",
       "      <td>DFW</td>\n",
       "      <td>Dallas/Fort Worth, TX</td>\n",
       "      <td>11109</td>\n",
       "      <td>COS</td>\n",
       "      <td>Colorado Springs, CO</td>\n",
       "      <td>1447</td>\n",
       "      <td>1450.0</td>\n",
       "      <td>3.0</td>\n",
       "      <td>15.0</td>\n",
       "      <td>1505.0</td>\n",
       "      <td>1543.0</td>\n",
       "      <td>6.0</td>\n",
       "      <td>1544</td>\n",
       "      <td>1549.0</td>\n",
       "      <td>5.0</td>\n",
       "      <td>0</td>\n",
       "      <td>NaN</td>\n",
       "      <td>0</td>\n",
       "      <td>N</td>\n",
       "      <td>117.0</td>\n",
       "      <td>119.0</td>\n",
       "      <td>98.0</td>\n",
       "      <td>1</td>\n",
       "      <td>592</td>\n",
       "      <td>NaN</td>\n",
       "      <td>NaN</td>\n",
       "      <td>NaN</td>\n",
       "      <td>NaN</td>\n",
       "      <td>NaN</td>\n",
       "    </tr>\n",
       "    <tr>\n",
       "      <th>3</th>\n",
       "      <td>2018-02-20</td>\n",
       "      <td>AA</td>\n",
       "      <td>AA</td>\n",
       "      <td>AA</td>\n",
       "      <td>2460</td>\n",
       "      <td>AA</td>\n",
       "      <td>N933AM</td>\n",
       "      <td>2460</td>\n",
       "      <td>11298</td>\n",
       "      <td>DFW</td>\n",
       "      <td>Dallas/Fort Worth, TX</td>\n",
       "      <td>12892</td>\n",
       "      <td>LAX</td>\n",
       "      <td>Los Angeles, CA</td>\n",
       "      <td>1440</td>\n",
       "      <td>1440.0</td>\n",
       "      <td>0.0</td>\n",
       "      <td>21.0</td>\n",
       "      <td>1501.0</td>\n",
       "      <td>1551.0</td>\n",
       "      <td>4.0</td>\n",
       "      <td>1615</td>\n",
       "      <td>1555.0</td>\n",
       "      <td>-20.0</td>\n",
       "      <td>0</td>\n",
       "      <td>NaN</td>\n",
       "      <td>0</td>\n",
       "      <td>N</td>\n",
       "      <td>215.0</td>\n",
       "      <td>195.0</td>\n",
       "      <td>170.0</td>\n",
       "      <td>1</td>\n",
       "      <td>1235</td>\n",
       "      <td>NaN</td>\n",
       "      <td>NaN</td>\n",
       "      <td>NaN</td>\n",
       "      <td>NaN</td>\n",
       "      <td>NaN</td>\n",
       "    </tr>\n",
       "    <tr>\n",
       "      <th>4</th>\n",
       "      <td>2019-06-07</td>\n",
       "      <td>AA</td>\n",
       "      <td>AA</td>\n",
       "      <td>AA</td>\n",
       "      <td>1213</td>\n",
       "      <td>AA</td>\n",
       "      <td>N896NN</td>\n",
       "      <td>1213</td>\n",
       "      <td>13930</td>\n",
       "      <td>ORD</td>\n",
       "      <td>Chicago, IL</td>\n",
       "      <td>14747</td>\n",
       "      <td>SEA</td>\n",
       "      <td>Seattle, WA</td>\n",
       "      <td>1150</td>\n",
       "      <td>1153.0</td>\n",
       "      <td>3.0</td>\n",
       "      <td>23.0</td>\n",
       "      <td>1216.0</td>\n",
       "      <td>1402.0</td>\n",
       "      <td>13.0</td>\n",
       "      <td>1422</td>\n",
       "      <td>1415.0</td>\n",
       "      <td>-7.0</td>\n",
       "      <td>0</td>\n",
       "      <td>NaN</td>\n",
       "      <td>0</td>\n",
       "      <td>N</td>\n",
       "      <td>272.0</td>\n",
       "      <td>262.0</td>\n",
       "      <td>226.0</td>\n",
       "      <td>1</td>\n",
       "      <td>1721</td>\n",
       "      <td>NaN</td>\n",
       "      <td>NaN</td>\n",
       "      <td>NaN</td>\n",
       "      <td>NaN</td>\n",
       "      <td>NaN</td>\n",
       "    </tr>\n",
       "    <tr>\n",
       "      <th>...</th>\n",
       "      <td>...</td>\n",
       "      <td>...</td>\n",
       "      <td>...</td>\n",
       "      <td>...</td>\n",
       "      <td>...</td>\n",
       "      <td>...</td>\n",
       "      <td>...</td>\n",
       "      <td>...</td>\n",
       "      <td>...</td>\n",
       "      <td>...</td>\n",
       "      <td>...</td>\n",
       "      <td>...</td>\n",
       "      <td>...</td>\n",
       "      <td>...</td>\n",
       "      <td>...</td>\n",
       "      <td>...</td>\n",
       "      <td>...</td>\n",
       "      <td>...</td>\n",
       "      <td>...</td>\n",
       "      <td>...</td>\n",
       "      <td>...</td>\n",
       "      <td>...</td>\n",
       "      <td>...</td>\n",
       "      <td>...</td>\n",
       "      <td>...</td>\n",
       "      <td>...</td>\n",
       "      <td>...</td>\n",
       "      <td>...</td>\n",
       "      <td>...</td>\n",
       "      <td>...</td>\n",
       "      <td>...</td>\n",
       "      <td>...</td>\n",
       "      <td>...</td>\n",
       "      <td>...</td>\n",
       "      <td>...</td>\n",
       "      <td>...</td>\n",
       "      <td>...</td>\n",
       "      <td>...</td>\n",
       "    </tr>\n",
       "    <tr>\n",
       "      <th>99991</th>\n",
       "      <td>2018-07-24</td>\n",
       "      <td>WN</td>\n",
       "      <td>WN</td>\n",
       "      <td>WN</td>\n",
       "      <td>1988</td>\n",
       "      <td>WN</td>\n",
       "      <td>N276WN</td>\n",
       "      <td>1988</td>\n",
       "      <td>10821</td>\n",
       "      <td>BWI</td>\n",
       "      <td>Baltimore, MD</td>\n",
       "      <td>10529</td>\n",
       "      <td>BDL</td>\n",
       "      <td>Hartford, CT</td>\n",
       "      <td>1300</td>\n",
       "      <td>NaN</td>\n",
       "      <td>NaN</td>\n",
       "      <td>NaN</td>\n",
       "      <td>NaN</td>\n",
       "      <td>NaN</td>\n",
       "      <td>NaN</td>\n",
       "      <td>1415</td>\n",
       "      <td>NaN</td>\n",
       "      <td>NaN</td>\n",
       "      <td>1</td>\n",
       "      <td>B</td>\n",
       "      <td>0</td>\n",
       "      <td>N</td>\n",
       "      <td>75.0</td>\n",
       "      <td>NaN</td>\n",
       "      <td>NaN</td>\n",
       "      <td>1</td>\n",
       "      <td>283</td>\n",
       "      <td>NaN</td>\n",
       "      <td>NaN</td>\n",
       "      <td>NaN</td>\n",
       "      <td>NaN</td>\n",
       "      <td>NaN</td>\n",
       "    </tr>\n",
       "    <tr>\n",
       "      <th>99992</th>\n",
       "      <td>2019-02-04</td>\n",
       "      <td>WN</td>\n",
       "      <td>WN</td>\n",
       "      <td>WN</td>\n",
       "      <td>1017</td>\n",
       "      <td>WN</td>\n",
       "      <td>N902WN</td>\n",
       "      <td>1017</td>\n",
       "      <td>14747</td>\n",
       "      <td>SEA</td>\n",
       "      <td>Seattle, WA</td>\n",
       "      <td>11292</td>\n",
       "      <td>DEN</td>\n",
       "      <td>Denver, CO</td>\n",
       "      <td>1430</td>\n",
       "      <td>1547.0</td>\n",
       "      <td>77.0</td>\n",
       "      <td>14.0</td>\n",
       "      <td>1601.0</td>\n",
       "      <td>1909.0</td>\n",
       "      <td>7.0</td>\n",
       "      <td>1805</td>\n",
       "      <td>1916.0</td>\n",
       "      <td>71.0</td>\n",
       "      <td>0</td>\n",
       "      <td>NaN</td>\n",
       "      <td>0</td>\n",
       "      <td>N</td>\n",
       "      <td>155.0</td>\n",
       "      <td>149.0</td>\n",
       "      <td>128.0</td>\n",
       "      <td>1</td>\n",
       "      <td>1024</td>\n",
       "      <td>15.0</td>\n",
       "      <td>0.0</td>\n",
       "      <td>0.0</td>\n",
       "      <td>0.0</td>\n",
       "      <td>56.0</td>\n",
       "    </tr>\n",
       "    <tr>\n",
       "      <th>99993</th>\n",
       "      <td>2019-11-21</td>\n",
       "      <td>WN</td>\n",
       "      <td>WN</td>\n",
       "      <td>WN</td>\n",
       "      <td>2331</td>\n",
       "      <td>WN</td>\n",
       "      <td>N7818L</td>\n",
       "      <td>2331</td>\n",
       "      <td>13891</td>\n",
       "      <td>ONT</td>\n",
       "      <td>Ontario, CA</td>\n",
       "      <td>14107</td>\n",
       "      <td>PHX</td>\n",
       "      <td>Phoenix, AZ</td>\n",
       "      <td>1510</td>\n",
       "      <td>1604.0</td>\n",
       "      <td>54.0</td>\n",
       "      <td>10.0</td>\n",
       "      <td>1614.0</td>\n",
       "      <td>1810.0</td>\n",
       "      <td>6.0</td>\n",
       "      <td>1720</td>\n",
       "      <td>1816.0</td>\n",
       "      <td>56.0</td>\n",
       "      <td>0</td>\n",
       "      <td>NaN</td>\n",
       "      <td>0</td>\n",
       "      <td>N</td>\n",
       "      <td>70.0</td>\n",
       "      <td>72.0</td>\n",
       "      <td>56.0</td>\n",
       "      <td>1</td>\n",
       "      <td>325</td>\n",
       "      <td>0.0</td>\n",
       "      <td>0.0</td>\n",
       "      <td>24.0</td>\n",
       "      <td>0.0</td>\n",
       "      <td>32.0</td>\n",
       "    </tr>\n",
       "    <tr>\n",
       "      <th>99994</th>\n",
       "      <td>2018-10-16</td>\n",
       "      <td>WN</td>\n",
       "      <td>WN</td>\n",
       "      <td>WN</td>\n",
       "      <td>1610</td>\n",
       "      <td>WN</td>\n",
       "      <td>N7732A</td>\n",
       "      <td>1610</td>\n",
       "      <td>15016</td>\n",
       "      <td>STL</td>\n",
       "      <td>St. Louis, MO</td>\n",
       "      <td>12278</td>\n",
       "      <td>ICT</td>\n",
       "      <td>Wichita, KS</td>\n",
       "      <td>1035</td>\n",
       "      <td>1037.0</td>\n",
       "      <td>2.0</td>\n",
       "      <td>6.0</td>\n",
       "      <td>1043.0</td>\n",
       "      <td>1151.0</td>\n",
       "      <td>4.0</td>\n",
       "      <td>1155</td>\n",
       "      <td>1155.0</td>\n",
       "      <td>0.0</td>\n",
       "      <td>0</td>\n",
       "      <td>NaN</td>\n",
       "      <td>0</td>\n",
       "      <td>N</td>\n",
       "      <td>80.0</td>\n",
       "      <td>78.0</td>\n",
       "      <td>68.0</td>\n",
       "      <td>1</td>\n",
       "      <td>392</td>\n",
       "      <td>NaN</td>\n",
       "      <td>NaN</td>\n",
       "      <td>NaN</td>\n",
       "      <td>NaN</td>\n",
       "      <td>NaN</td>\n",
       "    </tr>\n",
       "    <tr>\n",
       "      <th>99995</th>\n",
       "      <td>2018-03-07</td>\n",
       "      <td>WN</td>\n",
       "      <td>WN</td>\n",
       "      <td>WN</td>\n",
       "      <td>483</td>\n",
       "      <td>WN</td>\n",
       "      <td>N8607M</td>\n",
       "      <td>483</td>\n",
       "      <td>13232</td>\n",
       "      <td>MDW</td>\n",
       "      <td>Chicago, IL</td>\n",
       "      <td>14107</td>\n",
       "      <td>PHX</td>\n",
       "      <td>Phoenix, AZ</td>\n",
       "      <td>1820</td>\n",
       "      <td>1820.0</td>\n",
       "      <td>0.0</td>\n",
       "      <td>8.0</td>\n",
       "      <td>1828.0</td>\n",
       "      <td>2047.0</td>\n",
       "      <td>6.0</td>\n",
       "      <td>2110</td>\n",
       "      <td>2053.0</td>\n",
       "      <td>-17.0</td>\n",
       "      <td>0</td>\n",
       "      <td>NaN</td>\n",
       "      <td>0</td>\n",
       "      <td>N</td>\n",
       "      <td>230.0</td>\n",
       "      <td>213.0</td>\n",
       "      <td>199.0</td>\n",
       "      <td>1</td>\n",
       "      <td>1444</td>\n",
       "      <td>NaN</td>\n",
       "      <td>NaN</td>\n",
       "      <td>NaN</td>\n",
       "      <td>NaN</td>\n",
       "      <td>NaN</td>\n",
       "    </tr>\n",
       "  </tbody>\n",
       "</table>\n",
       "<p>99996 rows × 38 columns</p>\n",
       "</div>"
      ],
      "text/plain": [
       "         fl_date mkt_unique_carrier branded_code_share mkt_carrier  \\\n",
       "0     2019-05-22                 AA                 AA          AA   \n",
       "1     2018-08-28                 AA                 AA          AA   \n",
       "2     2018-01-14                 AA                 AA          AA   \n",
       "3     2018-02-20                 AA                 AA          AA   \n",
       "4     2019-06-07                 AA                 AA          AA   \n",
       "...          ...                ...                ...         ...   \n",
       "99991 2018-07-24                 WN                 WN          WN   \n",
       "99992 2019-02-04                 WN                 WN          WN   \n",
       "99993 2019-11-21                 WN                 WN          WN   \n",
       "99994 2018-10-16                 WN                 WN          WN   \n",
       "99995 2018-03-07                 WN                 WN          WN   \n",
       "\n",
       "       mkt_carrier_fl_num op_unique_carrier tail_num  op_carrier_fl_num  \\\n",
       "0                    1146                AA   N921AN               1146   \n",
       "1                    1227                AA   N988NN               1227   \n",
       "2                    1513                AA   N962AN               1513   \n",
       "3                    2460                AA   N933AM               2460   \n",
       "4                    1213                AA   N896NN               1213   \n",
       "...                   ...               ...      ...                ...   \n",
       "99991                1988                WN   N276WN               1988   \n",
       "99992                1017                WN   N902WN               1017   \n",
       "99993                2331                WN   N7818L               2331   \n",
       "99994                1610                WN   N7732A               1610   \n",
       "99995                 483                WN   N8607M                483   \n",
       "\n",
       "       origin_airport_id origin       origin_city_name  dest_airport_id dest  \\\n",
       "0                  11433    DTW            Detroit, MI            11298  DFW   \n",
       "1                  11057    CLT          Charlotte, NC            10821  BWI   \n",
       "2                  11298    DFW  Dallas/Fort Worth, TX            11109  COS   \n",
       "3                  11298    DFW  Dallas/Fort Worth, TX            12892  LAX   \n",
       "4                  13930    ORD            Chicago, IL            14747  SEA   \n",
       "...                  ...    ...                    ...              ...  ...   \n",
       "99991              10821    BWI          Baltimore, MD            10529  BDL   \n",
       "99992              14747    SEA            Seattle, WA            11292  DEN   \n",
       "99993              13891    ONT            Ontario, CA            14107  PHX   \n",
       "99994              15016    STL          St. Louis, MO            12278  ICT   \n",
       "99995              13232    MDW            Chicago, IL            14107  PHX   \n",
       "\n",
       "              dest_city_name  crs_dep_time  dep_time  dep_delay  taxi_out  \\\n",
       "0      Dallas/Fort Worth, TX          1140    1152.0       12.0      18.0   \n",
       "1              Baltimore, MD           800     757.0       -3.0      26.0   \n",
       "2       Colorado Springs, CO          1447    1450.0        3.0      15.0   \n",
       "3            Los Angeles, CA          1440    1440.0        0.0      21.0   \n",
       "4                Seattle, WA          1150    1153.0        3.0      23.0   \n",
       "...                      ...           ...       ...        ...       ...   \n",
       "99991           Hartford, CT          1300       NaN        NaN       NaN   \n",
       "99992             Denver, CO          1430    1547.0       77.0      14.0   \n",
       "99993            Phoenix, AZ          1510    1604.0       54.0      10.0   \n",
       "99994            Wichita, KS          1035    1037.0        2.0       6.0   \n",
       "99995            Phoenix, AZ          1820    1820.0        0.0       8.0   \n",
       "\n",
       "       wheels_off  wheels_on  taxi_in  crs_arr_time  arr_time  arr_delay  \\\n",
       "0          1210.0     1339.0     16.0          1333    1355.0       22.0   \n",
       "1           823.0      919.0      5.0           929     924.0       -5.0   \n",
       "2          1505.0     1543.0      6.0          1544    1549.0        5.0   \n",
       "3          1501.0     1551.0      4.0          1615    1555.0      -20.0   \n",
       "4          1216.0     1402.0     13.0          1422    1415.0       -7.0   \n",
       "...           ...        ...      ...           ...       ...        ...   \n",
       "99991         NaN        NaN      NaN          1415       NaN        NaN   \n",
       "99992      1601.0     1909.0      7.0          1805    1916.0       71.0   \n",
       "99993      1614.0     1810.0      6.0          1720    1816.0       56.0   \n",
       "99994      1043.0     1151.0      4.0          1155    1155.0        0.0   \n",
       "99995      1828.0     2047.0      6.0          2110    2053.0      -17.0   \n",
       "\n",
       "       cancelled cancellation_code  diverted dup  crs_elapsed_time  \\\n",
       "0              0               NaN         0   N             173.0   \n",
       "1              0               NaN         0   N              89.0   \n",
       "2              0               NaN         0   N             117.0   \n",
       "3              0               NaN         0   N             215.0   \n",
       "4              0               NaN         0   N             272.0   \n",
       "...          ...               ...       ...  ..               ...   \n",
       "99991          1                 B         0   N              75.0   \n",
       "99992          0               NaN         0   N             155.0   \n",
       "99993          0               NaN         0   N              70.0   \n",
       "99994          0               NaN         0   N              80.0   \n",
       "99995          0               NaN         0   N             230.0   \n",
       "\n",
       "       actual_elapsed_time  air_time  flights  distance  carrier_delay  \\\n",
       "0                    183.0     149.0        1       986            6.0   \n",
       "1                     87.0      56.0        1       361            NaN   \n",
       "2                    119.0      98.0        1       592            NaN   \n",
       "3                    195.0     170.0        1      1235            NaN   \n",
       "4                    262.0     226.0        1      1721            NaN   \n",
       "...                    ...       ...      ...       ...            ...   \n",
       "99991                  NaN       NaN        1       283            NaN   \n",
       "99992                149.0     128.0        1      1024           15.0   \n",
       "99993                 72.0      56.0        1       325            0.0   \n",
       "99994                 78.0      68.0        1       392            NaN   \n",
       "99995                213.0     199.0        1      1444            NaN   \n",
       "\n",
       "       weather_delay  nas_delay  security_delay  late_aircraft_delay  \n",
       "0                0.0       10.0             0.0                  6.0  \n",
       "1                NaN        NaN             NaN                  NaN  \n",
       "2                NaN        NaN             NaN                  NaN  \n",
       "3                NaN        NaN             NaN                  NaN  \n",
       "4                NaN        NaN             NaN                  NaN  \n",
       "...              ...        ...             ...                  ...  \n",
       "99991            NaN        NaN             NaN                  NaN  \n",
       "99992            0.0        0.0             0.0                 56.0  \n",
       "99993            0.0       24.0             0.0                 32.0  \n",
       "99994            NaN        NaN             NaN                  NaN  \n",
       "99995            NaN        NaN             NaN                  NaN  \n",
       "\n",
       "[99996 rows x 38 columns]"
      ]
     },
     "execution_count": 39,
     "metadata": {},
     "output_type": "execute_result"
    }
   ],
   "source": [
    "flights_sample"
   ]
  },
  {
   "cell_type": "code",
   "execution_count": null,
   "metadata": {},
   "outputs": [],
   "source": []
  },
  {
   "cell_type": "markdown",
   "metadata": {},
   "source": [
    "#### **Task 6**: How many states cover 50% of US air traffic? "
   ]
  },
  {
   "cell_type": "code",
   "execution_count": 40,
   "metadata": {},
   "outputs": [],
   "source": [
    "or_state, dest_state = [], []\n",
    "for row in range(len(flights_sample)):\n",
    "    or_state.append(flights_sample.iloc[row, 10][-2:])\n",
    "    dest_state.append(flights_sample.iloc[row, 13][-2:])"
   ]
  },
  {
   "cell_type": "code",
   "execution_count": 42,
   "metadata": {},
   "outputs": [
    {
     "data": {
      "text/html": [
       "<div>\n",
       "<style scoped>\n",
       "    .dataframe tbody tr th:only-of-type {\n",
       "        vertical-align: middle;\n",
       "    }\n",
       "\n",
       "    .dataframe tbody tr th {\n",
       "        vertical-align: top;\n",
       "    }\n",
       "\n",
       "    .dataframe thead th {\n",
       "        text-align: right;\n",
       "    }\n",
       "</style>\n",
       "<table border=\"1\" class=\"dataframe\">\n",
       "  <thead>\n",
       "    <tr style=\"text-align: right;\">\n",
       "      <th></th>\n",
       "      <th>dep_state</th>\n",
       "      <th>flights</th>\n",
       "      <th>Percentage</th>\n",
       "      <th>Cum Percentage</th>\n",
       "    </tr>\n",
       "  </thead>\n",
       "  <tbody>\n",
       "    <tr>\n",
       "      <th>7</th>\n",
       "      <td>CO</td>\n",
       "      <td>3989</td>\n",
       "      <td>0.039892</td>\n",
       "      <td>0.532541</td>\n",
       "    </tr>\n",
       "    <tr>\n",
       "      <th>8</th>\n",
       "      <td>PA</td>\n",
       "      <td>3006</td>\n",
       "      <td>0.030061</td>\n",
       "      <td>0.562603</td>\n",
       "    </tr>\n",
       "    <tr>\n",
       "      <th>9</th>\n",
       "      <td>DC</td>\n",
       "      <td>2959</td>\n",
       "      <td>0.029591</td>\n",
       "      <td>0.592194</td>\n",
       "    </tr>\n",
       "    <tr>\n",
       "      <th>10</th>\n",
       "      <td>MI</td>\n",
       "      <td>2911</td>\n",
       "      <td>0.029111</td>\n",
       "      <td>0.621305</td>\n",
       "    </tr>\n",
       "    <tr>\n",
       "      <th>11</th>\n",
       "      <td>WA</td>\n",
       "      <td>2779</td>\n",
       "      <td>0.027791</td>\n",
       "      <td>0.649096</td>\n",
       "    </tr>\n",
       "  </tbody>\n",
       "</table>\n",
       "</div>"
      ],
      "text/plain": [
       "   dep_state  flights  Percentage  Cum Percentage\n",
       "7         CO     3989    0.039892        0.532541\n",
       "8         PA     3006    0.030061        0.562603\n",
       "9         DC     2959    0.029591        0.592194\n",
       "10        MI     2911    0.029111        0.621305\n",
       "11        WA     2779    0.027791        0.649096"
      ]
     },
     "execution_count": 42,
     "metadata": {},
     "output_type": "execute_result"
    }
   ],
   "source": [
    "air_traffic_by_state = pd.DataFrame({'dep_state': or_state, 'dest_state': dest_state})\n",
    "air_traffic_by_state['flights'] = 1\n",
    "air_traffic_dep_state = air_traffic_by_state.groupby(by=['dep_state']).sum().sort_values(by=['flights'], ascending=False)\n",
    "air_traffic_dep_state['Percentage'] = air_traffic_dep_state['flights']/air_traffic_dep_state.sum().values[0]\n",
    "air_traffic_dep_state.reset_index(inplace=True)\n",
    "\n",
    "cum_per_list = []\n",
    "cum_per = 0\n",
    "\n",
    "for row in range(len(air_traffic_dep_state)):\n",
    "    cum_per += air_traffic_dep_state['Percentage'][row]\n",
    "    cum_per_list.append(cum_per)\n",
    "    \n",
    "        \n",
    "air_traffic_dep_state['Cum Percentage'] = cum_per_list\n",
    "air_traffic_dep_state\n",
    "air_traffic_dep_state.loc[air_traffic_dep_state['Cum Percentage'] >= 0.5].head()"
   ]
  },
  {
   "cell_type": "markdown",
   "metadata": {},
   "source": [
    "##### 8 states cover 50% of all US air traffic"
   ]
  },
  {
   "cell_type": "code",
   "execution_count": null,
   "metadata": {},
   "outputs": [],
   "source": []
  },
  {
   "cell_type": "markdown",
   "metadata": {
    "jupyter": {
     "source_hidden": true
    }
   },
   "source": [
    "#### **Task 7**: Test the hypothesis whether planes fly faster when there is the departure delay? "
   ]
  },
  {
   "cell_type": "code",
   "execution_count": 43,
   "metadata": {
    "collapsed": true,
    "jupyter": {
     "outputs_hidden": true,
     "source_hidden": true
    }
   },
   "outputs": [
    {
     "data": {
      "text/html": [
       "<div>\n",
       "<style scoped>\n",
       "    .dataframe tbody tr th:only-of-type {\n",
       "        vertical-align: middle;\n",
       "    }\n",
       "\n",
       "    .dataframe tbody tr th {\n",
       "        vertical-align: top;\n",
       "    }\n",
       "\n",
       "    .dataframe thead th {\n",
       "        text-align: right;\n",
       "    }\n",
       "</style>\n",
       "<table border=\"1\" class=\"dataframe\">\n",
       "  <thead>\n",
       "    <tr style=\"text-align: right;\">\n",
       "      <th></th>\n",
       "      <th>dep_delay</th>\n",
       "      <th>distance</th>\n",
       "      <th>air_time</th>\n",
       "      <th>avg_speed</th>\n",
       "    </tr>\n",
       "  </thead>\n",
       "  <tbody>\n",
       "    <tr>\n",
       "      <th>0</th>\n",
       "      <td>12.0</td>\n",
       "      <td>986</td>\n",
       "      <td>149.0</td>\n",
       "      <td>397.046980</td>\n",
       "    </tr>\n",
       "    <tr>\n",
       "      <th>1</th>\n",
       "      <td>-3.0</td>\n",
       "      <td>361</td>\n",
       "      <td>56.0</td>\n",
       "      <td>386.785714</td>\n",
       "    </tr>\n",
       "    <tr>\n",
       "      <th>2</th>\n",
       "      <td>3.0</td>\n",
       "      <td>592</td>\n",
       "      <td>98.0</td>\n",
       "      <td>362.448980</td>\n",
       "    </tr>\n",
       "    <tr>\n",
       "      <th>3</th>\n",
       "      <td>0.0</td>\n",
       "      <td>1235</td>\n",
       "      <td>170.0</td>\n",
       "      <td>435.882353</td>\n",
       "    </tr>\n",
       "    <tr>\n",
       "      <th>4</th>\n",
       "      <td>3.0</td>\n",
       "      <td>1721</td>\n",
       "      <td>226.0</td>\n",
       "      <td>456.902655</td>\n",
       "    </tr>\n",
       "    <tr>\n",
       "      <th>...</th>\n",
       "      <td>...</td>\n",
       "      <td>...</td>\n",
       "      <td>...</td>\n",
       "      <td>...</td>\n",
       "    </tr>\n",
       "    <tr>\n",
       "      <th>99990</th>\n",
       "      <td>10.0</td>\n",
       "      <td>581</td>\n",
       "      <td>86.0</td>\n",
       "      <td>405.348837</td>\n",
       "    </tr>\n",
       "    <tr>\n",
       "      <th>99992</th>\n",
       "      <td>77.0</td>\n",
       "      <td>1024</td>\n",
       "      <td>128.0</td>\n",
       "      <td>480.000000</td>\n",
       "    </tr>\n",
       "    <tr>\n",
       "      <th>99993</th>\n",
       "      <td>54.0</td>\n",
       "      <td>325</td>\n",
       "      <td>56.0</td>\n",
       "      <td>348.214286</td>\n",
       "    </tr>\n",
       "    <tr>\n",
       "      <th>99994</th>\n",
       "      <td>2.0</td>\n",
       "      <td>392</td>\n",
       "      <td>68.0</td>\n",
       "      <td>345.882353</td>\n",
       "    </tr>\n",
       "    <tr>\n",
       "      <th>99995</th>\n",
       "      <td>0.0</td>\n",
       "      <td>1444</td>\n",
       "      <td>199.0</td>\n",
       "      <td>435.376884</td>\n",
       "    </tr>\n",
       "  </tbody>\n",
       "</table>\n",
       "<p>98023 rows × 4 columns</p>\n",
       "</div>"
      ],
      "text/plain": [
       "       dep_delay  distance  air_time   avg_speed\n",
       "0           12.0       986     149.0  397.046980\n",
       "1           -3.0       361      56.0  386.785714\n",
       "2            3.0       592      98.0  362.448980\n",
       "3            0.0      1235     170.0  435.882353\n",
       "4            3.0      1721     226.0  456.902655\n",
       "...          ...       ...       ...         ...\n",
       "99990       10.0       581      86.0  405.348837\n",
       "99992       77.0      1024     128.0  480.000000\n",
       "99993       54.0       325      56.0  348.214286\n",
       "99994        2.0       392      68.0  345.882353\n",
       "99995        0.0      1444     199.0  435.376884\n",
       "\n",
       "[98023 rows x 4 columns]"
      ]
     },
     "execution_count": 43,
     "metadata": {},
     "output_type": "execute_result"
    }
   ],
   "source": [
    "flights_durations = flights_sample[['dep_delay', 'distance', 'air_time']].dropna()\n",
    "flights_durations['avg_speed'] = (flights_durations['distance'] / flights_durations['air_time']) * 60\n",
    "flights_durations"
   ]
  },
  {
   "cell_type": "code",
   "execution_count": 44,
   "metadata": {
    "collapsed": true,
    "jupyter": {
     "outputs_hidden": true,
     "source_hidden": true
    }
   },
   "outputs": [
    {
     "data": {
      "text/plain": [
       "Text(0, 0.5, 'Avg Flight Speed')"
      ]
     },
     "execution_count": 44,
     "metadata": {},
     "output_type": "execute_result"
    },
    {
     "data": {
      "image/png": "[encoded data removed]",
      "text/plain": [
       "<Figure size 432x288 with 1 Axes>"
      ]
     },
     "metadata": {
      "needs_background": "light"
     },
     "output_type": "display_data"
    }
   ],
   "source": [
    "plt.scatter(flights_durations['dep_delay'], flights_durations['avg_speed'])\n",
    "plt.xlabel('Departure Delay')\n",
    "plt.ylabel('Avg Flight Speed')"
   ]
  },
  {
   "cell_type": "code",
   "execution_count": 45,
   "metadata": {
    "collapsed": true,
    "jupyter": {
     "outputs_hidden": true,
     "source_hidden": true
    }
   },
   "outputs": [
    {
     "data": {
      "text/plain": [
       "Text(0, 0.5, 'Avg Flight Speed')"
      ]
     },
     "execution_count": 45,
     "metadata": {},
     "output_type": "execute_result"
    },
    {
     "data": {
      "image/png": "[encoded data removed]",
      "text/plain": [
       "<Figure size 432x288 with 1 Axes>"
      ]
     },
     "metadata": {
      "needs_background": "light"
     },
     "output_type": "display_data"
    }
   ],
   "source": [
    "plt.bar(flights_durations['dep_delay'], flights_durations['avg_speed'])\n",
    "plt.xlabel('Departure Delay')\n",
    "plt.ylabel('Avg Flight Speed')"
   ]
  },
  {
   "cell_type": "markdown",
   "metadata": {},
   "source": [
    "##### There is no correlation between avg flight speed and departure delay\n",
    "- if anything, the trends show that delayed flights are actually flying slower"
   ]
  },
  {
   "cell_type": "code",
   "execution_count": null,
   "metadata": {},
   "outputs": [],
   "source": []
  },
  {
   "cell_type": "markdown",
   "metadata": {},
   "source": [
    "#### **Task 8**: When (which hour) do most 'LONG', 'SHORT', 'MEDIUM' haul flights take off?"
   ]
  },
  {
   "cell_type": "code",
   "execution_count": 46,
   "metadata": {
    "collapsed": true,
    "jupyter": {
     "outputs_hidden": true,
     "source_hidden": true
    }
   },
   "outputs": [
    {
     "data": {
      "text/html": [
       "<div>\n",
       "<style scoped>\n",
       "    .dataframe tbody tr th:only-of-type {\n",
       "        vertical-align: middle;\n",
       "    }\n",
       "\n",
       "    .dataframe tbody tr th {\n",
       "        vertical-align: top;\n",
       "    }\n",
       "\n",
       "    .dataframe thead th {\n",
       "        text-align: right;\n",
       "    }\n",
       "</style>\n",
       "<table border=\"1\" class=\"dataframe\">\n",
       "  <thead>\n",
       "    <tr style=\"text-align: right;\">\n",
       "      <th></th>\n",
       "      <th>dep_time</th>\n",
       "      <th>air_time</th>\n",
       "    </tr>\n",
       "  </thead>\n",
       "  <tbody>\n",
       "    <tr>\n",
       "      <th>0</th>\n",
       "      <td>1152</td>\n",
       "      <td>149.0</td>\n",
       "    </tr>\n",
       "    <tr>\n",
       "      <th>1</th>\n",
       "      <td>757</td>\n",
       "      <td>56.0</td>\n",
       "    </tr>\n",
       "    <tr>\n",
       "      <th>2</th>\n",
       "      <td>1450</td>\n",
       "      <td>98.0</td>\n",
       "    </tr>\n",
       "    <tr>\n",
       "      <th>3</th>\n",
       "      <td>1440</td>\n",
       "      <td>170.0</td>\n",
       "    </tr>\n",
       "    <tr>\n",
       "      <th>4</th>\n",
       "      <td>1153</td>\n",
       "      <td>226.0</td>\n",
       "    </tr>\n",
       "    <tr>\n",
       "      <th>...</th>\n",
       "      <td>...</td>\n",
       "      <td>...</td>\n",
       "    </tr>\n",
       "    <tr>\n",
       "      <th>98050</th>\n",
       "      <td>2305</td>\n",
       "      <td>86.0</td>\n",
       "    </tr>\n",
       "    <tr>\n",
       "      <th>98051</th>\n",
       "      <td>1547</td>\n",
       "      <td>128.0</td>\n",
       "    </tr>\n",
       "    <tr>\n",
       "      <th>98052</th>\n",
       "      <td>1604</td>\n",
       "      <td>56.0</td>\n",
       "    </tr>\n",
       "    <tr>\n",
       "      <th>98053</th>\n",
       "      <td>1037</td>\n",
       "      <td>68.0</td>\n",
       "    </tr>\n",
       "    <tr>\n",
       "      <th>98054</th>\n",
       "      <td>1820</td>\n",
       "      <td>199.0</td>\n",
       "    </tr>\n",
       "  </tbody>\n",
       "</table>\n",
       "<p>98055 rows × 2 columns</p>\n",
       "</div>"
      ],
      "text/plain": [
       "      dep_time  air_time\n",
       "0         1152     149.0\n",
       "1          757      56.0\n",
       "2         1450      98.0\n",
       "3         1440     170.0\n",
       "4         1153     226.0\n",
       "...        ...       ...\n",
       "98050     2305      86.0\n",
       "98051     1547     128.0\n",
       "98052     1604      56.0\n",
       "98053     1037      68.0\n",
       "98054     1820     199.0\n",
       "\n",
       "[98055 rows x 2 columns]"
      ]
     },
     "execution_count": 46,
     "metadata": {},
     "output_type": "execute_result"
    }
   ],
   "source": [
    "#short haul: hours <= 3\n",
    "#med haul: 3 > hours <= 6\n",
    "#long haul: hours > 6\n",
    "\n",
    "flights_by_haul = flights_sample[['dep_time', 'air_time']].dropna().reset_index(drop=True)\n",
    "flights_by_haul['dep_time'] = flights_by_haul['dep_time'].astype(int).astype(str)\n",
    "flights_by_haul"
   ]
  },
  {
   "cell_type": "code",
   "execution_count": 47,
   "metadata": {
    "collapsed": true,
    "jupyter": {
     "outputs_hidden": true,
     "source_hidden": true
    }
   },
   "outputs": [
    {
     "data": {
      "text/html": [
       "<div>\n",
       "<style scoped>\n",
       "    .dataframe tbody tr th:only-of-type {\n",
       "        vertical-align: middle;\n",
       "    }\n",
       "\n",
       "    .dataframe tbody tr th {\n",
       "        vertical-align: top;\n",
       "    }\n",
       "\n",
       "    .dataframe thead th {\n",
       "        text-align: right;\n",
       "    }\n",
       "</style>\n",
       "<table border=\"1\" class=\"dataframe\">\n",
       "  <thead>\n",
       "    <tr style=\"text-align: right;\">\n",
       "      <th></th>\n",
       "      <th>dep_time</th>\n",
       "      <th>air_time</th>\n",
       "    </tr>\n",
       "  </thead>\n",
       "  <tbody>\n",
       "    <tr>\n",
       "      <th>0</th>\n",
       "      <td>11:52</td>\n",
       "      <td>149.0</td>\n",
       "    </tr>\n",
       "    <tr>\n",
       "      <th>1</th>\n",
       "      <td>07:57</td>\n",
       "      <td>56.0</td>\n",
       "    </tr>\n",
       "    <tr>\n",
       "      <th>2</th>\n",
       "      <td>14:50</td>\n",
       "      <td>98.0</td>\n",
       "    </tr>\n",
       "    <tr>\n",
       "      <th>3</th>\n",
       "      <td>14:40</td>\n",
       "      <td>170.0</td>\n",
       "    </tr>\n",
       "    <tr>\n",
       "      <th>4</th>\n",
       "      <td>11:53</td>\n",
       "      <td>226.0</td>\n",
       "    </tr>\n",
       "    <tr>\n",
       "      <th>...</th>\n",
       "      <td>...</td>\n",
       "      <td>...</td>\n",
       "    </tr>\n",
       "    <tr>\n",
       "      <th>98050</th>\n",
       "      <td>23:05</td>\n",
       "      <td>86.0</td>\n",
       "    </tr>\n",
       "    <tr>\n",
       "      <th>98051</th>\n",
       "      <td>15:47</td>\n",
       "      <td>128.0</td>\n",
       "    </tr>\n",
       "    <tr>\n",
       "      <th>98052</th>\n",
       "      <td>16:04</td>\n",
       "      <td>56.0</td>\n",
       "    </tr>\n",
       "    <tr>\n",
       "      <th>98053</th>\n",
       "      <td>10:37</td>\n",
       "      <td>68.0</td>\n",
       "    </tr>\n",
       "    <tr>\n",
       "      <th>98054</th>\n",
       "      <td>18:20</td>\n",
       "      <td>199.0</td>\n",
       "    </tr>\n",
       "  </tbody>\n",
       "</table>\n",
       "<p>98055 rows × 2 columns</p>\n",
       "</div>"
      ],
      "text/plain": [
       "      dep_time  air_time\n",
       "0        11:52     149.0\n",
       "1        07:57      56.0\n",
       "2        14:50      98.0\n",
       "3        14:40     170.0\n",
       "4        11:53     226.0\n",
       "...        ...       ...\n",
       "98050    23:05      86.0\n",
       "98051    15:47     128.0\n",
       "98052    16:04      56.0\n",
       "98053    10:37      68.0\n",
       "98054    18:20     199.0\n",
       "\n",
       "[98055 rows x 2 columns]"
      ]
     },
     "execution_count": 47,
     "metadata": {},
     "output_type": "execute_result"
    }
   ],
   "source": [
    "for row in range(len(flights_by_haul)):\n",
    "    if flights_by_haul['dep_time'][row] == '2400':\n",
    "        flights_by_haul.iloc[row, 0] = '00:00'\n",
    "        \n",
    "    elif len(flights_by_haul['dep_time'][row]) == 1:\n",
    "        flights_by_haul.iloc[row, 0] = '00:0' + flights_by_haul['dep_time'][row]\n",
    "        \n",
    "    elif len(flights_by_haul['dep_time'][row]) == 2:\n",
    "        flights_by_haul.iloc[row, 0] = '00:' + flights_by_haul['dep_time'][row]\n",
    "        \n",
    "    elif len(flights_by_haul['dep_time'][row]) == 3:\n",
    "        flights_by_haul.iloc[row, 0] = '0' + flights_by_haul['dep_time'][row][0] + ':' + flights_by_haul['dep_time'][row][1:]\n",
    "        \n",
    "    else:\n",
    "        flights_by_haul.iloc[row, 0] = flights_by_haul['dep_time'][row][0:2] + ':' + flights_by_haul['dep_time'][row][2:]\n",
    "        \n",
    "flights_by_haul"
   ]
  },
  {
   "cell_type": "code",
   "execution_count": 580,
   "metadata": {
    "collapsed": true,
    "jupyter": {
     "outputs_hidden": true,
     "source_hidden": true
    }
   },
   "outputs": [
    {
     "data": {
      "text/html": [
       "<div>\n",
       "<style scoped>\n",
       "    .dataframe tbody tr th:only-of-type {\n",
       "        vertical-align: middle;\n",
       "    }\n",
       "\n",
       "    .dataframe tbody tr th {\n",
       "        vertical-align: top;\n",
       "    }\n",
       "\n",
       "    .dataframe thead th {\n",
       "        text-align: right;\n",
       "    }\n",
       "</style>\n",
       "<table border=\"1\" class=\"dataframe\">\n",
       "  <thead>\n",
       "    <tr style=\"text-align: right;\">\n",
       "      <th></th>\n",
       "      <th>dep_time</th>\n",
       "      <th>air_time</th>\n",
       "    </tr>\n",
       "  </thead>\n",
       "  <tbody>\n",
       "    <tr>\n",
       "      <th>0</th>\n",
       "      <td>1900-01-01 11:52:00</td>\n",
       "      <td>149.0</td>\n",
       "    </tr>\n",
       "    <tr>\n",
       "      <th>1</th>\n",
       "      <td>1900-01-01 07:57:00</td>\n",
       "      <td>56.0</td>\n",
       "    </tr>\n",
       "    <tr>\n",
       "      <th>2</th>\n",
       "      <td>1900-01-01 14:50:00</td>\n",
       "      <td>98.0</td>\n",
       "    </tr>\n",
       "    <tr>\n",
       "      <th>3</th>\n",
       "      <td>1900-01-01 14:40:00</td>\n",
       "      <td>170.0</td>\n",
       "    </tr>\n",
       "    <tr>\n",
       "      <th>4</th>\n",
       "      <td>1900-01-01 11:53:00</td>\n",
       "      <td>226.0</td>\n",
       "    </tr>\n",
       "    <tr>\n",
       "      <th>...</th>\n",
       "      <td>...</td>\n",
       "      <td>...</td>\n",
       "    </tr>\n",
       "    <tr>\n",
       "      <th>98050</th>\n",
       "      <td>1900-01-01 23:05:00</td>\n",
       "      <td>86.0</td>\n",
       "    </tr>\n",
       "    <tr>\n",
       "      <th>98051</th>\n",
       "      <td>1900-01-01 15:47:00</td>\n",
       "      <td>128.0</td>\n",
       "    </tr>\n",
       "    <tr>\n",
       "      <th>98052</th>\n",
       "      <td>1900-01-01 16:04:00</td>\n",
       "      <td>56.0</td>\n",
       "    </tr>\n",
       "    <tr>\n",
       "      <th>98053</th>\n",
       "      <td>1900-01-01 10:37:00</td>\n",
       "      <td>68.0</td>\n",
       "    </tr>\n",
       "    <tr>\n",
       "      <th>98054</th>\n",
       "      <td>1900-01-01 18:20:00</td>\n",
       "      <td>199.0</td>\n",
       "    </tr>\n",
       "  </tbody>\n",
       "</table>\n",
       "<p>98055 rows × 2 columns</p>\n",
       "</div>"
      ],
      "text/plain": [
       "                 dep_time  air_time\n",
       "0     1900-01-01 11:52:00     149.0\n",
       "1     1900-01-01 07:57:00      56.0\n",
       "2     1900-01-01 14:50:00      98.0\n",
       "3     1900-01-01 14:40:00     170.0\n",
       "4     1900-01-01 11:53:00     226.0\n",
       "...                   ...       ...\n",
       "98050 1900-01-01 23:05:00      86.0\n",
       "98051 1900-01-01 15:47:00     128.0\n",
       "98052 1900-01-01 16:04:00      56.0\n",
       "98053 1900-01-01 10:37:00      68.0\n",
       "98054 1900-01-01 18:20:00     199.0\n",
       "\n",
       "[98055 rows x 2 columns]"
      ]
     },
     "execution_count": 580,
     "metadata": {},
     "output_type": "execute_result"
    }
   ],
   "source": [
    "flights_by_haul['dep_time'] = pd.to_datetime(flights_by_haul['dep_time'], format='%H:%M')\n",
    "flights_by_haul"
   ]
  },
  {
   "cell_type": "code",
   "execution_count": 581,
   "metadata": {
    "jupyter": {
     "source_hidden": true
    }
   },
   "outputs": [],
   "source": [
    "haul_type = []\n",
    "\n",
    "for row in range(len(flights_by_haul)):\n",
    "    if flights_by_haul['air_time'][row] / 60 <= 3:\n",
    "        haul_type.append('Short')\n",
    "    \n",
    "    elif flights_by_haul['air_time'][row] / 60 > 3 and flights_by_haul['air_time'][row] / 60 <= 6:\n",
    "        haul_type.append('Medium')\n",
    "    \n",
    "    else:\n",
    "        haul_type.append('Long')"
   ]
  },
  {
   "cell_type": "code",
   "execution_count": 582,
   "metadata": {},
   "outputs": [],
   "source": [
    "flights_by_haul['haul'] = haul_type"
   ]
  },
  {
   "cell_type": "code",
   "execution_count": 776,
   "metadata": {},
   "outputs": [],
   "source": [
    "flights_by_haul_hourly = flights_by_haul.groupby(by=[flights_by_haul['dep_time'].dt.hour, flights_by_haul['haul']])['haul'].count().unstack()"
   ]
  },
  {
   "cell_type": "code",
   "execution_count": null,
   "metadata": {},
   "outputs": [],
   "source": []
  },
  {
   "cell_type": "code",
   "execution_count": 777,
   "metadata": {
    "jupyter": {
     "source_hidden": true
    }
   },
   "outputs": [],
   "source": [
    "flights_by_haul_hourly = flights_by_haul_hourly.loc[((flights_by_haul_hourly['Long'] == flights_by_haul_hourly['Long'].max()) |\n",
    "                                                     (flights_by_haul_hourly['Medium'] == flights_by_haul_hourly['Medium'].max()) |\n",
    "                                                     (flights_by_haul_hourly['Short'] == flights_by_haul_hourly['Short'].max()))]\n",
    "\n"
   ]
  },
  {
   "cell_type": "code",
   "execution_count": 788,
   "metadata": {
    "collapsed": true,
    "jupyter": {
     "outputs_hidden": true
    }
   },
   "outputs": [
    {
     "data": {
      "text/html": [
       "<div>\n",
       "<style scoped>\n",
       "    .dataframe tbody tr th:only-of-type {\n",
       "        vertical-align: middle;\n",
       "    }\n",
       "\n",
       "    .dataframe tbody tr th {\n",
       "        vertical-align: top;\n",
       "    }\n",
       "\n",
       "    .dataframe thead th {\n",
       "        text-align: right;\n",
       "    }\n",
       "</style>\n",
       "<table border=\"1\" class=\"dataframe\">\n",
       "  <thead>\n",
       "    <tr style=\"text-align: right;\">\n",
       "      <th>haul</th>\n",
       "      <th>Long</th>\n",
       "      <th>Medium</th>\n",
       "      <th>Short</th>\n",
       "    </tr>\n",
       "    <tr>\n",
       "      <th>dep_time</th>\n",
       "      <th></th>\n",
       "      <th></th>\n",
       "      <th></th>\n",
       "    </tr>\n",
       "  </thead>\n",
       "  <tbody>\n",
       "    <tr>\n",
       "      <th>8</th>\n",
       "      <td>20.0</td>\n",
       "      <td>966.0</td>\n",
       "      <td>5192.0</td>\n",
       "    </tr>\n",
       "    <tr>\n",
       "      <th>9</th>\n",
       "      <td>43.0</td>\n",
       "      <td>794.0</td>\n",
       "      <td>4966.0</td>\n",
       "    </tr>\n",
       "    <tr>\n",
       "      <th>17</th>\n",
       "      <td>35.0</td>\n",
       "      <td>706.0</td>\n",
       "      <td>5387.0</td>\n",
       "    </tr>\n",
       "  </tbody>\n",
       "</table>\n",
       "</div>"
      ],
      "text/plain": [
       "haul      Long  Medium   Short\n",
       "dep_time                      \n",
       "8         20.0   966.0  5192.0\n",
       "9         43.0   794.0  4966.0\n",
       "17        35.0   706.0  5387.0"
      ]
     },
     "execution_count": 788,
     "metadata": {},
     "output_type": "execute_result"
    }
   ],
   "source": [
    "flights_by_haul_hourly"
   ]
  },
  {
   "cell_type": "markdown",
   "metadata": {},
   "source": [
    "- Long haul flights mostly depart from 9-10am\n",
    "- Medium haul flights mostly depart from 8-9am\n",
    "- Short haul flights mostly depart from 5-6pm"
   ]
  },
  {
   "cell_type": "code",
   "execution_count": null,
   "metadata": {},
   "outputs": [],
   "source": []
  },
  {
   "cell_type": "markdown",
   "metadata": {},
   "source": [
    "#### **Task 9**: Find the top 10 the bussiest airports. Does the biggest number of flights mean that the biggest number of passengers went through the particular airport? How much traffic do these 10 airports cover?"
   ]
  },
  {
   "cell_type": "code",
   "execution_count": null,
   "metadata": {},
   "outputs": [],
   "source": []
  },
  {
   "cell_type": "code",
   "execution_count": null,
   "metadata": {},
   "outputs": [],
   "source": []
  },
  {
   "cell_type": "markdown",
   "metadata": {},
   "source": [
    "#### **Task 10**: Do bigger delays lead to bigger fuel comsumption per passenger? \n",
    "We need to do four things to answer this as accurate as possible:\n",
    "- Find out average monthly delay per air carrier (monthly delay is sum of all delays in 1 month)\n",
    "- Find out distance covered monthly by different air carriers\n",
    "- Find out number of passengers that were carried by different air carriers\n",
    "- Find out total fuel comsumption per air carrier.\n",
    "\n",
    "Use this information to get the average fuel comsumption per passenger per km. Is this higher for the airlines with bigger average delays?"
   ]
  },
  {
   "cell_type": "code",
   "execution_count": null,
   "metadata": {},
   "outputs": [],
   "source": []
  },
  {
   "cell_type": "code",
   "execution_count": null,
   "metadata": {},
   "outputs": [],
   "source": []
  }
 ],
 "metadata": {
  "kernelspec": {
   "display_name": "Python 3",
   "language": "python",
   "name": "python3"
  },
  "language_info": {
   "codemirror_mode": {
    "name": "ipython",
    "version": 3
   },
   "file_extension": ".py",
   "mimetype": "text/x-python",
   "name": "python",
   "nbconvert_exporter": "python",
   "pygments_lexer": "ipython3",
   "version": "3.8.3"
  },
  "toc": {
   "base_numbering": 1,
   "nav_menu": {},
   "number_sections": true,
   "sideBar": true,
   "skip_h1_title": false,
   "title_cell": "Table of Contents",
   "title_sidebar": "Contents",
   "toc_cell": false,
   "toc_position": {},
   "toc_section_display": true,
   "toc_window_display": false
  },
  "varInspector": {
   "cols": {
    "lenName": 16,
    "lenType": 16,
    "lenVar": 40
   },
   "kernels_config": {
    "python": {
     "delete_cmd_postfix": "",
     "delete_cmd_prefix": "del ",
     "library": "var_list.py",
     "varRefreshCmd": "print(var_dic_list())"
    },
    "r": {
     "delete_cmd_postfix": ") ",
     "delete_cmd_prefix": "rm(",
     "library": "var_list.r",
     "varRefreshCmd": "cat(var_dic_list()) "
    }
   },
   "types_to_exclude": [
    "module",
    "function",
    "builtin_function_or_method",
    "instance",
    "_Feature"
   ],
   "window_display": false
  }
 },
 "nbformat": 4,
 "nbformat_minor": 4
}
